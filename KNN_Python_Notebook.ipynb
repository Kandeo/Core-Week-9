{
  "nbformat": 4,
  "nbformat_minor": 0,
  "metadata": {
    "colab": {
      "name": "KNN Python Notebook",
      "provenance": [],
      "collapsed_sections": [],
      "authorship_tag": "ABX9TyPIn8hYcK3YT5+5CC2BNhD+",
      "include_colab_link": true
    },
    "kernelspec": {
      "name": "python3",
      "display_name": "Python 3"
    },
    "language_info": {
      "name": "python"
    }
  },
  "cells": [
    {
      "cell_type": "markdown",
      "metadata": {
        "id": "view-in-github",
        "colab_type": "text"
      },
      "source": [
        "<a href=\"https://colab.research.google.com/github/Kandeo/Core-Week-9/blob/main/KNN_Python_Notebook.ipynb\" target=\"_parent\"><img src=\"https://colab.research.google.com/assets/colab-badge.svg\" alt=\"Open In Colab\"/></a>"
      ]
    },
    {
      "cell_type": "markdown",
      "metadata": {
        "id": "RMAnFYdbqeS8"
      },
      "source": [
        "# **Titanic Survival Predictive Model**\n",
        "\n",
        "**Overview** \n",
        "\n",
        "This project involves implementing a KNN classifier to predict survival on the Titanic. Once the experiment is conducted, the resulting metrics are to be calculated.\n",
        "\n",
        "Experimental Procedure:\n",
        "\n",
        "1. Downloading the dataset.\n",
        "2. Randomly partitioning the dataset into two parts; 80-20 sets.\n",
        "3. Computing the accuracy (percentage of correct classification).\n",
        "4. Reporting the confusion matrix of the classifier.\n",
        "5. Repeating step 2 to step 4 twice, each time splitting the dataset differently i.e. 70-30, 60-40, then noting the outcomes of the modeling.\n",
        "6. Suggesting and applying at least one of the optimization techniques learned.\n",
        "7. Providing further recommendations to improve the classifier.\n",
        "\n",
        "Dataset: https://archive.org/download/train5_202002/train%20%285%29.csv "
      ]
    },
    {
      "cell_type": "markdown",
      "metadata": {
        "id": "bnZ9PzoVuqpi"
      },
      "source": [
        "# **Defining the Question**"
      ]
    },
    {
      "cell_type": "markdown",
      "metadata": {
        "id": "v-TgEWuUuxpD"
      },
      "source": [
        "**Specific Data Analytics Question**"
      ]
    },
    {
      "cell_type": "markdown",
      "metadata": {
        "id": "dUhM_b-du4we"
      },
      "source": [
        "Building a KNN model that determines whether a person survived the Titanic given the information provided.\n"
      ]
    },
    {
      "cell_type": "markdown",
      "metadata": {
        "id": "q5xt5fNIvbgO"
      },
      "source": [
        "**Metrics for success**"
      ]
    },
    {
      "cell_type": "markdown",
      "metadata": {
        "id": "OKrAV6O0qPY-"
      },
      "source": [
        "The percentage of passengers and crew members that are correctly predicted as Survived or not should be 70% and above."
      ]
    },
    {
      "cell_type": "markdown",
      "metadata": {
        "id": "7At8TvEuv92c"
      },
      "source": [
        "**Understanding the Context**"
      ]
    },
    {
      "cell_type": "markdown",
      "metadata": {
        "id": "J3-GOI45rmat"
      },
      "source": [
        "The sinking of the Titanic is one of the most infamous shipwrecks in history. Titanic set sail from Southampton on her maiden voyage on Wednesday 10 April, 1912, calling at Cherbourg in France and Queenstown in southern Ireland before heading out across the Atlantic, on course for New York. In the early hours of April 15 1912 she struck an iceberg and was holed below the waterline. Less than three hours later she sank.\n",
        "\n",
        "Unfortunately, there weren’t enough lifeboats for everyone onboard, resulting in the death of more than 1,500 out of about 2,240 passengers and crew. About 706 people were rescued. While there was some element of luck involved in surviving, it seems some groups of people were more likely to survive than others.The predictive model seeks to establish what sorts of people were more likely to survive the sink using passengers data{ Name, Age, Gender, Class}\n"
      ]
    },
    {
      "cell_type": "markdown",
      "metadata": {
        "id": "PUiG-AOzxUUr"
      },
      "source": [
        "**Experimental Design**"
      ]
    },
    {
      "cell_type": "markdown",
      "metadata": {
        "id": "RtSmlkgzxXxf"
      },
      "source": [
        "1. Data Preparation\n",
        " - Loading Dependencies\n",
        " - Data Uniformity\n",
        " - Handling missing/duplicate values\n",
        " - Checking Outliers\n",
        "3. Exploratory Data Analysis\n",
        " - Univariate analysis\n",
        " - Bivariate analysis\n",
        "4. Modelling\n",
        " - Instantiating the Classifier\n",
        " - Performance evaluation\n",
        " - Hyperparameter optimization\n",
        " - Prediction\n",
        "5. Performance Analysis\n",
        " - Assessing accuracy\n",
        " - Conclusions"
      ]
    },
    {
      "cell_type": "markdown",
      "source": [
        "**Data Relevance**"
      ],
      "metadata": {
        "id": "QUiAijRCV3np"
      }
    },
    {
      "cell_type": "markdown",
      "source": [
        "- **PassengerId** ~ Passenger's Id Number\n",
        "- **Survived** ~ 0= Did not Survive, 1= Survived\n",
        "- **PClass** ~ Ticket class: 1= First Class, 2= Second Class, 3= Third Class\n",
        "- **Name** ~ Name of the passenger\n",
        "- **Sex** ~ Male or Female\n",
        "- **Age** ~ Age in years\n",
        "- **SibSp** ~ Number of Siblings or Spouses aboard the Titanic\n",
        "- **Parch** ~ Number of Parents or Children aboard\n",
        "- **Ticket** ~ Passenger's ticket number\n",
        "- **Fare** ~ Passenger's fare\n",
        "- **Cabin** ~ Cabin number\n",
        "- **Embarked** ~ Embarking point: C= Cherbourg, Q= Queenstown, S= Southampton\n"
      ],
      "metadata": {
        "id": "lMnGtmqKVzwc"
      }
    },
    {
      "cell_type": "markdown",
      "metadata": {
        "id": "M4yZGIHO0qRZ"
      },
      "source": [
        "# **Data Preparation**"
      ]
    },
    {
      "cell_type": "markdown",
      "metadata": {
        "id": "pe3DJ9XQJ4z7"
      },
      "source": [
        "Loading dependencies"
      ]
    },
    {
      "cell_type": "code",
      "metadata": {
        "id": "G1lLWPMJ55_t"
      },
      "source": [
        "#Importing libraries:\n",
        "\n",
        "#1. Data wrangling and visualization:\n",
        "import pandas as pd \n",
        "import numpy as np      \n",
        "import seaborn as sns   \n",
        "import matplotlib.pyplot as plt\n",
        "\n",
        "#2. Machine Learning Models:\n",
        "from sklearn.neighbors import KNeighborsClassifier\n",
        "from sklearn.linear_model import LogisticRegression\n",
        "from sklearn.model_selection import train_test_split, GridSearchCV, RandomizedSearchCV\n",
        "from sklearn.preprocessing import StandardScaler, LabelEncoder\n",
        "\n",
        "#3. Model Evaluation:\n",
        "from sklearn.metrics import classification_report, confusion_matrix, f1_score, precision_score, recall_score\n",
        "\n",
        "#4. Removing Warnings:\n",
        "import warnings\n",
        "warnings.filterwarnings(\"ignore\")\n"
      ],
      "execution_count": 1,
      "outputs": []
    },
    {
      "cell_type": "markdown",
      "metadata": {
        "id": "25YfqoDtKbBD"
      },
      "source": [
        "Loading the Dataset"
      ]
    },
    {
      "cell_type": "code",
      "metadata": {
        "colab": {
          "base_uri": "https://localhost:8080/",
          "height": 210
        },
        "id": "dRDd5bta3bBR",
        "outputId": "b8799a09-2df3-41ad-b2a2-c3b5d8f166f5"
      },
      "source": [
        "#Loading the data from the csv to Pandas dataframe:\n",
        "Titanic = pd.read_csv('train (5).csv')\n",
        "\n",
        "#Printing the first 4 rows of the dataframe:\n",
        "Titanic.head(4)\n"
      ],
      "execution_count": 2,
      "outputs": [
        {
          "output_type": "execute_result",
          "data": {
            "text/html": [
              "<div>\n",
              "<style scoped>\n",
              "    .dataframe tbody tr th:only-of-type {\n",
              "        vertical-align: middle;\n",
              "    }\n",
              "\n",
              "    .dataframe tbody tr th {\n",
              "        vertical-align: top;\n",
              "    }\n",
              "\n",
              "    .dataframe thead th {\n",
              "        text-align: right;\n",
              "    }\n",
              "</style>\n",
              "<table border=\"1\" class=\"dataframe\">\n",
              "  <thead>\n",
              "    <tr style=\"text-align: right;\">\n",
              "      <th></th>\n",
              "      <th>PassengerId</th>\n",
              "      <th>Survived</th>\n",
              "      <th>Pclass</th>\n",
              "      <th>Name</th>\n",
              "      <th>Sex</th>\n",
              "      <th>Age</th>\n",
              "      <th>SibSp</th>\n",
              "      <th>Parch</th>\n",
              "      <th>Ticket</th>\n",
              "      <th>Fare</th>\n",
              "      <th>Cabin</th>\n",
              "      <th>Embarked</th>\n",
              "    </tr>\n",
              "  </thead>\n",
              "  <tbody>\n",
              "    <tr>\n",
              "      <th>0</th>\n",
              "      <td>1</td>\n",
              "      <td>0</td>\n",
              "      <td>3</td>\n",
              "      <td>Braund, Mr. Owen Harris</td>\n",
              "      <td>male</td>\n",
              "      <td>22.0</td>\n",
              "      <td>1</td>\n",
              "      <td>0</td>\n",
              "      <td>A/5 21171</td>\n",
              "      <td>7.2500</td>\n",
              "      <td>NaN</td>\n",
              "      <td>S</td>\n",
              "    </tr>\n",
              "    <tr>\n",
              "      <th>1</th>\n",
              "      <td>2</td>\n",
              "      <td>1</td>\n",
              "      <td>1</td>\n",
              "      <td>Cumings, Mrs. John Bradley (Florence Briggs Th...</td>\n",
              "      <td>female</td>\n",
              "      <td>38.0</td>\n",
              "      <td>1</td>\n",
              "      <td>0</td>\n",
              "      <td>PC 17599</td>\n",
              "      <td>71.2833</td>\n",
              "      <td>C85</td>\n",
              "      <td>C</td>\n",
              "    </tr>\n",
              "    <tr>\n",
              "      <th>2</th>\n",
              "      <td>3</td>\n",
              "      <td>1</td>\n",
              "      <td>3</td>\n",
              "      <td>Heikkinen, Miss. Laina</td>\n",
              "      <td>female</td>\n",
              "      <td>26.0</td>\n",
              "      <td>0</td>\n",
              "      <td>0</td>\n",
              "      <td>STON/O2. 3101282</td>\n",
              "      <td>7.9250</td>\n",
              "      <td>NaN</td>\n",
              "      <td>S</td>\n",
              "    </tr>\n",
              "    <tr>\n",
              "      <th>3</th>\n",
              "      <td>4</td>\n",
              "      <td>1</td>\n",
              "      <td>1</td>\n",
              "      <td>Futrelle, Mrs. Jacques Heath (Lily May Peel)</td>\n",
              "      <td>female</td>\n",
              "      <td>35.0</td>\n",
              "      <td>1</td>\n",
              "      <td>0</td>\n",
              "      <td>113803</td>\n",
              "      <td>53.1000</td>\n",
              "      <td>C123</td>\n",
              "      <td>S</td>\n",
              "    </tr>\n",
              "  </tbody>\n",
              "</table>\n",
              "</div>"
            ],
            "text/plain": [
              "   PassengerId  Survived  Pclass  ...     Fare Cabin  Embarked\n",
              "0            1         0       3  ...   7.2500   NaN         S\n",
              "1            2         1       1  ...  71.2833   C85         C\n",
              "2            3         1       3  ...   7.9250   NaN         S\n",
              "3            4         1       1  ...  53.1000  C123         S\n",
              "\n",
              "[4 rows x 12 columns]"
            ]
          },
          "metadata": {},
          "execution_count": 2
        }
      ]
    },
    {
      "cell_type": "code",
      "metadata": {
        "colab": {
          "base_uri": "https://localhost:8080/"
        },
        "id": "soBZv4I_7ZWj",
        "outputId": "a03f7e74-05fd-4ade-c58e-6a4dabb958a3"
      },
      "source": [
        "#Checking the number of rows and columns:\n",
        "Titanic.shape\n"
      ],
      "execution_count": 3,
      "outputs": [
        {
          "output_type": "execute_result",
          "data": {
            "text/plain": [
              "(891, 12)"
            ]
          },
          "metadata": {},
          "execution_count": 3
        }
      ]
    },
    {
      "cell_type": "markdown",
      "source": [
        "Data Uniformity"
      ],
      "metadata": {
        "id": "cKzxKYOFcG-R"
      }
    },
    {
      "cell_type": "code",
      "source": [
        "#Getting information about the data:\n",
        "Titanic.info()\n"
      ],
      "metadata": {
        "colab": {
          "base_uri": "https://localhost:8080/"
        },
        "id": "X40mxMEuEttp",
        "outputId": "63e5b96f-6be7-4abe-c87c-c18323f0ef0b"
      },
      "execution_count": 4,
      "outputs": [
        {
          "output_type": "stream",
          "name": "stdout",
          "text": [
            "<class 'pandas.core.frame.DataFrame'>\n",
            "RangeIndex: 891 entries, 0 to 890\n",
            "Data columns (total 12 columns):\n",
            " #   Column       Non-Null Count  Dtype  \n",
            "---  ------       --------------  -----  \n",
            " 0   PassengerId  891 non-null    int64  \n",
            " 1   Survived     891 non-null    int64  \n",
            " 2   Pclass       891 non-null    int64  \n",
            " 3   Name         891 non-null    object \n",
            " 4   Sex          891 non-null    object \n",
            " 5   Age          714 non-null    float64\n",
            " 6   SibSp        891 non-null    int64  \n",
            " 7   Parch        891 non-null    int64  \n",
            " 8   Ticket       891 non-null    object \n",
            " 9   Fare         891 non-null    float64\n",
            " 10  Cabin        204 non-null    object \n",
            " 11  Embarked     889 non-null    object \n",
            "dtypes: float64(2), int64(5), object(5)\n",
            "memory usage: 83.7+ KB\n"
          ]
        }
      ]
    },
    {
      "cell_type": "markdown",
      "metadata": {
        "id": "vSZHWjU2GU6p"
      },
      "source": [
        "Missing Values"
      ]
    },
    {
      "cell_type": "code",
      "metadata": {
        "colab": {
          "base_uri": "https://localhost:8080/"
        },
        "id": "Ob8wm7DvBXpY",
        "outputId": "9342ad34-89c4-4ee7-f6e5-b875a001708f"
      },
      "source": [
        "#Checking for null entries in each column:\n",
        "Titanic.isnull().sum().sort_values(ascending = False)\n"
      ],
      "execution_count": 5,
      "outputs": [
        {
          "output_type": "execute_result",
          "data": {
            "text/plain": [
              "Cabin          687\n",
              "Age            177\n",
              "Embarked         2\n",
              "Fare             0\n",
              "Ticket           0\n",
              "Parch            0\n",
              "SibSp            0\n",
              "Sex              0\n",
              "Name             0\n",
              "Pclass           0\n",
              "Survived         0\n",
              "PassengerId      0\n",
              "dtype: int64"
            ]
          },
          "metadata": {},
          "execution_count": 5
        }
      ]
    },
    {
      "cell_type": "markdown",
      "source": [
        "Handling Missing Values"
      ],
      "metadata": {
        "id": "c7g36DkfFPl_"
      }
    },
    {
      "cell_type": "code",
      "source": [
        "#1. Cabin\n",
        "#Since 77% of the data in this column is missing, the column is dropped:\n",
        "Titanic = Titanic.drop(columns = 'Cabin', axis = 1)\n",
        "Titanic.head(4)\n"
      ],
      "metadata": {
        "colab": {
          "base_uri": "https://localhost:8080/",
          "height": 174
        },
        "id": "J7zFnU1oGCDl",
        "outputId": "634ae0e5-d97e-4049-86d6-46dfdb01248f"
      },
      "execution_count": 6,
      "outputs": [
        {
          "output_type": "execute_result",
          "data": {
            "text/html": [
              "<div>\n",
              "<style scoped>\n",
              "    .dataframe tbody tr th:only-of-type {\n",
              "        vertical-align: middle;\n",
              "    }\n",
              "\n",
              "    .dataframe tbody tr th {\n",
              "        vertical-align: top;\n",
              "    }\n",
              "\n",
              "    .dataframe thead th {\n",
              "        text-align: right;\n",
              "    }\n",
              "</style>\n",
              "<table border=\"1\" class=\"dataframe\">\n",
              "  <thead>\n",
              "    <tr style=\"text-align: right;\">\n",
              "      <th></th>\n",
              "      <th>PassengerId</th>\n",
              "      <th>Survived</th>\n",
              "      <th>Pclass</th>\n",
              "      <th>Name</th>\n",
              "      <th>Sex</th>\n",
              "      <th>Age</th>\n",
              "      <th>SibSp</th>\n",
              "      <th>Parch</th>\n",
              "      <th>Ticket</th>\n",
              "      <th>Fare</th>\n",
              "      <th>Embarked</th>\n",
              "    </tr>\n",
              "  </thead>\n",
              "  <tbody>\n",
              "    <tr>\n",
              "      <th>0</th>\n",
              "      <td>1</td>\n",
              "      <td>0</td>\n",
              "      <td>3</td>\n",
              "      <td>Braund, Mr. Owen Harris</td>\n",
              "      <td>male</td>\n",
              "      <td>22.0</td>\n",
              "      <td>1</td>\n",
              "      <td>0</td>\n",
              "      <td>A/5 21171</td>\n",
              "      <td>7.2500</td>\n",
              "      <td>S</td>\n",
              "    </tr>\n",
              "    <tr>\n",
              "      <th>1</th>\n",
              "      <td>2</td>\n",
              "      <td>1</td>\n",
              "      <td>1</td>\n",
              "      <td>Cumings, Mrs. John Bradley (Florence Briggs Th...</td>\n",
              "      <td>female</td>\n",
              "      <td>38.0</td>\n",
              "      <td>1</td>\n",
              "      <td>0</td>\n",
              "      <td>PC 17599</td>\n",
              "      <td>71.2833</td>\n",
              "      <td>C</td>\n",
              "    </tr>\n",
              "    <tr>\n",
              "      <th>2</th>\n",
              "      <td>3</td>\n",
              "      <td>1</td>\n",
              "      <td>3</td>\n",
              "      <td>Heikkinen, Miss. Laina</td>\n",
              "      <td>female</td>\n",
              "      <td>26.0</td>\n",
              "      <td>0</td>\n",
              "      <td>0</td>\n",
              "      <td>STON/O2. 3101282</td>\n",
              "      <td>7.9250</td>\n",
              "      <td>S</td>\n",
              "    </tr>\n",
              "    <tr>\n",
              "      <th>3</th>\n",
              "      <td>4</td>\n",
              "      <td>1</td>\n",
              "      <td>1</td>\n",
              "      <td>Futrelle, Mrs. Jacques Heath (Lily May Peel)</td>\n",
              "      <td>female</td>\n",
              "      <td>35.0</td>\n",
              "      <td>1</td>\n",
              "      <td>0</td>\n",
              "      <td>113803</td>\n",
              "      <td>53.1000</td>\n",
              "      <td>S</td>\n",
              "    </tr>\n",
              "  </tbody>\n",
              "</table>\n",
              "</div>"
            ],
            "text/plain": [
              "   PassengerId  Survived  Pclass  ...            Ticket     Fare  Embarked\n",
              "0            1         0       3  ...         A/5 21171   7.2500         S\n",
              "1            2         1       1  ...          PC 17599  71.2833         C\n",
              "2            3         1       3  ...  STON/O2. 3101282   7.9250         S\n",
              "3            4         1       1  ...            113803  53.1000         S\n",
              "\n",
              "[4 rows x 11 columns]"
            ]
          },
          "metadata": {},
          "execution_count": 6
        }
      ]
    },
    {
      "cell_type": "code",
      "source": [
        "#2. Age\n",
        "#Replacing the missing values in the column with the mean:\n",
        "Missing_Value = Titanic[['Age']].copy()\n",
        "for i in Missing_Value:\n",
        "  Titanic[i] = Titanic[i].fillna(Titanic[i].mean())\n"
      ],
      "metadata": {
        "id": "7eD0HF1dGj0A"
      },
      "execution_count": 7,
      "outputs": []
    },
    {
      "cell_type": "code",
      "source": [
        "#3. Embarked\n",
        "#Finding the mode of the column:\n",
        "Titanic['Embarked'].mode()    #The mode is S\n",
        "\n",
        "#Filling the 2 missing values with S:\n",
        "Titanic['Embarked'].fillna(Titanic['Embarked'].mode()[0], inplace = True)\n"
      ],
      "metadata": {
        "id": "yXQHh-NeHJbc"
      },
      "execution_count": 8,
      "outputs": []
    },
    {
      "cell_type": "code",
      "source": [
        "#Viewing the final information:\n",
        "Titanic.isnull().sum()\n"
      ],
      "metadata": {
        "colab": {
          "base_uri": "https://localhost:8080/"
        },
        "id": "bZse3TCtIeTa",
        "outputId": "6d81a653-1652-449e-e932-f7bb23f43fa2"
      },
      "execution_count": 9,
      "outputs": [
        {
          "output_type": "execute_result",
          "data": {
            "text/plain": [
              "PassengerId    0\n",
              "Survived       0\n",
              "Pclass         0\n",
              "Name           0\n",
              "Sex            0\n",
              "Age            0\n",
              "SibSp          0\n",
              "Parch          0\n",
              "Ticket         0\n",
              "Fare           0\n",
              "Embarked       0\n",
              "dtype: int64"
            ]
          },
          "metadata": {},
          "execution_count": 9
        }
      ]
    },
    {
      "cell_type": "markdown",
      "source": [
        "Duplicate Values"
      ],
      "metadata": {
        "id": "-yaNqKR4IlPh"
      }
    },
    {
      "cell_type": "code",
      "metadata": {
        "colab": {
          "base_uri": "https://localhost:8080/"
        },
        "id": "_IHFW-kUNBWu",
        "outputId": "7ca59495-ed5d-4dc6-8e39-a87ff3c03806"
      },
      "source": [
        "#Checking for duplicates:\n",
        "Titanic.duplicated().sum()    #no duplicates identified\n"
      ],
      "execution_count": 10,
      "outputs": [
        {
          "output_type": "execute_result",
          "data": {
            "text/plain": [
              "0"
            ]
          },
          "metadata": {},
          "execution_count": 10
        }
      ]
    },
    {
      "cell_type": "markdown",
      "metadata": {
        "id": "GzMxVvoMKkuz"
      },
      "source": [
        "Checking Outliers"
      ]
    },
    {
      "cell_type": "code",
      "source": [
        "#Plotting a boxplot on the Age, Fare, Sibsp and Parch columns to check for outliers:\n",
        "fig,axes=plt.subplots(1,4, figsize=(20,6))\n",
        "\n",
        "#Plotting the plots:\n",
        "sns.boxplot(Titanic.Age, color='y', ax=axes[0])\n",
        "sns.boxplot(Titanic.SibSp, color='y', ax=axes[1])\n",
        "sns.boxplot(Titanic.Parch, color='y', ax=axes[2])\n",
        "sns.boxplot(Titanic.Fare, color='y', ax=axes[3])\n",
        "axes[0].set_title('Boxplot on Age')\n",
        "axes[1].set_title('Boxplot on SibSp')\n",
        "axes[2].set_title('Boxplot on Parch')\n",
        "axes[3].set_title('Boxplot on Fare')\n",
        "plt.show()"
      ],
      "metadata": {
        "colab": {
          "base_uri": "https://localhost:8080/",
          "height": 398
        },
        "id": "wh7S31g7dX6d",
        "outputId": "3ad637c1-4540-4b13-adf7-f774cdbfd501"
      },
      "execution_count": 11,
      "outputs": [
        {
          "output_type": "display_data",
          "data": {
            "image/png": "[encoded data removed]",
            "text/plain": [
              "<Figure size 1440x432 with 4 Axes>"
            ]
          },
          "metadata": {
            "needs_background": "light"
          }
        }
      ]
    },
    {
      "cell_type": "markdown",
      "metadata": {
        "id": "VV9GrKxtYUTM"
      },
      "source": [
        "Since there's no basis to assume the entries are not valid observations, no outliers are dropped"
      ]
    },
    {
      "cell_type": "markdown",
      "metadata": {
        "id": "PUx4vSj-QjEB"
      },
      "source": [
        "# **Exploratory Data Analysis**"
      ]
    },
    {
      "cell_type": "markdown",
      "source": [
        "This analysis involves summarizing important characteristics and trends in the data to gain better understanding."
      ],
      "metadata": {
        "id": "syXZfurjb1ej"
      }
    },
    {
      "cell_type": "markdown",
      "metadata": {
        "id": "dDQxWCJxR9vV"
      },
      "source": [
        "1. **Univariate Analysis**"
      ]
    },
    {
      "cell_type": "markdown",
      "metadata": {
        "id": "jk2CtohOR5Ik"
      },
      "source": [
        "Describing the data in terms of:"
      ]
    },
    {
      "cell_type": "markdown",
      "metadata": {
        "id": "A-7_3m6mbEIo"
      },
      "source": [
        " - Survival Ratio"
      ]
    },
    {
      "cell_type": "code",
      "metadata": {
        "colab": {
          "base_uri": "https://localhost:8080/",
          "height": 320
        },
        "id": "FTlK0GgNN0lG",
        "outputId": "9ac8ca7c-2976-4e77-f4fe-e50a8da622af"
      },
      "source": [
        "#Viewing the data in terms those who survived:\n",
        "Survive = Titanic['Survived'].value_counts()\n",
        "Survive\n",
        "# Those who did not survive[0]: 549    Those who survived[1]:  342\n",
        "\n",
        "#Visualizing the information on a pie chart:\n",
        "labels= ['Not survived','Survived']\n",
        "colors=['tan', 'moccasin']\n",
        "fontsize = 14\n",
        "plt.figure(figsize= (9, 5))\n",
        "plt.title(\"Survived Vs Not Survived\", fontsize = fontsize)\n",
        "plt.pie(Survive,labels=labels, colors=colors, startangle=180, shadow=True,explode=(0, 0.1), autopct='%1.2f%%')\n",
        "plt.axis('equal')\n",
        "plt.show()\n",
        "\n"
      ],
      "execution_count": 12,
      "outputs": [
        {
          "output_type": "display_data",
          "data": {
            "image/png": "[encoded data removed]",
            "text/plain": [
              "<Figure size 648x360 with 1 Axes>"
            ]
          },
          "metadata": {}
        }
      ]
    },
    {
      "cell_type": "markdown",
      "metadata": {
        "id": "TaB-WvIdmpt_"
      },
      "source": [
        "Only 38% of those aboard the Titanic survived the wreck."
      ]
    },
    {
      "cell_type": "markdown",
      "source": [
        " - Gender Distribution"
      ],
      "metadata": {
        "id": "AA7Mc3V-KAxj"
      }
    },
    {
      "cell_type": "code",
      "source": [
        "#To view gender distribution in the Titanic:\n",
        "Gender = Titanic.Sex.value_counts()\n",
        "Gender\n",
        "# Males: 577       Females: 314\n",
        "\n",
        "#Plotting observations:\n",
        "plt.figure(figsize= (7,5))\n",
        "fontsize = 14\n",
        "plt.title(\"Gender Distribution\", fontsize = fontsize)\n",
        "sns.barplot(x=Gender.index, y=Gender, palette='muted');\n"
      ],
      "metadata": {
        "colab": {
          "base_uri": "https://localhost:8080/",
          "height": 337
        },
        "id": "ui8W4U2jKD-8",
        "outputId": "79e96d2f-6065-4901-ccdd-bef3ef6d12f2"
      },
      "execution_count": 13,
      "outputs": [
        {
          "output_type": "display_data",
          "data": {
            "image/png": "[encoded data removed]",
            "text/plain": [
              "<Figure size 504x360 with 1 Axes>"
            ]
          },
          "metadata": {
            "needs_background": "light"
          }
        }
      ]
    },
    {
      "cell_type": "markdown",
      "source": [
        "577 out of the 891 passengers were males."
      ],
      "metadata": {
        "id": "7SU0wHPVk5gy"
      }
    },
    {
      "cell_type": "markdown",
      "source": [
        " - P-Class distribution"
      ],
      "metadata": {
        "id": "KFK9_yIsM1lg"
      }
    },
    {
      "cell_type": "code",
      "source": [
        "#Viewing the data in terms of the Passenger Class:\n",
        "Class = Titanic.Pclass.value_counts()\n",
        "Class\n",
        "# 3: 491       1: 216       2: 184\n",
        "\n",
        "#Plotting observations:\n",
        "plt.figure(figsize= (7,5))\n",
        "fontsize = 14\n",
        "plt.title(\"Passenger Class Distribution\", fontsize = fontsize)\n",
        "sns.barplot(x=Class.index, y=Class, palette='coolwarm');\n"
      ],
      "metadata": {
        "colab": {
          "base_uri": "https://localhost:8080/",
          "height": 337
        },
        "id": "1FQYw717M1Jp",
        "outputId": "85cca00f-95e5-4535-9709-8c7cd6f2d714"
      },
      "execution_count": 14,
      "outputs": [
        {
          "output_type": "display_data",
          "data": {
            "image/png": "[encoded data removed]",
            "text/plain": [
              "<Figure size 504x360 with 1 Axes>"
            ]
          },
          "metadata": {
            "needs_background": "light"
          }
        }
      ]
    },
    {
      "cell_type": "markdown",
      "source": [
        "3rd class had the highest number of passengers. This can be attributed to the fare affordability."
      ],
      "metadata": {
        "id": "lIbm9V4m0fbT"
      }
    },
    {
      "cell_type": "markdown",
      "metadata": {
        "id": "RDVPAMkNbNcq"
      },
      "source": [
        " - Age Distribution"
      ]
    },
    {
      "cell_type": "code",
      "metadata": {
        "colab": {
          "base_uri": "https://localhost:8080/",
          "height": 459
        },
        "id": "D2OaJ5bYM5qS",
        "outputId": "4c795ed0-eb29-4db4-c10b-c2ec84bdb5bc"
      },
      "source": [
        "#Viewing the age distribution of passengers:\n",
        "plt.figure(figsize= (17, 7))\n",
        "fontsize = 14\n",
        "plt.title('Age Distribution', fontsize = fontsize)\n",
        "plt.xlabel('Age')\n",
        "plt.ylabel('Frequency')\n",
        "plt.hist(Titanic.Age, bins= np.arange(0, 80, 2), color='moccasin', edgecolor='white');\n"
      ],
      "execution_count": 15,
      "outputs": [
        {
          "output_type": "display_data",
          "data": {
            "image/png": "[encoded data removed]",
            "text/plain": [
              "<Figure size 1224x504 with 1 Axes>"
            ]
          },
          "metadata": {
            "needs_background": "light"
          }
        }
      ]
    },
    {
      "cell_type": "markdown",
      "metadata": {
        "id": "POE7Z99AqYJw"
      },
      "source": [
        "Majority of those aboard the ship aged between 28 to 30 years."
      ]
    },
    {
      "cell_type": "markdown",
      "metadata": {
        "id": "GZFvX0fcWzB0"
      },
      "source": [
        " -  Distribution of Sibsp"
      ]
    },
    {
      "cell_type": "code",
      "metadata": {
        "colab": {
          "base_uri": "https://localhost:8080/",
          "height": 337
        },
        "id": "e8Fe-_x9VFOG",
        "outputId": "e4628133-9cf7-43ca-d601-493484030a4e"
      },
      "source": [
        "#To find out if majority had siblings and spouses on board:\n",
        "Sibsp = Titanic['SibSp'].value_counts(normalize=True)*100\n",
        "Sibsp\n",
        "\n",
        "#Plotting observations:\n",
        "plt.figure(figsize= (7,5))\n",
        "fontsize = 14\n",
        "plt.title(\"Siblings and Spouse Distribution\", fontsize = fontsize)\n",
        "sns.barplot(x=Sibsp.index, y=Sibsp, palette='coolwarm');\n"
      ],
      "execution_count": 16,
      "outputs": [
        {
          "output_type": "display_data",
          "data": {
            "image/png": "[encoded data removed]",
            "text/plain": [
              "<Figure size 504x360 with 1 Axes>"
            ]
          },
          "metadata": {
            "needs_background": "light"
          }
        }
      ]
    },
    {
      "cell_type": "markdown",
      "source": [
        "Most had no siblings or spouses on board. They were travelling alone."
      ],
      "metadata": {
        "id": "Lwk8x4lF2N8E"
      }
    },
    {
      "cell_type": "markdown",
      "metadata": {
        "id": "V2WWkUNUROm5"
      },
      "source": [
        " - Parch Distribution"
      ]
    },
    {
      "cell_type": "code",
      "metadata": {
        "colab": {
          "base_uri": "https://localhost:8080/",
          "height": 337
        },
        "id": "Qbi7KwSIIJP_",
        "outputId": "c8309094-d95c-48be-94d5-27663eb8478a"
      },
      "source": [
        "#To find those who had parents and children on board:\n",
        "Parch = Titanic['Parch'].value_counts(normalize=True)*100\n",
        "Parch\n",
        "\n",
        "#Plotting observations:\n",
        "plt.figure(figsize= (7,5))\n",
        "fontsize = 14\n",
        "plt.title(\"Parents and Children Distribution\", fontsize = fontsize)\n",
        "sns.barplot(x=Parch.index, y=Parch, palette='coolwarm');\n"
      ],
      "execution_count": 17,
      "outputs": [
        {
          "output_type": "display_data",
          "data": {
            "image/png": "[encoded data removed]",
            "text/plain": [
              "<Figure size 504x360 with 1 Axes>"
            ]
          },
          "metadata": {
            "needs_background": "light"
          }
        }
      ]
    },
    {
      "cell_type": "markdown",
      "source": [
        "Most were alone. They did not have children or parents on board"
      ],
      "metadata": {
        "id": "DQ4zWlUt293A"
      }
    },
    {
      "cell_type": "markdown",
      "metadata": {
        "id": "Emt2WFptSVl-"
      },
      "source": [
        " - Popular Embarkation port"
      ]
    },
    {
      "cell_type": "code",
      "metadata": {
        "colab": {
          "base_uri": "https://localhost:8080/",
          "height": 337
        },
        "id": "RLs5nUBkIRkt",
        "outputId": "67f9d61b-ab2f-4701-af00-573c3a617d08"
      },
      "source": [
        "#To find which port had the most number of passengers:\n",
        "Embark = Titanic['Embarked'].value_counts(normalize=True)*100\n",
        "Embark\n",
        "\n",
        "#Plotting observations:\n",
        "plt.figure(figsize= (7,5))\n",
        "fontsize = 14\n",
        "plt.title(\"Ports of Embarkation\", fontsize = fontsize)\n",
        "sns.barplot(x=Embark.index, y=Embark, palette='coolwarm');"
      ],
      "execution_count": 18,
      "outputs": [
        {
          "output_type": "display_data",
          "data": {
            "image/png": "[encoded data removed]",
            "text/plain": [
              "<Figure size 504x360 with 1 Axes>"
            ]
          },
          "metadata": {
            "needs_background": "light"
          }
        }
      ]
    },
    {
      "cell_type": "markdown",
      "source": [
        "Majority of the passengers embarked at city S -Southampton.\n",
        "\n",
        "According to history, the Titanic  departed from Southampton on 10 April 1912, then stopped at Cherbourg France, and Queenstown Ireland, before heading west towards New York.\n",
        "\n",
        "Being the departure point, majority of the passengers must have boarded from that point."
      ],
      "metadata": {
        "id": "80yWerd93S6u"
      }
    },
    {
      "cell_type": "code",
      "source": [
        "#Descriptive Summary of the numerical variables:\n",
        "Titanic.describe()"
      ],
      "metadata": {
        "colab": {
          "base_uri": "https://localhost:8080/",
          "height": 300
        },
        "id": "VfOsJv0CJDqr",
        "outputId": "9a2ac54f-239a-4fa0-d137-7267e490fdeb"
      },
      "execution_count": null,
      "outputs": [
        {
          "output_type": "execute_result",
          "data": {
            "text/html": [
              "<div>\n",
              "<style scoped>\n",
              "    .dataframe tbody tr th:only-of-type {\n",
              "        vertical-align: middle;\n",
              "    }\n",
              "\n",
              "    .dataframe tbody tr th {\n",
              "        vertical-align: top;\n",
              "    }\n",
              "\n",
              "    .dataframe thead th {\n",
              "        text-align: right;\n",
              "    }\n",
              "</style>\n",
              "<table border=\"1\" class=\"dataframe\">\n",
              "  <thead>\n",
              "    <tr style=\"text-align: right;\">\n",
              "      <th></th>\n",
              "      <th>PassengerId</th>\n",
              "      <th>Survived</th>\n",
              "      <th>Pclass</th>\n",
              "      <th>Age</th>\n",
              "      <th>SibSp</th>\n",
              "      <th>Parch</th>\n",
              "      <th>Fare</th>\n",
              "    </tr>\n",
              "  </thead>\n",
              "  <tbody>\n",
              "    <tr>\n",
              "      <th>count</th>\n",
              "      <td>891.000000</td>\n",
              "      <td>891.000000</td>\n",
              "      <td>891.000000</td>\n",
              "      <td>891.000000</td>\n",
              "      <td>891.000000</td>\n",
              "      <td>891.000000</td>\n",
              "      <td>891.000000</td>\n",
              "    </tr>\n",
              "    <tr>\n",
              "      <th>mean</th>\n",
              "      <td>446.000000</td>\n",
              "      <td>0.383838</td>\n",
              "      <td>2.308642</td>\n",
              "      <td>29.699118</td>\n",
              "      <td>0.523008</td>\n",
              "      <td>0.381594</td>\n",
              "      <td>32.204208</td>\n",
              "    </tr>\n",
              "    <tr>\n",
              "      <th>std</th>\n",
              "      <td>257.353842</td>\n",
              "      <td>0.486592</td>\n",
              "      <td>0.836071</td>\n",
              "      <td>13.002015</td>\n",
              "      <td>1.102743</td>\n",
              "      <td>0.806057</td>\n",
              "      <td>49.693429</td>\n",
              "    </tr>\n",
              "    <tr>\n",
              "      <th>min</th>\n",
              "      <td>1.000000</td>\n",
              "      <td>0.000000</td>\n",
              "      <td>1.000000</td>\n",
              "      <td>0.420000</td>\n",
              "      <td>0.000000</td>\n",
              "      <td>0.000000</td>\n",
              "      <td>0.000000</td>\n",
              "    </tr>\n",
              "    <tr>\n",
              "      <th>25%</th>\n",
              "      <td>223.500000</td>\n",
              "      <td>0.000000</td>\n",
              "      <td>2.000000</td>\n",
              "      <td>22.000000</td>\n",
              "      <td>0.000000</td>\n",
              "      <td>0.000000</td>\n",
              "      <td>7.910400</td>\n",
              "    </tr>\n",
              "    <tr>\n",
              "      <th>50%</th>\n",
              "      <td>446.000000</td>\n",
              "      <td>0.000000</td>\n",
              "      <td>3.000000</td>\n",
              "      <td>29.699118</td>\n",
              "      <td>0.000000</td>\n",
              "      <td>0.000000</td>\n",
              "      <td>14.454200</td>\n",
              "    </tr>\n",
              "    <tr>\n",
              "      <th>75%</th>\n",
              "      <td>668.500000</td>\n",
              "      <td>1.000000</td>\n",
              "      <td>3.000000</td>\n",
              "      <td>35.000000</td>\n",
              "      <td>1.000000</td>\n",
              "      <td>0.000000</td>\n",
              "      <td>31.000000</td>\n",
              "    </tr>\n",
              "    <tr>\n",
              "      <th>max</th>\n",
              "      <td>891.000000</td>\n",
              "      <td>1.000000</td>\n",
              "      <td>3.000000</td>\n",
              "      <td>80.000000</td>\n",
              "      <td>8.000000</td>\n",
              "      <td>6.000000</td>\n",
              "      <td>512.329200</td>\n",
              "    </tr>\n",
              "  </tbody>\n",
              "</table>\n",
              "</div>"
            ],
            "text/plain": [
              "       PassengerId    Survived      Pclass  ...       SibSp       Parch        Fare\n",
              "count   891.000000  891.000000  891.000000  ...  891.000000  891.000000  891.000000\n",
              "mean    446.000000    0.383838    2.308642  ...    0.523008    0.381594   32.204208\n",
              "std     257.353842    0.486592    0.836071  ...    1.102743    0.806057   49.693429\n",
              "min       1.000000    0.000000    1.000000  ...    0.000000    0.000000    0.000000\n",
              "25%     223.500000    0.000000    2.000000  ...    0.000000    0.000000    7.910400\n",
              "50%     446.000000    0.000000    3.000000  ...    0.000000    0.000000   14.454200\n",
              "75%     668.500000    1.000000    3.000000  ...    1.000000    0.000000   31.000000\n",
              "max     891.000000    1.000000    3.000000  ...    8.000000    6.000000  512.329200\n",
              "\n",
              "[8 rows x 7 columns]"
            ]
          },
          "metadata": {},
          "execution_count": 22
        }
      ]
    },
    {
      "cell_type": "markdown",
      "source": [
        "**Observations:**\n",
        "- From the descriptive summary, feature scaling during model training is necessary due to the different ranges in the mean of the independent varibles.\n",
        "- Finding out the relationship between Survival and Age, Class and Gender will help in feature selection."
      ],
      "metadata": {
        "id": "765x_Qur76Pd"
      }
    },
    {
      "cell_type": "markdown",
      "metadata": {
        "id": "mGexxM8uaUx8"
      },
      "source": [
        "2. **Bivariate Analysis**"
      ]
    },
    {
      "cell_type": "markdown",
      "metadata": {
        "id": "AAgqUyXekjwU"
      },
      "source": [
        "This analysis aims to determine whether a statistical association exists between any two given variables."
      ]
    },
    {
      "cell_type": "markdown",
      "metadata": {
        "id": "T72TleMPk92O"
      },
      "source": [
        " - Correlation Test"
      ]
    },
    {
      "cell_type": "code",
      "metadata": {
        "colab": {
          "base_uri": "https://localhost:8080/",
          "height": 499
        },
        "id": "uUDZ51XCksOG",
        "outputId": "3ff0713a-c03b-43b7-dd46-28410e32076f"
      },
      "source": [
        "#To check for correlation between the variables:\n",
        "plt.figure(figsize = (16, 8))\n",
        "Corr = Titanic.corr()\n",
        "sns.heatmap(Corr, cmap = 'Greys', annot = True)\n",
        "plt.title('CORRELATION MATRIX', y=1.5)\n",
        "plt.show()\n"
      ],
      "execution_count": 41,
      "outputs": [
        {
          "output_type": "display_data",
          "data": {
            "image/png": "[encoded data removed]",
            "text/plain": [
              "<Figure size 1152x576 with 2 Axes>"
            ]
          },
          "metadata": {
            "needs_background": "light"
          }
        }
      ]
    },
    {
      "cell_type": "markdown",
      "source": [
        "From the matrix:\n",
        "- Fare has a negative correlation with Pclass.\n",
        "- The target column has a negative relationship with Sibp, Age and P-class\n",
        "- Fare has a positive relationship with most of the attributes.\n",
        "\n"
      ],
      "metadata": {
        "id": "64tbI-jR8qm_"
      }
    },
    {
      "cell_type": "markdown",
      "source": [
        " - Survival and Passenger Class"
      ],
      "metadata": {
        "id": "LcUwDNtv-EKC"
      }
    },
    {
      "cell_type": "code",
      "source": [
        "#To view survivors based on the passenger class:\n",
        "plt.figure(figsize= (7,6))\n",
        "fontsize = 14\n",
        "plt.title(\"Survial by Passenger Class\", fontsize = fontsize)\n",
        "sns.countplot('Pclass', hue = 'Survived', data = Titanic); "
      ],
      "metadata": {
        "colab": {
          "base_uri": "https://localhost:8080/",
          "height": 405
        },
        "id": "Fnd-1YO_-JjV",
        "outputId": "8ea5a505-70c9-4695-f9c1-d8566a26036f"
      },
      "execution_count": 49,
      "outputs": [
        {
          "output_type": "display_data",
          "data": {
            "image/png": "[encoded data removed]",
            "text/plain": [
              "<Figure size 504x432 with 1 Axes>"
            ]
          },
          "metadata": {
            "needs_background": "light"
          }
        }
      ]
    },
    {
      "cell_type": "markdown",
      "source": [
        "First class had the higest number of survivors while Third class had the highest number of deaths"
      ],
      "metadata": {
        "id": "RA-pDU8x-_MA"
      }
    },
    {
      "cell_type": "markdown",
      "metadata": {
        "id": "RidD78OnmJ2I"
      },
      "source": [
        " - Survival and Gender"
      ]
    },
    {
      "cell_type": "code",
      "metadata": {
        "colab": {
          "base_uri": "https://localhost:8080/",
          "height": 422
        },
        "id": "lWSzvh2wkxdR",
        "outputId": "58b269f8-de92-4f8a-8fdc-dd51ac08019d"
      },
      "source": [
        "#To view survivors based on their Sex:\n",
        "plt.figure(figsize= (7,6))\n",
        "fontsize = 14\n",
        "plt.title(\"Survial by Sex\", fontsize = fontsize)\n",
        "sns.countplot('Sex', hue = 'Survived', data = Titanic)"
      ],
      "execution_count": 50,
      "outputs": [
        {
          "output_type": "execute_result",
          "data": {
            "text/plain": [
              "<matplotlib.axes._subplots.AxesSubplot at 0x7f76291236d0>"
            ]
          },
          "metadata": {},
          "execution_count": 50
        },
        {
          "output_type": "display_data",
          "data": {
            "image/png": "[encoded data removed]",
            "text/plain": [
              "<Figure size 504x432 with 1 Axes>"
            ]
          },
          "metadata": {
            "needs_background": "light"
          }
        }
      ]
    },
    {
      "cell_type": "markdown",
      "source": [
        "In as much as the ship had more Males than Females, the Survival rate was highest among the females. \n",
        "\n",
        "This can be explained with the fact that Women and Children were given priority when loading lifeboats. With that, most of the male passengers and crew were left aboard."
      ],
      "metadata": {
        "id": "gtPNH-Z0Ab36"
      }
    },
    {
      "cell_type": "markdown",
      "metadata": {
        "id": "pltaiTElnIqI"
      },
      "source": [
        " - Survival and those travelling alone"
      ]
    },
    {
      "cell_type": "code",
      "source": [
        "#To find out if a passenger is travelling alone, the family size is first calculated based on SibSp and Parch:\n",
        "#1. Family size\n",
        "#To find the family sizes, SibSp and Parch are added together:\n",
        "Titanic['Family_Size'] = Titanic['SibSp'] + Titanic['Parch'] + 1\n",
        "Titanic.head(4)\n"
      ],
      "metadata": {
        "colab": {
          "base_uri": "https://localhost:8080/",
          "height": 227
        },
        "id": "mQGEuOOxDCoF",
        "outputId": "e607a452-5797-43da-d9ca-d35ba3397554"
      },
      "execution_count": 38,
      "outputs": [
        {
          "output_type": "execute_result",
          "data": {
            "text/html": [
              "<div>\n",
              "<style scoped>\n",
              "    .dataframe tbody tr th:only-of-type {\n",
              "        vertical-align: middle;\n",
              "    }\n",
              "\n",
              "    .dataframe tbody tr th {\n",
              "        vertical-align: top;\n",
              "    }\n",
              "\n",
              "    .dataframe thead th {\n",
              "        text-align: right;\n",
              "    }\n",
              "</style>\n",
              "<table border=\"1\" class=\"dataframe\">\n",
              "  <thead>\n",
              "    <tr style=\"text-align: right;\">\n",
              "      <th></th>\n",
              "      <th>PassengerId</th>\n",
              "      <th>Survived</th>\n",
              "      <th>Pclass</th>\n",
              "      <th>Name</th>\n",
              "      <th>Sex</th>\n",
              "      <th>Age</th>\n",
              "      <th>SibSp</th>\n",
              "      <th>Parch</th>\n",
              "      <th>Ticket</th>\n",
              "      <th>Fare</th>\n",
              "      <th>Embarked</th>\n",
              "      <th>Family_Size</th>\n",
              "    </tr>\n",
              "  </thead>\n",
              "  <tbody>\n",
              "    <tr>\n",
              "      <th>0</th>\n",
              "      <td>1</td>\n",
              "      <td>0</td>\n",
              "      <td>3</td>\n",
              "      <td>Braund, Mr. Owen Harris</td>\n",
              "      <td>male</td>\n",
              "      <td>22.0</td>\n",
              "      <td>1</td>\n",
              "      <td>0</td>\n",
              "      <td>A/5 21171</td>\n",
              "      <td>7.2500</td>\n",
              "      <td>S</td>\n",
              "      <td>2</td>\n",
              "    </tr>\n",
              "    <tr>\n",
              "      <th>1</th>\n",
              "      <td>2</td>\n",
              "      <td>1</td>\n",
              "      <td>1</td>\n",
              "      <td>Cumings, Mrs. John Bradley (Florence Briggs Th...</td>\n",
              "      <td>female</td>\n",
              "      <td>38.0</td>\n",
              "      <td>1</td>\n",
              "      <td>0</td>\n",
              "      <td>PC 17599</td>\n",
              "      <td>71.2833</td>\n",
              "      <td>C</td>\n",
              "      <td>2</td>\n",
              "    </tr>\n",
              "    <tr>\n",
              "      <th>2</th>\n",
              "      <td>3</td>\n",
              "      <td>1</td>\n",
              "      <td>3</td>\n",
              "      <td>Heikkinen, Miss. Laina</td>\n",
              "      <td>female</td>\n",
              "      <td>26.0</td>\n",
              "      <td>0</td>\n",
              "      <td>0</td>\n",
              "      <td>STON/O2. 3101282</td>\n",
              "      <td>7.9250</td>\n",
              "      <td>S</td>\n",
              "      <td>1</td>\n",
              "    </tr>\n",
              "    <tr>\n",
              "      <th>3</th>\n",
              "      <td>4</td>\n",
              "      <td>1</td>\n",
              "      <td>1</td>\n",
              "      <td>Futrelle, Mrs. Jacques Heath (Lily May Peel)</td>\n",
              "      <td>female</td>\n",
              "      <td>35.0</td>\n",
              "      <td>1</td>\n",
              "      <td>0</td>\n",
              "      <td>113803</td>\n",
              "      <td>53.1000</td>\n",
              "      <td>S</td>\n",
              "      <td>2</td>\n",
              "    </tr>\n",
              "  </tbody>\n",
              "</table>\n",
              "</div>"
            ],
            "text/plain": [
              "   PassengerId  Survived  Pclass  ...     Fare Embarked  Family_Size\n",
              "0            1         0       3  ...   7.2500        S            2\n",
              "1            2         1       1  ...  71.2833        C            2\n",
              "2            3         1       3  ...   7.9250        S            1\n",
              "3            4         1       1  ...  53.1000        S            2\n",
              "\n",
              "[4 rows x 12 columns]"
            ]
          },
          "metadata": {},
          "execution_count": 38
        }
      ]
    },
    {
      "cell_type": "code",
      "source": [
        "#2. Travelled alone/Not alone\n",
        "#To find those who travelled alone or not:\n",
        "\n",
        "def Check(Model):\n",
        "   if Model['Family_Size'] > 1 :\n",
        "      return 'Not Alone'\n",
        "   elif Model['Family_Size'] == 1  :\n",
        "      return 'Alone'\n",
        "   else:\n",
        "     return \"Error\"\n",
        "\n",
        "Titanic['Alone/Not_Alone'] = Titanic.apply(Check, axis=1)\n",
        "Titanic.head(4)\n"
      ],
      "metadata": {
        "colab": {
          "base_uri": "https://localhost:8080/",
          "height": 244
        },
        "id": "UNqtZ6W0DIBp",
        "outputId": "51581439-9bd7-422b-9d2a-463ddee41083"
      },
      "execution_count": 39,
      "outputs": [
        {
          "output_type": "execute_result",
          "data": {
            "text/html": [
              "<div>\n",
              "<style scoped>\n",
              "    .dataframe tbody tr th:only-of-type {\n",
              "        vertical-align: middle;\n",
              "    }\n",
              "\n",
              "    .dataframe tbody tr th {\n",
              "        vertical-align: top;\n",
              "    }\n",
              "\n",
              "    .dataframe thead th {\n",
              "        text-align: right;\n",
              "    }\n",
              "</style>\n",
              "<table border=\"1\" class=\"dataframe\">\n",
              "  <thead>\n",
              "    <tr style=\"text-align: right;\">\n",
              "      <th></th>\n",
              "      <th>PassengerId</th>\n",
              "      <th>Survived</th>\n",
              "      <th>Pclass</th>\n",
              "      <th>Name</th>\n",
              "      <th>Sex</th>\n",
              "      <th>Age</th>\n",
              "      <th>SibSp</th>\n",
              "      <th>Parch</th>\n",
              "      <th>Ticket</th>\n",
              "      <th>Fare</th>\n",
              "      <th>Embarked</th>\n",
              "      <th>Family_Size</th>\n",
              "      <th>Alone/Not_Alone</th>\n",
              "    </tr>\n",
              "  </thead>\n",
              "  <tbody>\n",
              "    <tr>\n",
              "      <th>0</th>\n",
              "      <td>1</td>\n",
              "      <td>0</td>\n",
              "      <td>3</td>\n",
              "      <td>Braund, Mr. Owen Harris</td>\n",
              "      <td>male</td>\n",
              "      <td>22.0</td>\n",
              "      <td>1</td>\n",
              "      <td>0</td>\n",
              "      <td>A/5 21171</td>\n",
              "      <td>7.2500</td>\n",
              "      <td>S</td>\n",
              "      <td>2</td>\n",
              "      <td>Not Alone</td>\n",
              "    </tr>\n",
              "    <tr>\n",
              "      <th>1</th>\n",
              "      <td>2</td>\n",
              "      <td>1</td>\n",
              "      <td>1</td>\n",
              "      <td>Cumings, Mrs. John Bradley (Florence Briggs Th...</td>\n",
              "      <td>female</td>\n",
              "      <td>38.0</td>\n",
              "      <td>1</td>\n",
              "      <td>0</td>\n",
              "      <td>PC 17599</td>\n",
              "      <td>71.2833</td>\n",
              "      <td>C</td>\n",
              "      <td>2</td>\n",
              "      <td>Not Alone</td>\n",
              "    </tr>\n",
              "    <tr>\n",
              "      <th>2</th>\n",
              "      <td>3</td>\n",
              "      <td>1</td>\n",
              "      <td>3</td>\n",
              "      <td>Heikkinen, Miss. Laina</td>\n",
              "      <td>female</td>\n",
              "      <td>26.0</td>\n",
              "      <td>0</td>\n",
              "      <td>0</td>\n",
              "      <td>STON/O2. 3101282</td>\n",
              "      <td>7.9250</td>\n",
              "      <td>S</td>\n",
              "      <td>1</td>\n",
              "      <td>Alone</td>\n",
              "    </tr>\n",
              "    <tr>\n",
              "      <th>3</th>\n",
              "      <td>4</td>\n",
              "      <td>1</td>\n",
              "      <td>1</td>\n",
              "      <td>Futrelle, Mrs. Jacques Heath (Lily May Peel)</td>\n",
              "      <td>female</td>\n",
              "      <td>35.0</td>\n",
              "      <td>1</td>\n",
              "      <td>0</td>\n",
              "      <td>113803</td>\n",
              "      <td>53.1000</td>\n",
              "      <td>S</td>\n",
              "      <td>2</td>\n",
              "      <td>Not Alone</td>\n",
              "    </tr>\n",
              "  </tbody>\n",
              "</table>\n",
              "</div>"
            ],
            "text/plain": [
              "   PassengerId  Survived  Pclass  ... Embarked Family_Size  Alone/Not_Alone\n",
              "0            1         0       3  ...        S           2        Not Alone\n",
              "1            2         1       1  ...        C           2        Not Alone\n",
              "2            3         1       3  ...        S           1            Alone\n",
              "3            4         1       1  ...        S           2        Not Alone\n",
              "\n",
              "[4 rows x 13 columns]"
            ]
          },
          "metadata": {},
          "execution_count": 39
        }
      ]
    },
    {
      "cell_type": "code",
      "source": [
        "#To view survivors based on whether they were alone or not:\n",
        "plt.figure(figsize= (7,6))\n",
        "fontsize = 14\n",
        "plt.title(\"Survial and number of Family members\", fontsize = fontsize)\n",
        "sns.countplot('Alone/Not_Alone', hue = 'Survived', data = Titanic)  #1 is survived"
      ],
      "metadata": {
        "colab": {
          "base_uri": "https://localhost:8080/",
          "height": 423
        },
        "id": "BW3M_hBeDNZq",
        "outputId": "1d17b4b3-42a7-4c32-cfaa-e6f9dd07d544"
      },
      "execution_count": 40,
      "outputs": [
        {
          "output_type": "execute_result",
          "data": {
            "text/plain": [
              "<matplotlib.axes._subplots.AxesSubplot at 0x7f0c95d6c9d0>"
            ]
          },
          "metadata": {},
          "execution_count": 40
        },
        {
          "output_type": "display_data",
          "data": {
            "image/png": "[encoded data removed]",
            "text/plain": [
              "<Figure size 504x432 with 1 Axes>"
            ]
          },
          "metadata": {
            "needs_background": "light"
          }
        }
      ]
    },
    {
      "cell_type": "markdown",
      "source": [
        "Passengers that were not alone were likely to survive than passengers who were alone."
      ],
      "metadata": {
        "id": "CLrqDBuVEg71"
      }
    },
    {
      "cell_type": "markdown",
      "source": [
        "**Observations:**\n",
        "- From the analysis, a persons Sex and Passenger class influenced survival."
      ],
      "metadata": {
        "id": "D1Z9z7O6GffO"
      }
    },
    {
      "cell_type": "markdown",
      "metadata": {
        "id": "0yhJkntzjB1Z"
      },
      "source": [
        "# **Modelling**"
      ]
    },
    {
      "cell_type": "code",
      "source": [
        "#Creating the modelling dataframe:\n",
        "Model = Titanic.copy()\n",
        "Model.head(4)"
      ],
      "metadata": {
        "colab": {
          "base_uri": "https://localhost:8080/",
          "height": 244
        },
        "id": "FI5x5VACaljp",
        "outputId": "fe8551b5-513b-4375-bd2f-3554827cb0cd"
      },
      "execution_count": 74,
      "outputs": [
        {
          "output_type": "execute_result",
          "data": {
            "text/html": [
              "<div>\n",
              "<style scoped>\n",
              "    .dataframe tbody tr th:only-of-type {\n",
              "        vertical-align: middle;\n",
              "    }\n",
              "\n",
              "    .dataframe tbody tr th {\n",
              "        vertical-align: top;\n",
              "    }\n",
              "\n",
              "    .dataframe thead th {\n",
              "        text-align: right;\n",
              "    }\n",
              "</style>\n",
              "<table border=\"1\" class=\"dataframe\">\n",
              "  <thead>\n",
              "    <tr style=\"text-align: right;\">\n",
              "      <th></th>\n",
              "      <th>PassengerId</th>\n",
              "      <th>Survived</th>\n",
              "      <th>Pclass</th>\n",
              "      <th>Name</th>\n",
              "      <th>Sex</th>\n",
              "      <th>Age</th>\n",
              "      <th>SibSp</th>\n",
              "      <th>Parch</th>\n",
              "      <th>Ticket</th>\n",
              "      <th>Fare</th>\n",
              "      <th>Embarked</th>\n",
              "      <th>Family_Size</th>\n",
              "      <th>Alone/Not_Alone</th>\n",
              "    </tr>\n",
              "  </thead>\n",
              "  <tbody>\n",
              "    <tr>\n",
              "      <th>0</th>\n",
              "      <td>1</td>\n",
              "      <td>0</td>\n",
              "      <td>3</td>\n",
              "      <td>Braund, Mr. Owen Harris</td>\n",
              "      <td>male</td>\n",
              "      <td>22.0</td>\n",
              "      <td>1</td>\n",
              "      <td>0</td>\n",
              "      <td>A/5 21171</td>\n",
              "      <td>7.2500</td>\n",
              "      <td>S</td>\n",
              "      <td>2</td>\n",
              "      <td>Not Alone</td>\n",
              "    </tr>\n",
              "    <tr>\n",
              "      <th>1</th>\n",
              "      <td>2</td>\n",
              "      <td>1</td>\n",
              "      <td>1</td>\n",
              "      <td>Cumings, Mrs. John Bradley (Florence Briggs Th...</td>\n",
              "      <td>female</td>\n",
              "      <td>38.0</td>\n",
              "      <td>1</td>\n",
              "      <td>0</td>\n",
              "      <td>PC 17599</td>\n",
              "      <td>71.2833</td>\n",
              "      <td>C</td>\n",
              "      <td>2</td>\n",
              "      <td>Not Alone</td>\n",
              "    </tr>\n",
              "    <tr>\n",
              "      <th>2</th>\n",
              "      <td>3</td>\n",
              "      <td>1</td>\n",
              "      <td>3</td>\n",
              "      <td>Heikkinen, Miss. Laina</td>\n",
              "      <td>female</td>\n",
              "      <td>26.0</td>\n",
              "      <td>0</td>\n",
              "      <td>0</td>\n",
              "      <td>STON/O2. 3101282</td>\n",
              "      <td>7.9250</td>\n",
              "      <td>S</td>\n",
              "      <td>1</td>\n",
              "      <td>Alone</td>\n",
              "    </tr>\n",
              "    <tr>\n",
              "      <th>3</th>\n",
              "      <td>4</td>\n",
              "      <td>1</td>\n",
              "      <td>1</td>\n",
              "      <td>Futrelle, Mrs. Jacques Heath (Lily May Peel)</td>\n",
              "      <td>female</td>\n",
              "      <td>35.0</td>\n",
              "      <td>1</td>\n",
              "      <td>0</td>\n",
              "      <td>113803</td>\n",
              "      <td>53.1000</td>\n",
              "      <td>S</td>\n",
              "      <td>2</td>\n",
              "      <td>Not Alone</td>\n",
              "    </tr>\n",
              "  </tbody>\n",
              "</table>\n",
              "</div>"
            ],
            "text/plain": [
              "   PassengerId  Survived  Pclass  ... Embarked Family_Size  Alone/Not_Alone\n",
              "0            1         0       3  ...        S           2        Not Alone\n",
              "1            2         1       1  ...        C           2        Not Alone\n",
              "2            3         1       3  ...        S           1            Alone\n",
              "3            4         1       1  ...        S           2        Not Alone\n",
              "\n",
              "[4 rows x 13 columns]"
            ]
          },
          "metadata": {},
          "execution_count": 74
        }
      ]
    },
    {
      "cell_type": "code",
      "source": [
        "#Understanding the Fare distribution:\n",
        "plt.figure(figsize= (10,5))\n",
        "fontsize = 14\n",
        "plt.title(\"Fare Distribution Plot\", fontsize = fontsize)\n",
        "sns.distplot(Model.Fare, hist=True, kde=True, color='g')"
      ],
      "metadata": {
        "colab": {
          "base_uri": "https://localhost:8080/",
          "height": 368
        },
        "id": "BiU82WoVGDaf",
        "outputId": "192571a4-b5f6-4fbe-a28a-68fe186ebe24"
      },
      "execution_count": 75,
      "outputs": [
        {
          "output_type": "execute_result",
          "data": {
            "text/plain": [
              "<matplotlib.axes._subplots.AxesSubplot at 0x7f0c8e7cea10>"
            ]
          },
          "metadata": {},
          "execution_count": 75
        },
        {
          "output_type": "display_data",
          "data": {
            "image/png": "[encoded data removed]",
            "text/plain": [
              "<Figure size 720x360 with 1 Axes>"
            ]
          },
          "metadata": {
            "needs_background": "light"
          }
        }
      ]
    },
    {
      "cell_type": "markdown",
      "source": [
        "The graph is rightly skewed hence it can be converted to a normal distribution"
      ],
      "metadata": {
        "id": "3VhnT9UoGSQf"
      }
    },
    {
      "cell_type": "markdown",
      "source": [
        "Log Transformation"
      ],
      "metadata": {
        "id": "pa8DXVucH5mi"
      }
    },
    {
      "cell_type": "code",
      "source": [
        "#Log transformation\n",
        "Model['Fare'] = Model['Fare'].map(lambda x: np.log(x) if x > 0 else 0)\n",
        "Model.head(4)"
      ],
      "metadata": {
        "colab": {
          "base_uri": "https://localhost:8080/",
          "height": 244
        },
        "id": "zc1jUJQiH48U",
        "outputId": "db89826f-233a-4d70-d2bd-6ce2ad4ec285"
      },
      "execution_count": 76,
      "outputs": [
        {
          "output_type": "execute_result",
          "data": {
            "text/html": [
              "<div>\n",
              "<style scoped>\n",
              "    .dataframe tbody tr th:only-of-type {\n",
              "        vertical-align: middle;\n",
              "    }\n",
              "\n",
              "    .dataframe tbody tr th {\n",
              "        vertical-align: top;\n",
              "    }\n",
              "\n",
              "    .dataframe thead th {\n",
              "        text-align: right;\n",
              "    }\n",
              "</style>\n",
              "<table border=\"1\" class=\"dataframe\">\n",
              "  <thead>\n",
              "    <tr style=\"text-align: right;\">\n",
              "      <th></th>\n",
              "      <th>PassengerId</th>\n",
              "      <th>Survived</th>\n",
              "      <th>Pclass</th>\n",
              "      <th>Name</th>\n",
              "      <th>Sex</th>\n",
              "      <th>Age</th>\n",
              "      <th>SibSp</th>\n",
              "      <th>Parch</th>\n",
              "      <th>Ticket</th>\n",
              "      <th>Fare</th>\n",
              "      <th>Embarked</th>\n",
              "      <th>Family_Size</th>\n",
              "      <th>Alone/Not_Alone</th>\n",
              "    </tr>\n",
              "  </thead>\n",
              "  <tbody>\n",
              "    <tr>\n",
              "      <th>0</th>\n",
              "      <td>1</td>\n",
              "      <td>0</td>\n",
              "      <td>3</td>\n",
              "      <td>Braund, Mr. Owen Harris</td>\n",
              "      <td>male</td>\n",
              "      <td>22.0</td>\n",
              "      <td>1</td>\n",
              "      <td>0</td>\n",
              "      <td>A/5 21171</td>\n",
              "      <td>1.981001</td>\n",
              "      <td>S</td>\n",
              "      <td>2</td>\n",
              "      <td>Not Alone</td>\n",
              "    </tr>\n",
              "    <tr>\n",
              "      <th>1</th>\n",
              "      <td>2</td>\n",
              "      <td>1</td>\n",
              "      <td>1</td>\n",
              "      <td>Cumings, Mrs. John Bradley (Florence Briggs Th...</td>\n",
              "      <td>female</td>\n",
              "      <td>38.0</td>\n",
              "      <td>1</td>\n",
              "      <td>0</td>\n",
              "      <td>PC 17599</td>\n",
              "      <td>4.266662</td>\n",
              "      <td>C</td>\n",
              "      <td>2</td>\n",
              "      <td>Not Alone</td>\n",
              "    </tr>\n",
              "    <tr>\n",
              "      <th>2</th>\n",
              "      <td>3</td>\n",
              "      <td>1</td>\n",
              "      <td>3</td>\n",
              "      <td>Heikkinen, Miss. Laina</td>\n",
              "      <td>female</td>\n",
              "      <td>26.0</td>\n",
              "      <td>0</td>\n",
              "      <td>0</td>\n",
              "      <td>STON/O2. 3101282</td>\n",
              "      <td>2.070022</td>\n",
              "      <td>S</td>\n",
              "      <td>1</td>\n",
              "      <td>Alone</td>\n",
              "    </tr>\n",
              "    <tr>\n",
              "      <th>3</th>\n",
              "      <td>4</td>\n",
              "      <td>1</td>\n",
              "      <td>1</td>\n",
              "      <td>Futrelle, Mrs. Jacques Heath (Lily May Peel)</td>\n",
              "      <td>female</td>\n",
              "      <td>35.0</td>\n",
              "      <td>1</td>\n",
              "      <td>0</td>\n",
              "      <td>113803</td>\n",
              "      <td>3.972177</td>\n",
              "      <td>S</td>\n",
              "      <td>2</td>\n",
              "      <td>Not Alone</td>\n",
              "    </tr>\n",
              "  </tbody>\n",
              "</table>\n",
              "</div>"
            ],
            "text/plain": [
              "   PassengerId  Survived  Pclass  ... Embarked Family_Size  Alone/Not_Alone\n",
              "0            1         0       3  ...        S           2        Not Alone\n",
              "1            2         1       1  ...        C           2        Not Alone\n",
              "2            3         1       3  ...        S           1            Alone\n",
              "3            4         1       1  ...        S           2        Not Alone\n",
              "\n",
              "[4 rows x 13 columns]"
            ]
          },
          "metadata": {},
          "execution_count": 76
        }
      ]
    },
    {
      "cell_type": "code",
      "source": [
        "#Viewing the distribution after transformation\n",
        "plt.figure(figsize= (10,5))\n",
        "fontsize = 14\n",
        "plt.title(\"Fare Distribution Plot\", fontsize = fontsize)\n",
        "sns.distplot(Model.Fare, hist=True, kde=True, color='g')"
      ],
      "metadata": {
        "colab": {
          "base_uri": "https://localhost:8080/",
          "height": 368
        },
        "id": "F-56lqT9IDo_",
        "outputId": "66a60ce2-5ef9-4709-f1ec-cfab951ebe1c"
      },
      "execution_count": 77,
      "outputs": [
        {
          "output_type": "execute_result",
          "data": {
            "text/plain": [
              "<matplotlib.axes._subplots.AxesSubplot at 0x7f0c8e6e3850>"
            ]
          },
          "metadata": {},
          "execution_count": 77
        },
        {
          "output_type": "display_data",
          "data": {
            "image/png": "[encoded data removed]",
            "text/plain": [
              "<Figure size 720x360 with 1 Axes>"
            ]
          },
          "metadata": {
            "needs_background": "light"
          }
        }
      ]
    },
    {
      "cell_type": "markdown",
      "metadata": {
        "id": "D6nTLVYxOkit"
      },
      "source": [
        "Label Encoding"
      ]
    },
    {
      "cell_type": "code",
      "metadata": {
        "colab": {
          "base_uri": "https://localhost:8080/",
          "height": 227
        },
        "id": "giUjxnv38OIO",
        "outputId": "c73a932b-70a2-43ff-d2fb-542231397c7f"
      },
      "source": [
        "#Encoding the Categorical Variables to a machine readable format:\n",
        "Model.replace({'Sex': {'male': 0, 'female': 1}, 'Embarked': {'S': 0, 'C': 1, 'Q': 2},\n",
        "               'Alone/Not_Alone': {'Alone': 1, 'Not Alone': 0}}, inplace = True)\n",
        "Model.head(4)"
      ],
      "execution_count": 78,
      "outputs": [
        {
          "output_type": "execute_result",
          "data": {
            "text/html": [
              "<div>\n",
              "<style scoped>\n",
              "    .dataframe tbody tr th:only-of-type {\n",
              "        vertical-align: middle;\n",
              "    }\n",
              "\n",
              "    .dataframe tbody tr th {\n",
              "        vertical-align: top;\n",
              "    }\n",
              "\n",
              "    .dataframe thead th {\n",
              "        text-align: right;\n",
              "    }\n",
              "</style>\n",
              "<table border=\"1\" class=\"dataframe\">\n",
              "  <thead>\n",
              "    <tr style=\"text-align: right;\">\n",
              "      <th></th>\n",
              "      <th>PassengerId</th>\n",
              "      <th>Survived</th>\n",
              "      <th>Pclass</th>\n",
              "      <th>Name</th>\n",
              "      <th>Sex</th>\n",
              "      <th>Age</th>\n",
              "      <th>SibSp</th>\n",
              "      <th>Parch</th>\n",
              "      <th>Ticket</th>\n",
              "      <th>Fare</th>\n",
              "      <th>Embarked</th>\n",
              "      <th>Family_Size</th>\n",
              "      <th>Alone/Not_Alone</th>\n",
              "    </tr>\n",
              "  </thead>\n",
              "  <tbody>\n",
              "    <tr>\n",
              "      <th>0</th>\n",
              "      <td>1</td>\n",
              "      <td>0</td>\n",
              "      <td>3</td>\n",
              "      <td>Braund, Mr. Owen Harris</td>\n",
              "      <td>0</td>\n",
              "      <td>22.0</td>\n",
              "      <td>1</td>\n",
              "      <td>0</td>\n",
              "      <td>A/5 21171</td>\n",
              "      <td>1.981001</td>\n",
              "      <td>0</td>\n",
              "      <td>2</td>\n",
              "      <td>0</td>\n",
              "    </tr>\n",
              "    <tr>\n",
              "      <th>1</th>\n",
              "      <td>2</td>\n",
              "      <td>1</td>\n",
              "      <td>1</td>\n",
              "      <td>Cumings, Mrs. John Bradley (Florence Briggs Th...</td>\n",
              "      <td>1</td>\n",
              "      <td>38.0</td>\n",
              "      <td>1</td>\n",
              "      <td>0</td>\n",
              "      <td>PC 17599</td>\n",
              "      <td>4.266662</td>\n",
              "      <td>1</td>\n",
              "      <td>2</td>\n",
              "      <td>0</td>\n",
              "    </tr>\n",
              "    <tr>\n",
              "      <th>2</th>\n",
              "      <td>3</td>\n",
              "      <td>1</td>\n",
              "      <td>3</td>\n",
              "      <td>Heikkinen, Miss. Laina</td>\n",
              "      <td>1</td>\n",
              "      <td>26.0</td>\n",
              "      <td>0</td>\n",
              "      <td>0</td>\n",
              "      <td>STON/O2. 3101282</td>\n",
              "      <td>2.070022</td>\n",
              "      <td>0</td>\n",
              "      <td>1</td>\n",
              "      <td>1</td>\n",
              "    </tr>\n",
              "    <tr>\n",
              "      <th>3</th>\n",
              "      <td>4</td>\n",
              "      <td>1</td>\n",
              "      <td>1</td>\n",
              "      <td>Futrelle, Mrs. Jacques Heath (Lily May Peel)</td>\n",
              "      <td>1</td>\n",
              "      <td>35.0</td>\n",
              "      <td>1</td>\n",
              "      <td>0</td>\n",
              "      <td>113803</td>\n",
              "      <td>3.972177</td>\n",
              "      <td>0</td>\n",
              "      <td>2</td>\n",
              "      <td>0</td>\n",
              "    </tr>\n",
              "  </tbody>\n",
              "</table>\n",
              "</div>"
            ],
            "text/plain": [
              "   PassengerId  Survived  Pclass  ... Embarked  Family_Size  Alone/Not_Alone\n",
              "0            1         0       3  ...        0            2                0\n",
              "1            2         1       1  ...        1            2                0\n",
              "2            3         1       3  ...        0            1                1\n",
              "3            4         1       1  ...        0            2                0\n",
              "\n",
              "[4 rows x 13 columns]"
            ]
          },
          "metadata": {},
          "execution_count": 78
        }
      ]
    },
    {
      "cell_type": "code",
      "source": [
        "#Dropping unnecessary observations:\n",
        "Model.drop(Model.columns[[0, 3, 6, 7, 8]], axis=1, inplace = True)\n",
        "Model.head(4)\n"
      ],
      "metadata": {
        "colab": {
          "base_uri": "https://localhost:8080/",
          "height": 174
        },
        "id": "ZOePWsYvIbQP",
        "outputId": "88f412d9-b1e5-43f9-89b8-8f373001564a"
      },
      "execution_count": 79,
      "outputs": [
        {
          "output_type": "execute_result",
          "data": {
            "text/html": [
              "<div>\n",
              "<style scoped>\n",
              "    .dataframe tbody tr th:only-of-type {\n",
              "        vertical-align: middle;\n",
              "    }\n",
              "\n",
              "    .dataframe tbody tr th {\n",
              "        vertical-align: top;\n",
              "    }\n",
              "\n",
              "    .dataframe thead th {\n",
              "        text-align: right;\n",
              "    }\n",
              "</style>\n",
              "<table border=\"1\" class=\"dataframe\">\n",
              "  <thead>\n",
              "    <tr style=\"text-align: right;\">\n",
              "      <th></th>\n",
              "      <th>Survived</th>\n",
              "      <th>Pclass</th>\n",
              "      <th>Sex</th>\n",
              "      <th>Age</th>\n",
              "      <th>Fare</th>\n",
              "      <th>Embarked</th>\n",
              "      <th>Family_Size</th>\n",
              "      <th>Alone/Not_Alone</th>\n",
              "    </tr>\n",
              "  </thead>\n",
              "  <tbody>\n",
              "    <tr>\n",
              "      <th>0</th>\n",
              "      <td>0</td>\n",
              "      <td>3</td>\n",
              "      <td>0</td>\n",
              "      <td>22.0</td>\n",
              "      <td>1.981001</td>\n",
              "      <td>0</td>\n",
              "      <td>2</td>\n",
              "      <td>0</td>\n",
              "    </tr>\n",
              "    <tr>\n",
              "      <th>1</th>\n",
              "      <td>1</td>\n",
              "      <td>1</td>\n",
              "      <td>1</td>\n",
              "      <td>38.0</td>\n",
              "      <td>4.266662</td>\n",
              "      <td>1</td>\n",
              "      <td>2</td>\n",
              "      <td>0</td>\n",
              "    </tr>\n",
              "    <tr>\n",
              "      <th>2</th>\n",
              "      <td>1</td>\n",
              "      <td>3</td>\n",
              "      <td>1</td>\n",
              "      <td>26.0</td>\n",
              "      <td>2.070022</td>\n",
              "      <td>0</td>\n",
              "      <td>1</td>\n",
              "      <td>1</td>\n",
              "    </tr>\n",
              "    <tr>\n",
              "      <th>3</th>\n",
              "      <td>1</td>\n",
              "      <td>1</td>\n",
              "      <td>1</td>\n",
              "      <td>35.0</td>\n",
              "      <td>3.972177</td>\n",
              "      <td>0</td>\n",
              "      <td>2</td>\n",
              "      <td>0</td>\n",
              "    </tr>\n",
              "  </tbody>\n",
              "</table>\n",
              "</div>"
            ],
            "text/plain": [
              "   Survived  Pclass  Sex  ...  Embarked  Family_Size  Alone/Not_Alone\n",
              "0         0       3    0  ...         0            2                0\n",
              "1         1       1    1  ...         1            2                0\n",
              "2         1       3    1  ...         0            1                1\n",
              "3         1       1    1  ...         0            2                0\n",
              "\n",
              "[4 rows x 8 columns]"
            ]
          },
          "metadata": {},
          "execution_count": 79
        }
      ]
    },
    {
      "cell_type": "markdown",
      "source": [
        "Feature Scaling"
      ],
      "metadata": {
        "id": "IYXpO4ado2rS"
      }
    },
    {
      "cell_type": "code",
      "source": [
        "#Performing scaling on the Independent variables:\n",
        "sc = StandardScaler()\n",
        "Feature_Sc = ['Pclass', 'Sex', 'Age', 'Fare', 'Embarked', 'Family_Size', 'Alone/Not_Alone']\n",
        "Model[Feature_Sc] = sc. fit_transform(Model[Feature_Sc])\n",
        "Model.head(4)"
      ],
      "metadata": {
        "colab": {
          "base_uri": "https://localhost:8080/",
          "height": 174
        },
        "id": "KLATy97uo9LC",
        "outputId": "7d8b697e-faf3-49bf-dc61-9be9693eb73b"
      },
      "execution_count": 81,
      "outputs": [
        {
          "output_type": "execute_result",
          "data": {
            "text/html": [
              "<div>\n",
              "<style scoped>\n",
              "    .dataframe tbody tr th:only-of-type {\n",
              "        vertical-align: middle;\n",
              "    }\n",
              "\n",
              "    .dataframe tbody tr th {\n",
              "        vertical-align: top;\n",
              "    }\n",
              "\n",
              "    .dataframe thead th {\n",
              "        text-align: right;\n",
              "    }\n",
              "</style>\n",
              "<table border=\"1\" class=\"dataframe\">\n",
              "  <thead>\n",
              "    <tr style=\"text-align: right;\">\n",
              "      <th></th>\n",
              "      <th>Survived</th>\n",
              "      <th>Pclass</th>\n",
              "      <th>Sex</th>\n",
              "      <th>Age</th>\n",
              "      <th>Fare</th>\n",
              "      <th>Embarked</th>\n",
              "      <th>Family_Size</th>\n",
              "      <th>Alone/Not_Alone</th>\n",
              "    </tr>\n",
              "  </thead>\n",
              "  <tbody>\n",
              "    <tr>\n",
              "      <th>0</th>\n",
              "      <td>0</td>\n",
              "      <td>0.827377</td>\n",
              "      <td>-0.737695</td>\n",
              "      <td>-0.592481</td>\n",
              "      <td>-0.910717</td>\n",
              "      <td>-0.568837</td>\n",
              "      <td>0.059160</td>\n",
              "      <td>-1.231645</td>\n",
              "    </tr>\n",
              "    <tr>\n",
              "      <th>1</th>\n",
              "      <td>1</td>\n",
              "      <td>-1.566107</td>\n",
              "      <td>1.355574</td>\n",
              "      <td>0.638789</td>\n",
              "      <td>1.369616</td>\n",
              "      <td>1.005181</td>\n",
              "      <td>0.059160</td>\n",
              "      <td>-1.231645</td>\n",
              "    </tr>\n",
              "    <tr>\n",
              "      <th>2</th>\n",
              "      <td>1</td>\n",
              "      <td>0.827377</td>\n",
              "      <td>1.355574</td>\n",
              "      <td>-0.284663</td>\n",
              "      <td>-0.821904</td>\n",
              "      <td>-0.568837</td>\n",
              "      <td>-0.560975</td>\n",
              "      <td>0.811922</td>\n",
              "    </tr>\n",
              "    <tr>\n",
              "      <th>3</th>\n",
              "      <td>1</td>\n",
              "      <td>-1.566107</td>\n",
              "      <td>1.355574</td>\n",
              "      <td>0.407926</td>\n",
              "      <td>1.075818</td>\n",
              "      <td>-0.568837</td>\n",
              "      <td>0.059160</td>\n",
              "      <td>-1.231645</td>\n",
              "    </tr>\n",
              "  </tbody>\n",
              "</table>\n",
              "</div>"
            ],
            "text/plain": [
              "   Survived    Pclass       Sex  ...  Embarked  Family_Size  Alone/Not_Alone\n",
              "0         0  0.827377 -0.737695  ... -0.568837     0.059160        -1.231645\n",
              "1         1 -1.566107  1.355574  ...  1.005181     0.059160        -1.231645\n",
              "2         1  0.827377  1.355574  ... -0.568837    -0.560975         0.811922\n",
              "3         1 -1.566107  1.355574  ... -0.568837     0.059160        -1.231645\n",
              "\n",
              "[4 rows x 8 columns]"
            ]
          },
          "metadata": {},
          "execution_count": 81
        }
      ]
    },
    {
      "cell_type": "markdown",
      "source": [
        "**Partitioning: 80-20**"
      ],
      "metadata": {
        "id": "lHgjev7vJju_"
      }
    },
    {
      "cell_type": "markdown",
      "source": [
        "\n",
        "\n",
        "For comparison purposes, the Logistic Regression model shall be used as the baseline model"
      ],
      "metadata": {
        "id": "H3dfU1WOJhXl"
      }
    },
    {
      "cell_type": "markdown",
      "metadata": {
        "id": "EI5ylrR0Xy5v"
      },
      "source": [
        "**Logistic Regression**"
      ]
    },
    {
      "cell_type": "code",
      "metadata": {
        "colab": {
          "base_uri": "https://localhost:8080/"
        },
        "id": "4DscYwoB1Fvc",
        "outputId": "92c9d9b0-3ebf-46f2-ed11-153881f66780"
      },
      "source": [
        "#Separating the Features and Target:\n",
        "X = Model.drop('Survived', axis=1)\n",
        "y = Model['Survived']\n",
        "\n",
        "#Splitting the data into training and test data:\n",
        "X_train, X_test, y_train, y_test = train_test_split(X, y, test_size=0.2, random_state= 2)\n",
        "\n",
        "#Printing the Shapes of the split data:\n",
        "print(f'X_train : {X_train.shape}')\n",
        "print(f'y_train : {y_train.shape}')\n",
        "print(f'X_test : {X_test.shape}')\n",
        "print(f'y_test : {y_test.shape}')\n"
      ],
      "execution_count": 160,
      "outputs": [
        {
          "output_type": "stream",
          "name": "stdout",
          "text": [
            "X_train : (712, 7)\n",
            "y_train : (712,)\n",
            "X_test : (179, 7)\n",
            "y_test : (179,)\n"
          ]
        }
      ]
    },
    {
      "cell_type": "markdown",
      "metadata": {
        "id": "6zHfMCoYHwJA"
      },
      "source": [
        "Building the regression model"
      ]
    },
    {
      "cell_type": "code",
      "metadata": {
        "id": "sCnmiL5z11lg"
      },
      "source": [
        "#Model Selection without any hyperparameters:\n",
        "Log = LogisticRegression()\n",
        "\n",
        "#Fitting the model:\n",
        "Log.fit(X_train,y_train )\n",
        "\n",
        "#Applying the trained model to make a prediction:\n",
        "y_pred = Log.predict(X_test)\n"
      ],
      "execution_count": 161,
      "outputs": []
    },
    {
      "cell_type": "markdown",
      "metadata": {
        "id": "c5dChB96YYHr"
      },
      "source": [
        "Performance Evaluation"
      ]
    },
    {
      "cell_type": "code",
      "metadata": {
        "colab": {
          "base_uri": "https://localhost:8080/"
        },
        "id": "BZTaTr4l1-te",
        "outputId": "8cdc2d61-db8f-4291-dc0b-ccc5253a7828"
      },
      "source": [
        "#Checking the accuracy of the test and train models:\n",
        "print(f'Train Accuracy: {Log.score(X_train, y_train):.2f}')\n",
        "print(f'Test Accuracy: {Log.score(X_test, y_test):.2f}')\n"
      ],
      "execution_count": 162,
      "outputs": [
        {
          "output_type": "stream",
          "name": "stdout",
          "text": [
            "Train Accuracy: 0.82\n",
            "Test Accuracy: 0.77\n"
          ]
        }
      ]
    },
    {
      "cell_type": "code",
      "source": [
        "#Checking the classification report:\n",
        "print(classification_report(y_test, y_pred))\n",
        "\n",
        "#Getting the Recall and Precision Scores:\n",
        "print('Precision Score: ', precision_score(y_test, y_pred).round(2))\n",
        "print('Recall Score: ', precision_score(y_test, y_pred).round(2))\n",
        "print('F1 Score: ', f1_score(y_test, y_pred).round(2))"
      ],
      "metadata": {
        "colab": {
          "base_uri": "https://localhost:8080/"
        },
        "id": "PoXt_oujfh70",
        "outputId": "d017caa0-d06d-4124-f9a4-93ef81efa623"
      },
      "execution_count": 163,
      "outputs": [
        {
          "output_type": "stream",
          "name": "stdout",
          "text": [
            "              precision    recall  f1-score   support\n",
            "\n",
            "           0       0.75      0.88      0.81       100\n",
            "           1       0.81      0.63      0.71        79\n",
            "\n",
            "    accuracy                           0.77       179\n",
            "   macro avg       0.78      0.76      0.76       179\n",
            "weighted avg       0.78      0.77      0.77       179\n",
            "\n",
            "Precision Score:  0.81\n",
            "Recall Score:  0.81\n",
            "F1 Score:  0.71\n"
          ]
        }
      ]
    },
    {
      "cell_type": "code",
      "metadata": {
        "colab": {
          "base_uri": "https://localhost:8080/"
        },
        "id": "enOCGjAfxehV",
        "outputId": "ffe9a273-ae10-46c0-d06f-7a1d6f05cde4"
      },
      "source": [
        "#Using confusion matrix:\n",
        "confusion_matrix(y_test, y_pred)\n"
      ],
      "execution_count": 164,
      "outputs": [
        {
          "output_type": "execute_result",
          "data": {
            "text/plain": [
              "array([[88, 12],\n",
              "       [29, 50]])"
            ]
          },
          "metadata": {},
          "execution_count": 164
        }
      ]
    },
    {
      "cell_type": "markdown",
      "source": [
        "12 and 29 are misclassifications"
      ],
      "metadata": {
        "id": "5a-D-Z-4fxFc"
      }
    },
    {
      "cell_type": "markdown",
      "source": [
        "**KNN Classifier**"
      ],
      "metadata": {
        "id": "9sqF5esoB1Wi"
      }
    },
    {
      "cell_type": "code",
      "source": [
        "#Model Selection :\n",
        "Knn = KNeighborsClassifier(n_neighbors=1)\n",
        "\n",
        "#Fitting the model:\n",
        "Knn.fit(X_train,y_train )\n",
        "\n",
        "#Applying the trained model to make a prediction:\n",
        "y_pred = Knn.predict(X_test)"
      ],
      "metadata": {
        "id": "_vG1QV2vB0ds"
      },
      "execution_count": 165,
      "outputs": []
    },
    {
      "cell_type": "code",
      "source": [
        "#Checking the accuracy of the test and train models:\n",
        "print(f'Train Accuracy: {Knn.score(X_train, y_train):.2f}')\n",
        "print(f'Test Accuracy: {Knn.score(X_test, y_test):.2f}')"
      ],
      "metadata": {
        "colab": {
          "base_uri": "https://localhost:8080/"
        },
        "id": "3o5g02LMDEmo",
        "outputId": "e3584613-cb8d-4a5a-b3d7-b9832fdd2013"
      },
      "execution_count": 166,
      "outputs": [
        {
          "output_type": "stream",
          "name": "stdout",
          "text": [
            "Train Accuracy: 0.99\n",
            "Test Accuracy: 0.75\n"
          ]
        }
      ]
    },
    {
      "cell_type": "markdown",
      "source": [
        "The model is doing much better on the training set than on the test set hence there's overfitting."
      ],
      "metadata": {
        "id": "ajVlenz-g49V"
      }
    },
    {
      "cell_type": "code",
      "source": [
        "#Checking the classification report:\n",
        "print(classification_report(y_test, y_pred))\n",
        "\n",
        "#Getting the Recall and Precision Scores:\n",
        "print('Precision Score: ', precision_score(y_test, y_pred).round(2))\n",
        "print('Recall Score: ', precision_score(y_test, y_pred).round(2))\n",
        "print('F1 Score: ', f1_score(y_test, y_pred).round(2))"
      ],
      "metadata": {
        "colab": {
          "base_uri": "https://localhost:8080/"
        },
        "id": "JUhkVyO7gb4v",
        "outputId": "23712ce2-7e35-47e5-fd45-b0c595b83b8e"
      },
      "execution_count": 167,
      "outputs": [
        {
          "output_type": "stream",
          "name": "stdout",
          "text": [
            "              precision    recall  f1-score   support\n",
            "\n",
            "           0       0.77      0.78      0.78       100\n",
            "           1       0.72      0.71      0.71        79\n",
            "\n",
            "    accuracy                           0.75       179\n",
            "   macro avg       0.75      0.74      0.74       179\n",
            "weighted avg       0.75      0.75      0.75       179\n",
            "\n",
            "Precision Score:  0.72\n",
            "Recall Score:  0.72\n",
            "F1 Score:  0.71\n"
          ]
        }
      ]
    },
    {
      "cell_type": "markdown",
      "source": [
        "The baseline precision and recall scores perform better compared to the Knn before optimization"
      ],
      "metadata": {
        "id": "7iSCZ7ceul2J"
      }
    },
    {
      "cell_type": "code",
      "source": [
        "#Using confusion matrix:\n",
        "print(confusion_matrix(y_test, y_pred))\n"
      ],
      "metadata": {
        "colab": {
          "base_uri": "https://localhost:8080/"
        },
        "id": "qaSpg7qHDQQf",
        "outputId": "b6b58a09-8140-4c5d-9416-e3ee704099f7"
      },
      "execution_count": 168,
      "outputs": [
        {
          "output_type": "stream",
          "name": "stdout",
          "text": [
            "[[78 22]\n",
            " [23 56]]\n"
          ]
        }
      ]
    },
    {
      "cell_type": "markdown",
      "source": [
        "**Hyperparameter Optimization**"
      ],
      "metadata": {
        "id": "RvIOSyIugkkp"
      }
    },
    {
      "cell_type": "markdown",
      "source": [
        "Checking the best value of K"
      ],
      "metadata": {
        "id": "8dhNPcC8FKEV"
      }
    },
    {
      "cell_type": "code",
      "source": [
        "#To find the best K for the train and test data:\n",
        "training_accuracy =[]\n",
        "test_accuracy =[]\n",
        "\n",
        "neighbors = range(1, 15)\n",
        "for numbers in neighbors:\n",
        "  KNN = KNeighborsClassifier(n_neighbors= numbers)\n",
        "  KNN.fit(X_train, y_train)\n",
        "  training_accuracy.append(KNN.score(X_train, y_train))\n",
        "  test_accuracy.append(KNN.score(X_test, y_test))"
      ],
      "metadata": {
        "id": "8n6iDOd6FMqK"
      },
      "execution_count": 169,
      "outputs": []
    },
    {
      "cell_type": "code",
      "source": [
        "#Plotting the calculated accuracy levels:\n",
        "plt.plot(neighbors,training_accuracy, label = 'training accuracy')\n",
        "plt.plot(neighbors,test_accuracy, label = 'test accuracy')\n",
        "plt.ylabel('Accuracy')\n",
        "plt.xlabel('number of neighbors')\n",
        "plt.legend()"
      ],
      "metadata": {
        "colab": {
          "base_uri": "https://localhost:8080/",
          "height": 296
        },
        "id": "q2dlSzLBGPDK",
        "outputId": "811e4fd8-0ca8-41e1-9806-a3295d00d970"
      },
      "execution_count": 170,
      "outputs": [
        {
          "output_type": "execute_result",
          "data": {
            "text/plain": [
              "<matplotlib.legend.Legend at 0x7f0c85a01d10>"
            ]
          },
          "metadata": {},
          "execution_count": 170
        },
        {
          "output_type": "display_data",
          "data": {
            "image/png": "[encoded data removed]",
            "text/plain": [
              "<Figure size 432x288 with 1 Axes>"
            ]
          },
          "metadata": {
            "needs_background": "light"
          }
        }
      ]
    },
    {
      "cell_type": "markdown",
      "source": [
        "From the plot, at no point does the train and test accuracies approach each other. With this a range for the K's will be set to assess the best K value"
      ],
      "metadata": {
        "id": "9_4u57IpJJsn"
      }
    },
    {
      "cell_type": "code",
      "source": [
        "#To view the parameters available for tuning in the KNN classifier:\n",
        "KNeighborsClassifier().get_params()"
      ],
      "metadata": {
        "colab": {
          "base_uri": "https://localhost:8080/"
        },
        "id": "36OoSbrYqXpJ",
        "outputId": "cc6f8cbf-4b04-4775-bbbb-d25082964630"
      },
      "execution_count": 93,
      "outputs": [
        {
          "output_type": "execute_result",
          "data": {
            "text/plain": [
              "{'algorithm': 'auto',\n",
              " 'leaf_size': 30,\n",
              " 'metric': 'minkowski',\n",
              " 'metric_params': None,\n",
              " 'n_jobs': None,\n",
              " 'n_neighbors': 5,\n",
              " 'p': 2,\n",
              " 'weights': 'uniform'}"
            ]
          },
          "metadata": {},
          "execution_count": 93
        }
      ]
    },
    {
      "cell_type": "code",
      "source": [
        "#Creating the parameter grid:\n",
        "param_grid = {'n_neighbors' : [3, 5, 7, 9, 10, 15, 20, 21],\n",
        "              'weights' : ['uniform', 'distance'],\n",
        "              'metric': ['euclidean', 'manhattan', 'minkowski'],\n",
        "              'algorithm' : ['auto', 'ball_tree','kd_tree', 'brute'],\n",
        "              'p' : [1,2]}\n"
      ],
      "metadata": {
        "id": "YFlCZVNomwIX"
      },
      "execution_count": 171,
      "outputs": []
    },
    {
      "cell_type": "code",
      "source": [
        "#Using the classifier along with grid search:\n",
        "knn = KNeighborsClassifier()\n",
        "\n",
        "#Creating grid search using 5-fold cross validation:\n",
        "clf = GridSearchCV(knn, param_grid = param_grid, cv= 10, verbose = True, n_jobs = 1, scoring = 'accuracy' )\n",
        "\n",
        "#Fitting the grid search:\n",
        "best_clf = clf.fit(X_train, y_train)\n",
        "\n",
        "#Predicting values based on the new parameters:\n",
        "y_pred = best_clf.predict(X_test)\n"
      ],
      "metadata": {
        "colab": {
          "base_uri": "https://localhost:8080/"
        },
        "id": "RrKOpQEbsQyp",
        "outputId": "bdd40aaf-551e-4c52-e398-8e8575757fde"
      },
      "execution_count": 172,
      "outputs": [
        {
          "output_type": "stream",
          "name": "stdout",
          "text": [
            "Fitting 10 folds for each of 384 candidates, totalling 3840 fits\n"
          ]
        }
      ]
    },
    {
      "cell_type": "markdown",
      "source": [
        "If the K value comes to be odd then it’s all right else we make it odd by adding 1 to it."
      ],
      "metadata": {
        "id": "O0zU72tzK_eC"
      }
    },
    {
      "cell_type": "code",
      "source": [
        "#To view the best parameters:\n",
        "best_clf.best_params_\n"
      ],
      "metadata": {
        "colab": {
          "base_uri": "https://localhost:8080/"
        },
        "id": "c0w7PO42sVFk",
        "outputId": "b24c1f5e-7f9c-412a-d5c9-7dfd7009368f"
      },
      "execution_count": 173,
      "outputs": [
        {
          "output_type": "execute_result",
          "data": {
            "text/plain": [
              "{'algorithm': 'auto',\n",
              " 'metric': 'manhattan',\n",
              " 'n_neighbors': 10,\n",
              " 'p': 1,\n",
              " 'weights': 'uniform'}"
            ]
          },
          "metadata": {},
          "execution_count": 173
        }
      ]
    },
    {
      "cell_type": "markdown",
      "source": [
        "Building the Model with the best estimators"
      ],
      "metadata": {
        "id": "TztBpS-6tjOv"
      }
    },
    {
      "cell_type": "code",
      "source": [
        "#Using the best parameters from hyperparameter tuning:\n",
        "Final_knn = KNeighborsClassifier(algorithm = 'auto', metric = 'manhattan',\n",
        "                               n_neighbors = 11, p = 1, weights = 'uniform')\n",
        "\n",
        "#Fitting the model:\n",
        "Final_knn.fit(X_train,y_train )\n",
        "\n",
        "#Predicting values:\n",
        "Y_pred = Final_knn.predict(X_test)"
      ],
      "metadata": {
        "id": "O549X-kotQ5A"
      },
      "execution_count": 176,
      "outputs": []
    },
    {
      "cell_type": "markdown",
      "source": [
        "Performance Evaluation"
      ],
      "metadata": {
        "id": "njSD9sRYtkpe"
      }
    },
    {
      "cell_type": "code",
      "source": [
        "#Checking the Accuracy:\n",
        "print(f'Train Accuracy: {Final_knn.score(X_train, y_train):.2f}')\n",
        "print(f'Test Accuracy: {Final_knn.score(X_test, y_test):.2f}')"
      ],
      "metadata": {
        "colab": {
          "base_uri": "https://localhost:8080/"
        },
        "id": "_yJBniQvtc8U",
        "outputId": "cde15a17-a1b8-4759-ad6c-dd0eabd7d8ba"
      },
      "execution_count": 177,
      "outputs": [
        {
          "output_type": "stream",
          "name": "stdout",
          "text": [
            "Train Accuracy: 0.85\n",
            "Test Accuracy: 0.79\n"
          ]
        }
      ]
    },
    {
      "cell_type": "code",
      "source": [
        "#Checking the classification report:\n",
        "print(classification_report(y_test, Y_pred))\n",
        "\n",
        "#Getting the Recall and Precision Scores:\n",
        "print('Precision Score: ', precision_score(y_test, Y_pred).round(2))\n",
        "print('Recall Score: ', precision_score(y_test, Y_pred).round(2))\n",
        "print('F1 Score: ', f1_score(y_test, Y_pred).round(2))"
      ],
      "metadata": {
        "colab": {
          "base_uri": "https://localhost:8080/"
        },
        "id": "OoDvbuq_vQuZ",
        "outputId": "dc708e44-f9f5-4d11-f0ec-82d2ff36241d"
      },
      "execution_count": 178,
      "outputs": [
        {
          "output_type": "stream",
          "name": "stdout",
          "text": [
            "              precision    recall  f1-score   support\n",
            "\n",
            "           0       0.76      0.91      0.83       100\n",
            "           1       0.85      0.63      0.72        79\n",
            "\n",
            "    accuracy                           0.79       179\n",
            "   macro avg       0.80      0.77      0.78       179\n",
            "weighted avg       0.80      0.79      0.78       179\n",
            "\n",
            "Precision Score:  0.85\n",
            "Recall Score:  0.85\n",
            "F1 Score:  0.72\n"
          ]
        }
      ]
    },
    {
      "cell_type": "code",
      "source": [
        "#Using confusion matrix:\n",
        "print(confusion_matrix(y_test, Y_pred))"
      ],
      "metadata": {
        "colab": {
          "base_uri": "https://localhost:8080/"
        },
        "id": "7H2-mwgKvZHc",
        "outputId": "0f2b17c7-8de9-4eb6-ef83-d4113cd50128"
      },
      "execution_count": 179,
      "outputs": [
        {
          "output_type": "stream",
          "name": "stdout",
          "text": [
            "[[91  9]\n",
            " [29 50]]\n"
          ]
        }
      ]
    },
    {
      "cell_type": "markdown",
      "source": [
        "**Observations:**\n",
        "\n",
        "- The classifier made a total of 179 predictions.\n",
        "- Out of the 179 cases, the classifier predicted did not survive 59 times and survived 120 times. In reality, there were 100 Did not survive cases and 79 survived cases.\n",
        "- There were 50 true negatives and 91 true positives( cases where actual and predicted values are yes).\n",
        "- There were 9 false positives and 29 false negatives. These are the total misclassifications.\n",
        "- The true positive rate/recall score is 0.85. An improvement from 0.72 before tuning is performed.\n"
      ],
      "metadata": {
        "id": "qHSMmzZKvd3w"
      }
    },
    {
      "cell_type": "markdown",
      "source": [
        "**Partitioning: 70 - 30**"
      ],
      "metadata": {
        "id": "CUV8IGkjy7a5"
      }
    },
    {
      "cell_type": "markdown",
      "source": [
        "**Baseline Model**"
      ],
      "metadata": {
        "id": "ACR0_KNVy9a9"
      }
    },
    {
      "cell_type": "code",
      "source": [
        "#Creating the Variables:\n",
        "X = Model.drop('Survived', axis=1)\n",
        "y = Model['Survived']\n",
        "\n",
        "#Splitting the data into train and test:\n",
        "X_train, X_test, y_train, y_test = train_test_split(X, y, test_size=0.3, random_state= 0)\n",
        "\n",
        "#Printing the Shapes of the split data:\n",
        "print(f'X_train : {X_train.shape}')\n",
        "print(f'y_train : {y_train.shape}')\n",
        "print(f'X_test : {X_test.shape}')\n",
        "print(f'y_test : {y_test.shape}')"
      ],
      "metadata": {
        "colab": {
          "base_uri": "https://localhost:8080/"
        },
        "id": "dzt3f7hzzA6p",
        "outputId": "d7865bbd-94cd-407c-f69d-c9fcaaa679d9"
      },
      "execution_count": 217,
      "outputs": [
        {
          "output_type": "stream",
          "name": "stdout",
          "text": [
            "X_train : (623, 7)\n",
            "y_train : (623,)\n",
            "X_test : (268, 7)\n",
            "y_test : (268,)\n"
          ]
        }
      ]
    },
    {
      "cell_type": "code",
      "source": [
        "#Model Selection without any hyperparameters:\n",
        "Log2 = LogisticRegression()\n",
        "\n",
        "#Fitting the model:\n",
        "Log2.fit(X_train,y_train )\n",
        "\n",
        "#Applying the trained model to make a prediction:\n",
        "y_pred = Log2.predict(X_test)"
      ],
      "metadata": {
        "id": "USFE_8RFzRTX"
      },
      "execution_count": 218,
      "outputs": []
    },
    {
      "cell_type": "markdown",
      "source": [
        "Performance Evaluation"
      ],
      "metadata": {
        "id": "UIgzNKPPzaAi"
      }
    },
    {
      "cell_type": "code",
      "source": [
        "#Checking the accuracy of the test and train models:\n",
        "print(f'Train Accuracy: {Log2.score(X_train, y_train):.2f}')\n",
        "print(f'Test Accuracy: {Log2.score(X_test, y_test):.2f}')"
      ],
      "metadata": {
        "colab": {
          "base_uri": "https://localhost:8080/"
        },
        "id": "FR0lj0i0zYtZ",
        "outputId": "19cde19b-645c-4279-b4a7-7e9048084610"
      },
      "execution_count": 219,
      "outputs": [
        {
          "output_type": "stream",
          "name": "stdout",
          "text": [
            "Train Accuracy: 0.80\n",
            "Test Accuracy: 0.79\n"
          ]
        }
      ]
    },
    {
      "cell_type": "code",
      "source": [
        "#Checking the classification report:\n",
        "print(classification_report(y_test, y_pred))\n",
        "\n",
        "#Getting the Recall and Precision Scores:\n",
        "print('Precision Score: ', precision_score(y_test, y_pred).round(2))\n",
        "print('Recall Score: ', precision_score(y_test, y_pred).round(2))\n",
        "print('F1 Score: ', f1_score(y_test, y_pred).round(2))"
      ],
      "metadata": {
        "colab": {
          "base_uri": "https://localhost:8080/"
        },
        "id": "qdKKfCD_znXr",
        "outputId": "830df119-cef5-45d5-eb89-b37faaa08667"
      },
      "execution_count": 220,
      "outputs": [
        {
          "output_type": "stream",
          "name": "stdout",
          "text": [
            "              precision    recall  f1-score   support\n",
            "\n",
            "           0       0.83      0.84      0.84       168\n",
            "           1       0.73      0.72      0.72       100\n",
            "\n",
            "    accuracy                           0.79       268\n",
            "   macro avg       0.78      0.78      0.78       268\n",
            "weighted avg       0.79      0.79      0.79       268\n",
            "\n",
            "Precision Score:  0.73\n",
            "Recall Score:  0.73\n",
            "F1 Score:  0.72\n"
          ]
        }
      ]
    },
    {
      "cell_type": "code",
      "source": [
        "#Using confusion matrix:\n",
        "print(confusion_matrix(y_test, y_pred))"
      ],
      "metadata": {
        "colab": {
          "base_uri": "https://localhost:8080/"
        },
        "id": "O8Wy2wv3zyzn",
        "outputId": "33b27282-69c6-45bc-d7b1-aa9bba866a1b"
      },
      "execution_count": 110,
      "outputs": [
        {
          "output_type": "stream",
          "name": "stdout",
          "text": [
            "[[141  27]\n",
            " [ 28  72]]\n"
          ]
        }
      ]
    },
    {
      "cell_type": "markdown",
      "source": [
        "Comparing performance to the 80-20 split, the precision and recall scores dropped from 0.81 to 0.73.\n",
        "\n",
        "The accuracy on the other hand improved from 77% to 79%"
      ],
      "metadata": {
        "id": "2BRdFOJaz4w3"
      }
    },
    {
      "cell_type": "markdown",
      "source": [
        "**KNN Classifier**"
      ],
      "metadata": {
        "id": "oLD3t4uZ0r-G"
      }
    },
    {
      "cell_type": "code",
      "source": [
        "#Model Selection :\n",
        "Knn2 = KNeighborsClassifier(n_neighbors=1)\n",
        "\n",
        "#Fitting the model:\n",
        "Knn2.fit(X_train,y_train )\n",
        "\n",
        "#Applying the trained model to make a prediction:\n",
        "y_pred = Knn2.predict(X_test)"
      ],
      "metadata": {
        "id": "sawt3RdX0v71"
      },
      "execution_count": 221,
      "outputs": []
    },
    {
      "cell_type": "markdown",
      "source": [
        "Model Performance"
      ],
      "metadata": {
        "id": "i5Dj7DpE09B7"
      }
    },
    {
      "cell_type": "code",
      "source": [
        "#Checking the accuracy of the test and train models:\n",
        "print(f'Train Accuracy: {Knn2.score(X_train, y_train):.2f}')\n",
        "print(f'Test Accuracy: {Knn2.score(X_test, y_test):.2f}')"
      ],
      "metadata": {
        "colab": {
          "base_uri": "https://localhost:8080/"
        },
        "id": "PsyK9nVj0_mn",
        "outputId": "e88080d4-67c5-4009-cdd8-ecc63e46792e"
      },
      "execution_count": 222,
      "outputs": [
        {
          "output_type": "stream",
          "name": "stdout",
          "text": [
            "Train Accuracy: 0.98\n",
            "Test Accuracy: 0.76\n"
          ]
        }
      ]
    },
    {
      "cell_type": "code",
      "source": [
        "#Checking the classification report:\n",
        "print(classification_report(y_test, y_pred))\n",
        "\n",
        "#Getting the Recall and Precision Scores:\n",
        "print('Precision Score: ', precision_score(y_test, y_pred).round(2))\n",
        "print('Recall Score: ', precision_score(y_test, y_pred).round(2))\n",
        "print('F1 Score: ', f1_score(y_test, y_pred).round(2))"
      ],
      "metadata": {
        "colab": {
          "base_uri": "https://localhost:8080/"
        },
        "id": "3bjhxJHS1E-V",
        "outputId": "499ca910-4f3f-402f-e364-31f796124ad3"
      },
      "execution_count": 188,
      "outputs": [
        {
          "output_type": "stream",
          "name": "stdout",
          "text": [
            "              precision    recall  f1-score   support\n",
            "\n",
            "           0       0.81      0.82      0.81       168\n",
            "           1       0.69      0.68      0.68       100\n",
            "\n",
            "    accuracy                           0.76       268\n",
            "   macro avg       0.75      0.75      0.75       268\n",
            "weighted avg       0.76      0.76      0.76       268\n",
            "\n",
            "Precision Score:  0.69\n",
            "Recall Score:  0.69\n",
            "F1 Score:  0.68\n"
          ]
        }
      ]
    },
    {
      "cell_type": "code",
      "source": [
        "#Using confusion matrix:\n",
        "print(confusion_matrix(y_test, y_pred))"
      ],
      "metadata": {
        "colab": {
          "base_uri": "https://localhost:8080/"
        },
        "id": "i52rhwXc1KGN",
        "outputId": "3c225bb3-b9f7-4e4d-f449-b0537d6763c1"
      },
      "execution_count": 189,
      "outputs": [
        {
          "output_type": "stream",
          "name": "stdout",
          "text": [
            "[[137  31]\n",
            " [ 32  68]]\n"
          ]
        }
      ]
    },
    {
      "cell_type": "markdown",
      "source": [
        "Comparing to the first partitioning, the recall and precision scores dropped from 0.72 to 0.69.\n"
      ],
      "metadata": {
        "id": "UDO0pz5r1Lgo"
      }
    },
    {
      "cell_type": "markdown",
      "source": [
        "**Hyperparameter Optimization**"
      ],
      "metadata": {
        "id": "Jvywpetv1eyM"
      }
    },
    {
      "cell_type": "markdown",
      "source": [
        "Checking the best value of K"
      ],
      "metadata": {
        "id": "qEXYHbKe1t5N"
      }
    },
    {
      "cell_type": "code",
      "source": [
        "#To find the best K for the train and test data:\n",
        "training_accuracy =[]\n",
        "test_accuracy =[]\n",
        "\n",
        "neighbors = range(1, 15)\n",
        "for numbers in neighbors:\n",
        "  KNN = KNeighborsClassifier(n_neighbors= numbers)\n",
        "  KNN.fit(X_train, y_train)\n",
        "  training_accuracy.append(KNN.score(X_train, y_train))\n",
        "  test_accuracy.append(KNN.score(X_test, y_test))"
      ],
      "metadata": {
        "id": "BrGoi5jG1i0T"
      },
      "execution_count": 190,
      "outputs": []
    },
    {
      "cell_type": "code",
      "source": [
        "#Plotting the calculated accuracy levels:\n",
        "plt.plot(neighbors,training_accuracy, label = 'training accuracy')\n",
        "plt.plot(neighbors,test_accuracy, label = 'test accuracy')\n",
        "plt.ylabel('Accuracy')\n",
        "plt.xlabel('number of neighbors')\n",
        "plt.legend()"
      ],
      "metadata": {
        "colab": {
          "base_uri": "https://localhost:8080/",
          "height": 296
        },
        "id": "BmcsGWEm1lhM",
        "outputId": "ea62f0bc-76f8-4fbc-99be-f56eb0915acf"
      },
      "execution_count": 191,
      "outputs": [
        {
          "output_type": "execute_result",
          "data": {
            "text/plain": [
              "<matplotlib.legend.Legend at 0x7f0c85817f50>"
            ]
          },
          "metadata": {},
          "execution_count": 191
        },
        {
          "output_type": "display_data",
          "data": {
            "image/png": "[encoded data removed]",
            "text/plain": [
              "<Figure size 432x288 with 1 Axes>"
            ]
          },
          "metadata": {
            "needs_background": "light"
          }
        }
      ]
    },
    {
      "cell_type": "markdown",
      "source": [
        "The Test and Train accuracy seem to be closest when the K is 12. During tuning, the range will be set around that value"
      ],
      "metadata": {
        "id": "MFhvpFtX1yQX"
      }
    },
    {
      "cell_type": "code",
      "source": [
        "#Creating the parameter grid:\n",
        "param_grid = {'n_neighbors' : [4, 11, 12, 13, 14, 16],\n",
        "              'weights' : ['uniform', 'distance'],\n",
        "              'metric': ['euclidean', 'manhattan', 'minkowski'],\n",
        "              'algorithm' : ['auto', 'ball_tree','kd_tree', 'brute'],\n",
        "              'p' : [1,2]}"
      ],
      "metadata": {
        "id": "HakRbG6D2RcL"
      },
      "execution_count": 223,
      "outputs": []
    },
    {
      "cell_type": "code",
      "source": [
        "#Using the classifier along with grid search:\n",
        "knn = KNeighborsClassifier()\n",
        "\n",
        "#Creating grid search using 5-fold cross validation:\n",
        "clf = GridSearchCV(knn, param_grid = param_grid, cv= 10, verbose = True, n_jobs = 1, scoring = 'accuracy' )\n",
        "\n",
        "#Fitting the grid search:\n",
        "best_clf = clf.fit(X_train, y_train)\n",
        "\n",
        "#Predicting values based on the new parameters:\n",
        "y_pred = best_clf.predict(X_test)"
      ],
      "metadata": {
        "colab": {
          "base_uri": "https://localhost:8080/"
        },
        "id": "G0oJo_oS2c9U",
        "outputId": "e144d230-dc8a-46da-e675-db4c45a6e7d6"
      },
      "execution_count": 224,
      "outputs": [
        {
          "output_type": "stream",
          "name": "stdout",
          "text": [
            "Fitting 10 folds for each of 288 candidates, totalling 2880 fits\n"
          ]
        }
      ]
    },
    {
      "cell_type": "code",
      "source": [
        "#To view the best parameters:\n",
        "best_clf.best_params_"
      ],
      "metadata": {
        "colab": {
          "base_uri": "https://localhost:8080/"
        },
        "id": "ClM5IWff2gMv",
        "outputId": "ab608b87-2d3e-4804-ea08-4e23bb2dae32"
      },
      "execution_count": 225,
      "outputs": [
        {
          "output_type": "execute_result",
          "data": {
            "text/plain": [
              "{'algorithm': 'auto',\n",
              " 'metric': 'euclidean',\n",
              " 'n_neighbors': 14,\n",
              " 'p': 1,\n",
              " 'weights': 'uniform'}"
            ]
          },
          "metadata": {},
          "execution_count": 225
        }
      ]
    },
    {
      "cell_type": "markdown",
      "source": [
        "Building the model with the best estimators"
      ],
      "metadata": {
        "id": "UQ-KdiRn24qH"
      }
    },
    {
      "cell_type": "code",
      "source": [
        "#Using the best parameters from hyperparameter tuning:\n",
        "Final_knn2 = KNeighborsClassifier(algorithm = 'auto', metric = 'euclidean',\n",
        "                               n_neighbors = 15, p = 1, weights = 'uniform')\n",
        "\n",
        "#Fitting the model:\n",
        "Final_knn2.fit(X_train,y_train )\n",
        "\n",
        "#Predicting values:\n",
        "Y_pred = Final_knn2.predict(X_test)"
      ],
      "metadata": {
        "id": "5iv_6M_I2ilx"
      },
      "execution_count": 226,
      "outputs": []
    },
    {
      "cell_type": "markdown",
      "source": [
        "Model Evaluation"
      ],
      "metadata": {
        "id": "WcWkqeuQ3Fo-"
      }
    },
    {
      "cell_type": "code",
      "source": [
        "#Checking the Accuracy:\n",
        "print(f'Train Accuracy: {Final_knn2.score(X_train, y_train):.2f}')\n",
        "print(f'Test Accuracy: {Final_knn2.score(X_test, y_test):.2f}')"
      ],
      "metadata": {
        "colab": {
          "base_uri": "https://localhost:8080/"
        },
        "id": "kAHBxrzg2lS7",
        "outputId": "489de867-3da5-4db6-9246-a2ce76b98efd"
      },
      "execution_count": 227,
      "outputs": [
        {
          "output_type": "stream",
          "name": "stdout",
          "text": [
            "Train Accuracy: 0.84\n",
            "Test Accuracy: 0.82\n"
          ]
        }
      ]
    },
    {
      "cell_type": "code",
      "source": [
        "#Checking the classification report:\n",
        "print(classification_report(y_test, Y_pred))\n",
        "\n",
        "#Getting the Recall and Precision Scores:\n",
        "print('Precision Score: ', precision_score(y_test, Y_pred).round(2))\n",
        "print('Recall Score: ', precision_score(y_test, Y_pred).round(2))\n",
        "print('F1 Score: ', f1_score(y_test, Y_pred).round(2))"
      ],
      "metadata": {
        "colab": {
          "base_uri": "https://localhost:8080/"
        },
        "id": "loF8EAdc2nTz",
        "outputId": "32e428a2-0d96-4321-d4b3-63bb69b592c6"
      },
      "execution_count": 228,
      "outputs": [
        {
          "output_type": "stream",
          "name": "stdout",
          "text": [
            "              precision    recall  f1-score   support\n",
            "\n",
            "           0       0.83      0.89      0.86       168\n",
            "           1       0.79      0.69      0.74       100\n",
            "\n",
            "    accuracy                           0.82       268\n",
            "   macro avg       0.81      0.79      0.80       268\n",
            "weighted avg       0.82      0.82      0.81       268\n",
            "\n",
            "Precision Score:  0.79\n",
            "Recall Score:  0.79\n",
            "F1 Score:  0.74\n"
          ]
        }
      ]
    },
    {
      "cell_type": "code",
      "source": [
        "#Using confusion matrix:\n",
        "print(confusion_matrix(y_test, Y_pred))"
      ],
      "metadata": {
        "colab": {
          "base_uri": "https://localhost:8080/"
        },
        "id": "4QdHgQbC2qTm",
        "outputId": "eb9f2f7d-719a-48c1-ec01-7542d2d71afc"
      },
      "execution_count": 198,
      "outputs": [
        {
          "output_type": "stream",
          "name": "stdout",
          "text": [
            "[[150  18]\n",
            " [ 31  69]]\n"
          ]
        }
      ]
    },
    {
      "cell_type": "markdown",
      "source": [
        "**Observations:**\n",
        "\n",
        "- The classifier made a total of 268 predictions.\n",
        "- There were 69 true negatives( cases where the actual and predicted values are no) and 150 true positives\n",
        "- There were 18 false positives and 31 false negatives. These are the total misclassifications.\n",
        "- The true positive rate/recall score is 0.79 a drop from the first partitioning."
      ],
      "metadata": {
        "id": "ixtZm-O94SMT"
      }
    },
    {
      "cell_type": "markdown",
      "source": [
        "**Partitioning: 60 - 40**"
      ],
      "metadata": {
        "id": "twR3lfGw5eIA"
      }
    },
    {
      "cell_type": "markdown",
      "source": [
        "**Baseline Model**"
      ],
      "metadata": {
        "id": "P5tEMU4P5gPj"
      }
    },
    {
      "cell_type": "code",
      "source": [
        "#Creating the Variables:\n",
        "X = Model.drop('Survived', axis=1)\n",
        "y = Model['Survived']\n",
        "\n",
        "#Splitting the data into train and test:\n",
        "X_train, X_test, y_train, y_test = train_test_split(X, y, test_size=0.4, random_state= 0)\n",
        "\n",
        "#Printing the Shapes of the split data:\n",
        "print(f'X_train : {X_train.shape}')\n",
        "print(f'y_train : {y_train.shape}')\n",
        "print(f'X_test : {X_test.shape}')\n",
        "print(f'y_test : {y_test.shape}')"
      ],
      "metadata": {
        "colab": {
          "base_uri": "https://localhost:8080/"
        },
        "id": "MTihjkvL5fee",
        "outputId": "5c787c0d-4662-4811-82bf-839a0ee3b448"
      },
      "execution_count": 199,
      "outputs": [
        {
          "output_type": "stream",
          "name": "stdout",
          "text": [
            "X_train : (534, 7)\n",
            "y_train : (534,)\n",
            "X_test : (357, 7)\n",
            "y_test : (357,)\n"
          ]
        }
      ]
    },
    {
      "cell_type": "code",
      "source": [
        "#Model Selection without any hyperparameters:\n",
        "Log3 = LogisticRegression()\n",
        "\n",
        "#Fitting the model:\n",
        "Log3.fit(X_train,y_train )\n",
        "\n",
        "#Applying the trained model to make a prediction:\n",
        "y_pred = Log3.predict(X_test)"
      ],
      "metadata": {
        "id": "mx06mjep5qBc"
      },
      "execution_count": 200,
      "outputs": []
    },
    {
      "cell_type": "markdown",
      "source": [
        "Performance Evaluation"
      ],
      "metadata": {
        "id": "DcpT4xHk5vrt"
      }
    },
    {
      "cell_type": "code",
      "source": [
        "#Checking the accuracy of the test and train models:\n",
        "print(f'Train Accuracy: {Log3.score(X_train, y_train):.2f}')\n",
        "print(f'Test Accuracy: {Log3.score(X_test, y_test):.2f}')"
      ],
      "metadata": {
        "colab": {
          "base_uri": "https://localhost:8080/"
        },
        "id": "TM8JTHsF5vHj",
        "outputId": "cda4da88-735b-440c-a448-a626c2c2b2f0"
      },
      "execution_count": 201,
      "outputs": [
        {
          "output_type": "stream",
          "name": "stdout",
          "text": [
            "Train Accuracy: 0.81\n",
            "Test Accuracy: 0.80\n"
          ]
        }
      ]
    },
    {
      "cell_type": "code",
      "source": [
        "#Checking the classification report:\n",
        "print(classification_report(y_test, y_pred))\n",
        "\n",
        "#Getting the Recall and Precision Scores:\n",
        "print('Precision Score: ', precision_score(y_test, y_pred).round(2))\n",
        "print('Recall Score: ', precision_score(y_test, y_pred).round(2))\n",
        "print('F1 Score: ', f1_score(y_test, y_pred).round(2))"
      ],
      "metadata": {
        "colab": {
          "base_uri": "https://localhost:8080/"
        },
        "id": "B8vhkfxW51U5",
        "outputId": "bba3a846-8ec8-462b-8fa4-a84f3065c3cd"
      },
      "execution_count": 202,
      "outputs": [
        {
          "output_type": "stream",
          "name": "stdout",
          "text": [
            "              precision    recall  f1-score   support\n",
            "\n",
            "           0       0.82      0.87      0.84       221\n",
            "           1       0.76      0.68      0.72       136\n",
            "\n",
            "    accuracy                           0.80       357\n",
            "   macro avg       0.79      0.78      0.78       357\n",
            "weighted avg       0.80      0.80      0.80       357\n",
            "\n",
            "Precision Score:  0.76\n",
            "Recall Score:  0.76\n",
            "F1 Score:  0.72\n"
          ]
        }
      ]
    },
    {
      "cell_type": "code",
      "source": [
        "#Using confusion matrix:\n",
        "print(confusion_matrix(y_test, y_pred))"
      ],
      "metadata": {
        "colab": {
          "base_uri": "https://localhost:8080/"
        },
        "id": "_v3yhda954ZH",
        "outputId": "99c5088f-2768-4576-ab44-9a2e71c7c688"
      },
      "execution_count": 203,
      "outputs": [
        {
          "output_type": "stream",
          "name": "stdout",
          "text": [
            "[[192  29]\n",
            " [ 43  93]]\n"
          ]
        }
      ]
    },
    {
      "cell_type": "markdown",
      "source": [
        "Compared to the first 2 partitionings, the accuracy score is doing better with 80%\n",
        "\n",
        "The precision and recall score is better than the 70-30 split"
      ],
      "metadata": {
        "id": "8GR5ToKc6Ebl"
      }
    },
    {
      "cell_type": "markdown",
      "source": [
        "**KNN Classifier**"
      ],
      "metadata": {
        "id": "dXjsUATP6kSc"
      }
    },
    {
      "cell_type": "code",
      "source": [
        "#Model Selection before tuning :\n",
        "Knn3 = KNeighborsClassifier(n_neighbors=1)\n",
        "\n",
        "#Fitting the model:\n",
        "Knn3.fit(X_train,y_train )\n",
        "\n",
        "#Applying the trained model to make a prediction:\n",
        "y_pred = Knn3.predict(X_test)"
      ],
      "metadata": {
        "id": "EQSzWwNE6ner"
      },
      "execution_count": 204,
      "outputs": []
    },
    {
      "cell_type": "markdown",
      "source": [
        "Performance"
      ],
      "metadata": {
        "id": "NM5FxJje6vE6"
      }
    },
    {
      "cell_type": "code",
      "source": [
        "#Checking the accuracy of the test and train models:\n",
        "print(f'Train Accuracy: {Knn3.score(X_train, y_train):.2f}')\n",
        "print(f'Test Accuracy: {Knn3.score(X_test, y_test):.2f}')"
      ],
      "metadata": {
        "colab": {
          "base_uri": "https://localhost:8080/"
        },
        "id": "mikbHGN96ujh",
        "outputId": "bd064140-639b-47eb-e1f9-cd166c666d12"
      },
      "execution_count": 205,
      "outputs": [
        {
          "output_type": "stream",
          "name": "stdout",
          "text": [
            "Train Accuracy: 0.98\n",
            "Test Accuracy: 0.74\n"
          ]
        }
      ]
    },
    {
      "cell_type": "code",
      "source": [
        "#Checking the classification report:\n",
        "print(classification_report(y_test, y_pred))\n",
        "\n",
        "#Getting the Recall and Precision Scores:\n",
        "print('Precision Score: ', precision_score(y_test, y_pred).round(2))\n",
        "print('Recall Score: ', precision_score(y_test, y_pred).round(2))\n",
        "print('F1 Score: ', f1_score(y_test, y_pred).round(2))"
      ],
      "metadata": {
        "colab": {
          "base_uri": "https://localhost:8080/"
        },
        "id": "sw9HwF4H623U",
        "outputId": "983f5729-79ec-4bbd-f3be-cd52a9de1bf0"
      },
      "execution_count": 206,
      "outputs": [
        {
          "output_type": "stream",
          "name": "stdout",
          "text": [
            "              precision    recall  f1-score   support\n",
            "\n",
            "           0       0.79      0.78      0.79       221\n",
            "           1       0.65      0.66      0.66       136\n",
            "\n",
            "    accuracy                           0.74       357\n",
            "   macro avg       0.72      0.72      0.72       357\n",
            "weighted avg       0.74      0.74      0.74       357\n",
            "\n",
            "Precision Score:  0.65\n",
            "Recall Score:  0.65\n",
            "F1 Score:  0.66\n"
          ]
        }
      ]
    },
    {
      "cell_type": "code",
      "source": [
        "#Using confusion matrix:\n",
        "print(confusion_matrix(y_test, y_pred))"
      ],
      "metadata": {
        "colab": {
          "base_uri": "https://localhost:8080/"
        },
        "id": "S-NoFpaT64qt",
        "outputId": "492b3ba9-9bd7-4f8a-b728-43edd60155ee"
      },
      "execution_count": 207,
      "outputs": [
        {
          "output_type": "stream",
          "name": "stdout",
          "text": [
            "[[173  48]\n",
            " [ 46  90]]\n"
          ]
        }
      ]
    },
    {
      "cell_type": "markdown",
      "source": [
        "**Hyperparameter Optimization**"
      ],
      "metadata": {
        "id": "5pukt27c6-qv"
      }
    },
    {
      "cell_type": "markdown",
      "source": [
        "Checking the best value of K"
      ],
      "metadata": {
        "id": "bEwy7juS7KRs"
      }
    },
    {
      "cell_type": "code",
      "source": [
        "#To find the best K for the train and test data:\n",
        "training_accuracy =[]\n",
        "test_accuracy =[]\n",
        "\n",
        "neighbors = range(1, 20)\n",
        "for numbers in neighbors:\n",
        "  KNN = KNeighborsClassifier(n_neighbors= numbers)\n",
        "  KNN.fit(X_train, y_train)\n",
        "  training_accuracy.append(KNN.score(X_train, y_train))\n",
        "  test_accuracy.append(KNN.score(X_test, y_test))"
      ],
      "metadata": {
        "id": "ViKCk7oO7Bhd"
      },
      "execution_count": 208,
      "outputs": []
    },
    {
      "cell_type": "code",
      "source": [
        "#Plotting the calculated accuracy levels:\n",
        "plt.plot(neighbors,training_accuracy, label = 'training accuracy')\n",
        "plt.plot(neighbors,test_accuracy, label = 'test accuracy')\n",
        "plt.ylabel('Accuracy')\n",
        "plt.xlabel('number of neighbors')\n",
        "plt.legend()"
      ],
      "metadata": {
        "colab": {
          "base_uri": "https://localhost:8080/",
          "height": 296
        },
        "id": "oLvlsqwR7HdH",
        "outputId": "3b16feb3-aad9-4b1b-c2f7-27ce44fd00a8"
      },
      "execution_count": 209,
      "outputs": [
        {
          "output_type": "execute_result",
          "data": {
            "text/plain": [
              "<matplotlib.legend.Legend at 0x7f0c858b3a90>"
            ]
          },
          "metadata": {},
          "execution_count": 209
        },
        {
          "output_type": "display_data",
          "data": {
            "image/png": "[encoded data removed]",
            "text/plain": [
              "<Figure size 432x288 with 1 Axes>"
            ]
          },
          "metadata": {
            "needs_background": "light"
          }
        }
      ]
    },
    {
      "cell_type": "markdown",
      "source": [
        "The Test and Train accuracy seem to be closest when the K is between 12 and 16. During tuning, the range will be set around those value"
      ],
      "metadata": {
        "id": "R-mQqxHw8xPR"
      }
    },
    {
      "cell_type": "code",
      "source": [
        "#Creating the parameter grid:\n",
        "param_grid = {'n_neighbors' : [10, 11, 12, 13, 14, 15, 16],\n",
        "              'weights' : ['uniform', 'distance'],\n",
        "              'metric': ['euclidean', 'manhattan', 'minkowski'],\n",
        "              'algorithm' : ['auto', 'ball_tree','kd_tree', 'brute'],\n",
        "              'p' : [1,2]}"
      ],
      "metadata": {
        "id": "WKEvNwLr7pYx"
      },
      "execution_count": 210,
      "outputs": []
    },
    {
      "cell_type": "code",
      "source": [
        "#Using the classifier along with grid search:\n",
        "knn = KNeighborsClassifier()\n",
        "\n",
        "#Creating grid search using 5-fold cross validation:\n",
        "clf = GridSearchCV(knn, param_grid = param_grid, cv= 10, verbose = True, n_jobs = 1, scoring = 'accuracy' )\n",
        "\n",
        "#Fitting the grid search:\n",
        "best_clf = clf.fit(X_train, y_train)\n",
        "\n",
        "#Predicting values based on the new parameters:\n",
        "y_pred = best_clf.predict(X_test)"
      ],
      "metadata": {
        "colab": {
          "base_uri": "https://localhost:8080/"
        },
        "id": "cq5tckmF72PB",
        "outputId": "0dca54f7-5cfe-4e98-b5ce-087d990eeeb0"
      },
      "execution_count": 211,
      "outputs": [
        {
          "output_type": "stream",
          "name": "stdout",
          "text": [
            "Fitting 10 folds for each of 336 candidates, totalling 3360 fits\n"
          ]
        }
      ]
    },
    {
      "cell_type": "markdown",
      "source": [
        "Best Parameters"
      ],
      "metadata": {
        "id": "lOpIbgvX8E4u"
      }
    },
    {
      "cell_type": "code",
      "source": [
        "#To view the best parameters:\n",
        "best_clf.best_params_"
      ],
      "metadata": {
        "colab": {
          "base_uri": "https://localhost:8080/"
        },
        "id": "C_UBhA-Y76EP",
        "outputId": "b483ecbe-6ffb-487e-fdc3-1aa8a68678a3"
      },
      "execution_count": 212,
      "outputs": [
        {
          "output_type": "execute_result",
          "data": {
            "text/plain": [
              "{'algorithm': 'auto',\n",
              " 'metric': 'euclidean',\n",
              " 'n_neighbors': 15,\n",
              " 'p': 1,\n",
              " 'weights': 'uniform'}"
            ]
          },
          "metadata": {},
          "execution_count": 212
        }
      ]
    },
    {
      "cell_type": "code",
      "source": [
        "#Using the best parameters from hyperparameter tuning:\n",
        "Final_knn3 = KNeighborsClassifier(algorithm = 'auto', metric = 'euclidean',\n",
        "                               n_neighbors = 15, p = 1, weights = 'uniform')\n",
        "\n",
        "#Fitting the model:\n",
        "Final_knn3.fit(X_train,y_train )\n",
        "\n",
        "#Predicting values:\n",
        "Y_pred = Final_knn3.predict(X_test)"
      ],
      "metadata": {
        "id": "0k9WwK3R78Dm"
      },
      "execution_count": 213,
      "outputs": []
    },
    {
      "cell_type": "code",
      "source": [
        "#Checking the Accuracy:\n",
        "print(f'Train Accuracy: {Final_knn3.score(X_train, y_train):.2f}')\n",
        "print(f'Test Accuracy: {Final_knn3.score(X_test, y_test):.2f}')"
      ],
      "metadata": {
        "colab": {
          "base_uri": "https://localhost:8080/"
        },
        "id": "nBq0XTb87-Va",
        "outputId": "1a08bdc5-5203-4b00-b393-f4a7683b486a"
      },
      "execution_count": 214,
      "outputs": [
        {
          "output_type": "stream",
          "name": "stdout",
          "text": [
            "Train Accuracy: 0.83\n",
            "Test Accuracy: 0.81\n"
          ]
        }
      ]
    },
    {
      "cell_type": "code",
      "source": [
        "#Checking the classification report:\n",
        "print(classification_report(y_test, Y_pred))\n",
        "\n",
        "#Getting the Recall and Precision Scores:\n",
        "print('Precision Score: ', precision_score(y_test, Y_pred).round(2))\n",
        "print('Recall Score: ', precision_score(y_test, Y_pred).round(2))\n",
        "print('F1 Score: ', f1_score(y_test, Y_pred).round(2))"
      ],
      "metadata": {
        "colab": {
          "base_uri": "https://localhost:8080/"
        },
        "id": "VJk3W6o98AN9",
        "outputId": "c310a65e-109c-4394-d345-91f014ca1495"
      },
      "execution_count": 215,
      "outputs": [
        {
          "output_type": "stream",
          "name": "stdout",
          "text": [
            "              precision    recall  f1-score   support\n",
            "\n",
            "           0       0.82      0.89      0.85       221\n",
            "           1       0.79      0.68      0.73       136\n",
            "\n",
            "    accuracy                           0.81       357\n",
            "   macro avg       0.81      0.78      0.79       357\n",
            "weighted avg       0.81      0.81      0.81       357\n",
            "\n",
            "Precision Score:  0.79\n",
            "Recall Score:  0.79\n",
            "F1 Score:  0.73\n"
          ]
        }
      ]
    },
    {
      "cell_type": "code",
      "source": [
        "#Using confusion matrix:\n",
        "print(confusion_matrix(y_test, Y_pred))"
      ],
      "metadata": {
        "colab": {
          "base_uri": "https://localhost:8080/"
        },
        "id": "XkMGV7-h8C46",
        "outputId": "0ec90010-18b5-497f-e7ca-fe58f83158e8"
      },
      "execution_count": 216,
      "outputs": [
        {
          "output_type": "stream",
          "name": "stdout",
          "text": [
            "[[197  24]\n",
            " [ 44  92]]\n"
          ]
        }
      ]
    },
    {
      "cell_type": "markdown",
      "source": [
        "**Observations:**\n",
        "\n",
        "- The classifier made a total of 357 predictions.\n",
        "- There were 92 true negatives and 197 true positives.\n",
        "- There were 24 false positives and 44 false negatives. These are the total misclassifications.\n",
        "- The true positive rate/recall score is 0.79."
      ],
      "metadata": {
        "id": "pa1M579j-IKo"
      }
    },
    {
      "cell_type": "markdown",
      "source": [
        "# **Performance Analysis**"
      ],
      "metadata": {
        "id": "9es2gQy9AWoj"
      }
    },
    {
      "cell_type": "markdown",
      "source": [
        "**Assessing Accuracy**"
      ],
      "metadata": {
        "id": "_4KI4AxLAYb9"
      }
    },
    {
      "cell_type": "markdown",
      "source": [
        "- When the K value is small it causes Low Bias and High variance leading to overfitting of the model. This explains why before optimization  on the KNN classifier, since the K value was set at 1 the train and test accuracies were incomparable. In all the 3 splits, the best K was an odd number, 5 and 15 for the last 2 splits \n",
        "- Comparing the Precision and Recall scores, the 80-20 split had the best scores of 0.85 making it the preferred model. The other 2 had scores of 0.79. The closer this scores are to 1, the better the model.\n",
        "- Since feature importance is not direct for the KNN algorithm, there's no easy way to compute the features responsible for the classification.\n",
        "- Adding training data to the model did not improve the accuracy scores rather the precision and recall scores improved. As its instance based, it adapts as new data is collected. To improve scores, a preprocessing stage can be added."
      ],
      "metadata": {
        "id": "fk130vPjAbkv"
      }
    },
    {
      "cell_type": "markdown",
      "source": [
        "**Conclusions**"
      ],
      "metadata": {
        "id": "J5ghUjRsBCzY"
      }
    },
    {
      "cell_type": "markdown",
      "source": [
        "\n",
        "- Since KNN relies on computing distances, feature scaling before running the model is important. Features with a higher scale can have higher calculated distances and might produce poor results.\n",
        "- To improve the classifier:\n",
        " - Dimensionality reduction can be performed since KNN performs best with a low number of features. Eg: Performing LDA\n",
        " - The outlier in the fare column can be dropped during preprocessing.  Since the model is sensitive to outliers, it simply chooses the neighbors based on distance criteria."
      ],
      "metadata": {
        "id": "Kw6LbKECPgvM"
      }
    }
  ]
}