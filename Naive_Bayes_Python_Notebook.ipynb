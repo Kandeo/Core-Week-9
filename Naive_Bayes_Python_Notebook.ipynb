{
  "nbformat": 4,
  "nbformat_minor": 0,
  "metadata": {
    "colab": {
      "name": "Naive Bayes Python Notebook",
      "provenance": [],
      "collapsed_sections": [],
      "toc_visible": true,
      "authorship_tag": "ABX9TyMmQKtPeU3ruBvtg8cgtJJI",
      "include_colab_link": true
    },
    "kernelspec": {
      "name": "python3",
      "display_name": "Python 3"
    },
    "language_info": {
      "name": "python"
    }
  },
  "cells": [
    {
      "cell_type": "markdown",
      "metadata": {
        "id": "view-in-github",
        "colab_type": "text"
      },
      "source": [
        "<a href=\"https://colab.research.google.com/github/Kandeo/Core-Week-9/blob/main/Naive_Bayes_Python_Notebook.ipynb\" target=\"_parent\"><img src=\"https://colab.research.google.com/assets/colab-badge.svg\" alt=\"Open In Colab\"/></a>"
      ]
    },
    {
      "cell_type": "markdown",
      "metadata": {
        "id": "RMAnFYdbqeS8"
      },
      "source": [
        "# **Spam Classification Predictive Model**\n",
        "\n",
        "**Overview** \n",
        "\n",
        "This project involves implementing a Naive Bayes classifier to classify emails as spam and non-spam. Once the experiment is conducted, the resulting metrics are to be calculated.\n",
        "\n",
        "Experimental Procedure:\n",
        "\n",
        "1. Downloading the dataset.\n",
        "2. Randomly partitioning the dataset into two parts; 80-20 sets.\n",
        "5. Computing the accuracy (percentage of correct classification).\n",
        "6. Reporting the confusion matrix of the classifier.\n",
        "7. Repeating step 2 to step 4 twice, each time splitting the dataset differently i.e. 70-30, 60-40, then noting the outcomes of the modeling.\n",
        "8. Suggesting and applying at least one of the optimization techniques learned.\n",
        "9. Providing further recommendations to improve the classifier.\n",
        "\n",
        "The dataset has been taken from the UCI ML repository and contains about 4,600 emails labelled as spam or non-spam.\n",
        "\n",
        "Dataset: https://archive.ics.uci.edu/ml/datasets/Spambase "
      ]
    },
    {
      "cell_type": "markdown",
      "metadata": {
        "id": "bnZ9PzoVuqpi"
      },
      "source": [
        "# **Defining the Question**"
      ]
    },
    {
      "cell_type": "markdown",
      "metadata": {
        "id": "v-TgEWuUuxpD"
      },
      "source": [
        "**Specific Data Analytics Question**"
      ]
    },
    {
      "cell_type": "markdown",
      "metadata": {
        "id": "dUhM_b-du4we"
      },
      "source": [
        "Building a Naive bayes model that determines whether a given email is spam or non-spam"
      ]
    },
    {
      "cell_type": "markdown",
      "metadata": {
        "id": "q5xt5fNIvbgO"
      },
      "source": [
        "**Metrics for success**"
      ]
    },
    {
      "cell_type": "markdown",
      "metadata": {
        "id": "OKrAV6O0qPY-"
      },
      "source": [
        "The model should have a true positive rate of 90% and above"
      ]
    },
    {
      "cell_type": "markdown",
      "metadata": {
        "id": "7At8TvEuv92c"
      },
      "source": [
        "**Understanding the Context**"
      ]
    },
    {
      "cell_type": "markdown",
      "metadata": {
        "id": "J3-GOI45rmat"
      },
      "source": [
        "Communication by email is one of the most important means of communication in the cooperate and private setups. An internet user is constantly confronted by mass emails containing undesired information. Spam emails are generally defined as bulk unsolicited emailing, generally commercial in nature, and predominately fraudulent.\n",
        "\n",
        "The Spambase dataset collected at Hewlett-Packard Labs, classifies 4601 emails as spam or non-spam. In addition to this class label there are 57 variables indicating the frequency of certain words and characters in the email.\n",
        "\n",
        "The collection of spam emails came from the collectors postmaster and individuals who had filed spam. The collection of non-spam emails came from filed work and personal emails hence the word 'george' and the area code '650' are indicators of non-spam. These are useful when constructing a personalized spam filter. One would either have to blind such non-spam indicators or get a very wide collection of non-spam to generate a general purpose spam filter.\n"
      ]
    },
    {
      "cell_type": "markdown",
      "metadata": {
        "id": "PUiG-AOzxUUr"
      },
      "source": [
        "**Experimental Design**"
      ]
    },
    {
      "cell_type": "markdown",
      "metadata": {
        "id": "RtSmlkgzxXxf"
      },
      "source": [
        "1. Data Preparation\n",
        " - Data Loading\n",
        " - Data Uniformity\n",
        " - Handling missing/duplicate values\n",
        "3. Data Exploration\n",
        " - Univariate analysis\n",
        "4. Modelling\n",
        " - Instantiating the models\n",
        " - Performance Evaluation\n",
        " - Hyperparameter Tuning\n",
        " - Prediction\n",
        "5. Performance Analysis\n",
        " - Assessing Accuracy\n",
        " - Recommendations and Conclusions"
      ]
    },
    {
      "cell_type": "markdown",
      "source": [
        "**Data Relevance**"
      ],
      "metadata": {
        "id": "UlqnRINtUYPw"
      }
    },
    {
      "cell_type": "markdown",
      "source": [
        "- The first 48 variables contain the frequency of the variable name in the e-mail, E.g: business, our, make, over, all...\n",
        "\n",
        "- If the variable name starts with num, E.g: num650 it indicates the frequency of the corresponding number 650. \n",
        "\n",
        "- The variables 49-54 indicate the frequency of the characters. E.g ; , ( , [ , ! , $ , #. \n",
        "\n",
        "- The variables 55-57 contain the average, longest and total run-length of capital letters. \n",
        "\n",
        "- Variable 58 indicates the type of the mail either Spam - 1 or Non-Spam - 0.\n",
        "\n"
      ],
      "metadata": {
        "id": "voWW11LtUcv0"
      }
    },
    {
      "cell_type": "markdown",
      "metadata": {
        "id": "M4yZGIHO0qRZ"
      },
      "source": [
        "# **Data Preparation**"
      ]
    },
    {
      "cell_type": "markdown",
      "metadata": {
        "id": "pe3DJ9XQJ4z7"
      },
      "source": [
        "Data Loading"
      ]
    },
    {
      "cell_type": "code",
      "metadata": {
        "id": "G1lLWPMJ55_t"
      },
      "source": [
        "#Importing the respective dependencies:\n",
        "\n",
        "#1. For Data wrangling and visualization:\n",
        "import pandas as pd \n",
        "import numpy as np      \n",
        "import seaborn as sns   \n",
        "import matplotlib.pyplot as plt\n",
        "\n",
        "#2. Machine Learning Models:\n",
        "from sklearn.naive_bayes import MultinomialNB, GaussianNB, BernoulliNB\n",
        "from sklearn.linear_model import LogisticRegression\n",
        "from sklearn.model_selection import train_test_split, GridSearchCV, RandomizedSearchCV\n",
        "from sklearn.preprocessing import StandardScaler, LabelEncoder, MinMaxScaler\n",
        "\n",
        "#3. For Model Evaluation:\n",
        "from sklearn.metrics import classification_report, confusion_matrix, f1_score, precision_score, recall_score\n",
        "\n",
        "#4. Removing Warnings:\n",
        "import warnings\n",
        "warnings.filterwarnings(\"ignore\")\n"
      ],
      "execution_count": null,
      "outputs": []
    },
    {
      "cell_type": "markdown",
      "metadata": {
        "id": "25YfqoDtKbBD"
      },
      "source": [
        "Loading the Dataset"
      ]
    },
    {
      "cell_type": "code",
      "source": [
        "#Naming the respective columns:\n",
        "cols = [\"word_freq_make\", \"word_freq_address\", \"word_freq_all\", \"word_freq_3d\", \"word_freq_our\", \"word_freq_over\", \"word_freq_remove\",\n",
        "        \"word_freq_internet\", \"word_freq_order\", \"word_freq_mail\", \"word_freq_receive\", \"word_freq_will\", \"word_freq_people\", \n",
        "        \"word_freq_report\", \"word_freq_addresses\", \"word_freq_free\", \"word_freq_business\", \"word_freq_email\", \"word_freq_you\", \n",
        "        \"word_freq_credit\", \"word_freq_your\", \"word_freq_font\", \"word_freq_000\", \"word_freq_money\", \"word_freq_hp\", \"word_freq_hpl\", \n",
        "        \"word_freq_george\", \"word_freq_650\", \"word_freq_lab\", \"word_freq_labs\",  \"word_freq_telnet\", \"word_freq_857\", \"word_freq_data\", \n",
        "        \"word_freq_415\", \"word_freq_85\", \"word_freq_technology\", \"word_freq_1999\", \"word_freq_parts\", \"word_freq_pm\", \"word_freq_direct\",\n",
        "        \"word_freq_cs\", \"word_freq_meeting\", \"word_freq_original\", \"word_freq_project\", \"word_freq_re\", \"word_freq_edu\", \"word_freq_table\",\n",
        "        \"word_freq_conference\", \"char_freq_;\", \"char_freq_(\", \"char_freq_[\", \"char_freq_!\", \"char_freq_$\", \"char_freq_#\", \n",
        "        \"capital_run_length_average\", \"capital_run_length_longest\", \"capital_run_length_total\", \"spam\"]\n",
        "\n",
        "#Loading the dataset from the UCI repository:\n",
        "Spam = pd.read_csv('https://archive.ics.uci.edu/ml/machine-learning-databases/spambase/spambase.data', names=cols, header=None)\n",
        "\n",
        "#Printing the first 4 rows of the data:\n",
        "Spam.head(4)\n"
      ],
      "metadata": {
        "colab": {
          "base_uri": "https://localhost:8080/",
          "height": 194
        },
        "id": "aLqMhUQ_qaDU",
        "outputId": "4ed35843-f762-488b-e02e-a079219aa185"
      },
      "execution_count": null,
      "outputs": [
        {
          "output_type": "execute_result",
          "data": {
            "text/html": [
              "<div>\n",
              "<style scoped>\n",
              "    .dataframe tbody tr th:only-of-type {\n",
              "        vertical-align: middle;\n",
              "    }\n",
              "\n",
              "    .dataframe tbody tr th {\n",
              "        vertical-align: top;\n",
              "    }\n",
              "\n",
              "    .dataframe thead th {\n",
              "        text-align: right;\n",
              "    }\n",
              "</style>\n",
              "<table border=\"1\" class=\"dataframe\">\n",
              "  <thead>\n",
              "    <tr style=\"text-align: right;\">\n",
              "      <th></th>\n",
              "      <th>word_freq_make</th>\n",
              "      <th>word_freq_address</th>\n",
              "      <th>word_freq_all</th>\n",
              "      <th>word_freq_3d</th>\n",
              "      <th>word_freq_our</th>\n",
              "      <th>word_freq_over</th>\n",
              "      <th>word_freq_remove</th>\n",
              "      <th>word_freq_internet</th>\n",
              "      <th>word_freq_order</th>\n",
              "      <th>word_freq_mail</th>\n",
              "      <th>word_freq_receive</th>\n",
              "      <th>word_freq_will</th>\n",
              "      <th>word_freq_people</th>\n",
              "      <th>word_freq_report</th>\n",
              "      <th>word_freq_addresses</th>\n",
              "      <th>word_freq_free</th>\n",
              "      <th>word_freq_business</th>\n",
              "      <th>word_freq_email</th>\n",
              "      <th>word_freq_you</th>\n",
              "      <th>word_freq_credit</th>\n",
              "      <th>word_freq_your</th>\n",
              "      <th>word_freq_font</th>\n",
              "      <th>word_freq_000</th>\n",
              "      <th>word_freq_money</th>\n",
              "      <th>word_freq_hp</th>\n",
              "      <th>word_freq_hpl</th>\n",
              "      <th>word_freq_george</th>\n",
              "      <th>word_freq_650</th>\n",
              "      <th>word_freq_lab</th>\n",
              "      <th>word_freq_labs</th>\n",
              "      <th>word_freq_telnet</th>\n",
              "      <th>word_freq_857</th>\n",
              "      <th>word_freq_data</th>\n",
              "      <th>word_freq_415</th>\n",
              "      <th>word_freq_85</th>\n",
              "      <th>word_freq_technology</th>\n",
              "      <th>word_freq_1999</th>\n",
              "      <th>word_freq_parts</th>\n",
              "      <th>word_freq_pm</th>\n",
              "      <th>word_freq_direct</th>\n",
              "      <th>word_freq_cs</th>\n",
              "      <th>word_freq_meeting</th>\n",
              "      <th>word_freq_original</th>\n",
              "      <th>word_freq_project</th>\n",
              "      <th>word_freq_re</th>\n",
              "      <th>word_freq_edu</th>\n",
              "      <th>word_freq_table</th>\n",
              "      <th>word_freq_conference</th>\n",
              "      <th>char_freq_;</th>\n",
              "      <th>char_freq_(</th>\n",
              "      <th>char_freq_[</th>\n",
              "      <th>char_freq_!</th>\n",
              "      <th>char_freq_$</th>\n",
              "      <th>char_freq_#</th>\n",
              "      <th>capital_run_length_average</th>\n",
              "      <th>capital_run_length_longest</th>\n",
              "      <th>capital_run_length_total</th>\n",
              "      <th>spam</th>\n",
              "    </tr>\n",
              "  </thead>\n",
              "  <tbody>\n",
              "    <tr>\n",
              "      <th>0</th>\n",
              "      <td>0.00</td>\n",
              "      <td>0.64</td>\n",
              "      <td>0.64</td>\n",
              "      <td>0.0</td>\n",
              "      <td>0.32</td>\n",
              "      <td>0.00</td>\n",
              "      <td>0.00</td>\n",
              "      <td>0.00</td>\n",
              "      <td>0.00</td>\n",
              "      <td>0.00</td>\n",
              "      <td>0.00</td>\n",
              "      <td>0.64</td>\n",
              "      <td>0.00</td>\n",
              "      <td>0.00</td>\n",
              "      <td>0.00</td>\n",
              "      <td>0.32</td>\n",
              "      <td>0.00</td>\n",
              "      <td>1.29</td>\n",
              "      <td>1.93</td>\n",
              "      <td>0.00</td>\n",
              "      <td>0.96</td>\n",
              "      <td>0.0</td>\n",
              "      <td>0.00</td>\n",
              "      <td>0.00</td>\n",
              "      <td>0.0</td>\n",
              "      <td>0.0</td>\n",
              "      <td>0.0</td>\n",
              "      <td>0.0</td>\n",
              "      <td>0.0</td>\n",
              "      <td>0.0</td>\n",
              "      <td>0.0</td>\n",
              "      <td>0.0</td>\n",
              "      <td>0.0</td>\n",
              "      <td>0.0</td>\n",
              "      <td>0.0</td>\n",
              "      <td>0.0</td>\n",
              "      <td>0.00</td>\n",
              "      <td>0.0</td>\n",
              "      <td>0.0</td>\n",
              "      <td>0.00</td>\n",
              "      <td>0.0</td>\n",
              "      <td>0.0</td>\n",
              "      <td>0.00</td>\n",
              "      <td>0.0</td>\n",
              "      <td>0.00</td>\n",
              "      <td>0.00</td>\n",
              "      <td>0.0</td>\n",
              "      <td>0.0</td>\n",
              "      <td>0.00</td>\n",
              "      <td>0.000</td>\n",
              "      <td>0.0</td>\n",
              "      <td>0.778</td>\n",
              "      <td>0.000</td>\n",
              "      <td>0.000</td>\n",
              "      <td>3.756</td>\n",
              "      <td>61</td>\n",
              "      <td>278</td>\n",
              "      <td>1</td>\n",
              "    </tr>\n",
              "    <tr>\n",
              "      <th>1</th>\n",
              "      <td>0.21</td>\n",
              "      <td>0.28</td>\n",
              "      <td>0.50</td>\n",
              "      <td>0.0</td>\n",
              "      <td>0.14</td>\n",
              "      <td>0.28</td>\n",
              "      <td>0.21</td>\n",
              "      <td>0.07</td>\n",
              "      <td>0.00</td>\n",
              "      <td>0.94</td>\n",
              "      <td>0.21</td>\n",
              "      <td>0.79</td>\n",
              "      <td>0.65</td>\n",
              "      <td>0.21</td>\n",
              "      <td>0.14</td>\n",
              "      <td>0.14</td>\n",
              "      <td>0.07</td>\n",
              "      <td>0.28</td>\n",
              "      <td>3.47</td>\n",
              "      <td>0.00</td>\n",
              "      <td>1.59</td>\n",
              "      <td>0.0</td>\n",
              "      <td>0.43</td>\n",
              "      <td>0.43</td>\n",
              "      <td>0.0</td>\n",
              "      <td>0.0</td>\n",
              "      <td>0.0</td>\n",
              "      <td>0.0</td>\n",
              "      <td>0.0</td>\n",
              "      <td>0.0</td>\n",
              "      <td>0.0</td>\n",
              "      <td>0.0</td>\n",
              "      <td>0.0</td>\n",
              "      <td>0.0</td>\n",
              "      <td>0.0</td>\n",
              "      <td>0.0</td>\n",
              "      <td>0.07</td>\n",
              "      <td>0.0</td>\n",
              "      <td>0.0</td>\n",
              "      <td>0.00</td>\n",
              "      <td>0.0</td>\n",
              "      <td>0.0</td>\n",
              "      <td>0.00</td>\n",
              "      <td>0.0</td>\n",
              "      <td>0.00</td>\n",
              "      <td>0.00</td>\n",
              "      <td>0.0</td>\n",
              "      <td>0.0</td>\n",
              "      <td>0.00</td>\n",
              "      <td>0.132</td>\n",
              "      <td>0.0</td>\n",
              "      <td>0.372</td>\n",
              "      <td>0.180</td>\n",
              "      <td>0.048</td>\n",
              "      <td>5.114</td>\n",
              "      <td>101</td>\n",
              "      <td>1028</td>\n",
              "      <td>1</td>\n",
              "    </tr>\n",
              "    <tr>\n",
              "      <th>2</th>\n",
              "      <td>0.06</td>\n",
              "      <td>0.00</td>\n",
              "      <td>0.71</td>\n",
              "      <td>0.0</td>\n",
              "      <td>1.23</td>\n",
              "      <td>0.19</td>\n",
              "      <td>0.19</td>\n",
              "      <td>0.12</td>\n",
              "      <td>0.64</td>\n",
              "      <td>0.25</td>\n",
              "      <td>0.38</td>\n",
              "      <td>0.45</td>\n",
              "      <td>0.12</td>\n",
              "      <td>0.00</td>\n",
              "      <td>1.75</td>\n",
              "      <td>0.06</td>\n",
              "      <td>0.06</td>\n",
              "      <td>1.03</td>\n",
              "      <td>1.36</td>\n",
              "      <td>0.32</td>\n",
              "      <td>0.51</td>\n",
              "      <td>0.0</td>\n",
              "      <td>1.16</td>\n",
              "      <td>0.06</td>\n",
              "      <td>0.0</td>\n",
              "      <td>0.0</td>\n",
              "      <td>0.0</td>\n",
              "      <td>0.0</td>\n",
              "      <td>0.0</td>\n",
              "      <td>0.0</td>\n",
              "      <td>0.0</td>\n",
              "      <td>0.0</td>\n",
              "      <td>0.0</td>\n",
              "      <td>0.0</td>\n",
              "      <td>0.0</td>\n",
              "      <td>0.0</td>\n",
              "      <td>0.00</td>\n",
              "      <td>0.0</td>\n",
              "      <td>0.0</td>\n",
              "      <td>0.06</td>\n",
              "      <td>0.0</td>\n",
              "      <td>0.0</td>\n",
              "      <td>0.12</td>\n",
              "      <td>0.0</td>\n",
              "      <td>0.06</td>\n",
              "      <td>0.06</td>\n",
              "      <td>0.0</td>\n",
              "      <td>0.0</td>\n",
              "      <td>0.01</td>\n",
              "      <td>0.143</td>\n",
              "      <td>0.0</td>\n",
              "      <td>0.276</td>\n",
              "      <td>0.184</td>\n",
              "      <td>0.010</td>\n",
              "      <td>9.821</td>\n",
              "      <td>485</td>\n",
              "      <td>2259</td>\n",
              "      <td>1</td>\n",
              "    </tr>\n",
              "    <tr>\n",
              "      <th>3</th>\n",
              "      <td>0.00</td>\n",
              "      <td>0.00</td>\n",
              "      <td>0.00</td>\n",
              "      <td>0.0</td>\n",
              "      <td>0.63</td>\n",
              "      <td>0.00</td>\n",
              "      <td>0.31</td>\n",
              "      <td>0.63</td>\n",
              "      <td>0.31</td>\n",
              "      <td>0.63</td>\n",
              "      <td>0.31</td>\n",
              "      <td>0.31</td>\n",
              "      <td>0.31</td>\n",
              "      <td>0.00</td>\n",
              "      <td>0.00</td>\n",
              "      <td>0.31</td>\n",
              "      <td>0.00</td>\n",
              "      <td>0.00</td>\n",
              "      <td>3.18</td>\n",
              "      <td>0.00</td>\n",
              "      <td>0.31</td>\n",
              "      <td>0.0</td>\n",
              "      <td>0.00</td>\n",
              "      <td>0.00</td>\n",
              "      <td>0.0</td>\n",
              "      <td>0.0</td>\n",
              "      <td>0.0</td>\n",
              "      <td>0.0</td>\n",
              "      <td>0.0</td>\n",
              "      <td>0.0</td>\n",
              "      <td>0.0</td>\n",
              "      <td>0.0</td>\n",
              "      <td>0.0</td>\n",
              "      <td>0.0</td>\n",
              "      <td>0.0</td>\n",
              "      <td>0.0</td>\n",
              "      <td>0.00</td>\n",
              "      <td>0.0</td>\n",
              "      <td>0.0</td>\n",
              "      <td>0.00</td>\n",
              "      <td>0.0</td>\n",
              "      <td>0.0</td>\n",
              "      <td>0.00</td>\n",
              "      <td>0.0</td>\n",
              "      <td>0.00</td>\n",
              "      <td>0.00</td>\n",
              "      <td>0.0</td>\n",
              "      <td>0.0</td>\n",
              "      <td>0.00</td>\n",
              "      <td>0.137</td>\n",
              "      <td>0.0</td>\n",
              "      <td>0.137</td>\n",
              "      <td>0.000</td>\n",
              "      <td>0.000</td>\n",
              "      <td>3.537</td>\n",
              "      <td>40</td>\n",
              "      <td>191</td>\n",
              "      <td>1</td>\n",
              "    </tr>\n",
              "  </tbody>\n",
              "</table>\n",
              "</div>"
            ],
            "text/plain": [
              "   word_freq_make  word_freq_address  ...  capital_run_length_total  spam\n",
              "0            0.00               0.64  ...                       278     1\n",
              "1            0.21               0.28  ...                      1028     1\n",
              "2            0.06               0.00  ...                      2259     1\n",
              "3            0.00               0.00  ...                       191     1\n",
              "\n",
              "[4 rows x 58 columns]"
            ]
          },
          "metadata": {},
          "execution_count": 3
        }
      ]
    },
    {
      "cell_type": "code",
      "source": [
        "#Checking the number of rows and columns:\n",
        "Spam.shape\n"
      ],
      "metadata": {
        "colab": {
          "base_uri": "https://localhost:8080/"
        },
        "id": "U2mu3qTLqaBB",
        "outputId": "e7d4a8df-30bd-4ee3-ba08-63eb44fe5b3b"
      },
      "execution_count": null,
      "outputs": [
        {
          "output_type": "execute_result",
          "data": {
            "text/plain": [
              "(4601, 58)"
            ]
          },
          "metadata": {},
          "execution_count": 4
        }
      ]
    },
    {
      "cell_type": "markdown",
      "source": [
        "Data Uniformity"
      ],
      "metadata": {
        "id": "_-z2YmqxfcPq"
      }
    },
    {
      "cell_type": "code",
      "source": [
        "#Information about the data:\n",
        "Spam.info()\n"
      ],
      "metadata": {
        "colab": {
          "base_uri": "https://localhost:8080/"
        },
        "id": "mH6tJeH4y_F6",
        "outputId": "abafd3c9-0e2f-4593-d40b-7f13beff880c"
      },
      "execution_count": null,
      "outputs": [
        {
          "output_type": "stream",
          "name": "stdout",
          "text": [
            "<class 'pandas.core.frame.DataFrame'>\n",
            "RangeIndex: 4601 entries, 0 to 4600\n",
            "Data columns (total 58 columns):\n",
            " #   Column                      Non-Null Count  Dtype  \n",
            "---  ------                      --------------  -----  \n",
            " 0   word_freq_make              4601 non-null   float64\n",
            " 1   word_freq_address           4601 non-null   float64\n",
            " 2   word_freq_all               4601 non-null   float64\n",
            " 3   word_freq_3d                4601 non-null   float64\n",
            " 4   word_freq_our               4601 non-null   float64\n",
            " 5   word_freq_over              4601 non-null   float64\n",
            " 6   word_freq_remove            4601 non-null   float64\n",
            " 7   word_freq_internet          4601 non-null   float64\n",
            " 8   word_freq_order             4601 non-null   float64\n",
            " 9   word_freq_mail              4601 non-null   float64\n",
            " 10  word_freq_receive           4601 non-null   float64\n",
            " 11  word_freq_will              4601 non-null   float64\n",
            " 12  word_freq_people            4601 non-null   float64\n",
            " 13  word_freq_report            4601 non-null   float64\n",
            " 14  word_freq_addresses         4601 non-null   float64\n",
            " 15  word_freq_free              4601 non-null   float64\n",
            " 16  word_freq_business          4601 non-null   float64\n",
            " 17  word_freq_email             4601 non-null   float64\n",
            " 18  word_freq_you               4601 non-null   float64\n",
            " 19  word_freq_credit            4601 non-null   float64\n",
            " 20  word_freq_your              4601 non-null   float64\n",
            " 21  word_freq_font              4601 non-null   float64\n",
            " 22  word_freq_000               4601 non-null   float64\n",
            " 23  word_freq_money             4601 non-null   float64\n",
            " 24  word_freq_hp                4601 non-null   float64\n",
            " 25  word_freq_hpl               4601 non-null   float64\n",
            " 26  word_freq_george            4601 non-null   float64\n",
            " 27  word_freq_650               4601 non-null   float64\n",
            " 28  word_freq_lab               4601 non-null   float64\n",
            " 29  word_freq_labs              4601 non-null   float64\n",
            " 30  word_freq_telnet            4601 non-null   float64\n",
            " 31  word_freq_857               4601 non-null   float64\n",
            " 32  word_freq_data              4601 non-null   float64\n",
            " 33  word_freq_415               4601 non-null   float64\n",
            " 34  word_freq_85                4601 non-null   float64\n",
            " 35  word_freq_technology        4601 non-null   float64\n",
            " 36  word_freq_1999              4601 non-null   float64\n",
            " 37  word_freq_parts             4601 non-null   float64\n",
            " 38  word_freq_pm                4601 non-null   float64\n",
            " 39  word_freq_direct            4601 non-null   float64\n",
            " 40  word_freq_cs                4601 non-null   float64\n",
            " 41  word_freq_meeting           4601 non-null   float64\n",
            " 42  word_freq_original          4601 non-null   float64\n",
            " 43  word_freq_project           4601 non-null   float64\n",
            " 44  word_freq_re                4601 non-null   float64\n",
            " 45  word_freq_edu               4601 non-null   float64\n",
            " 46  word_freq_table             4601 non-null   float64\n",
            " 47  word_freq_conference        4601 non-null   float64\n",
            " 48  char_freq_;                 4601 non-null   float64\n",
            " 49  char_freq_(                 4601 non-null   float64\n",
            " 50  char_freq_[                 4601 non-null   float64\n",
            " 51  char_freq_!                 4601 non-null   float64\n",
            " 52  char_freq_$                 4601 non-null   float64\n",
            " 53  char_freq_#                 4601 non-null   float64\n",
            " 54  capital_run_length_average  4601 non-null   float64\n",
            " 55  capital_run_length_longest  4601 non-null   int64  \n",
            " 56  capital_run_length_total    4601 non-null   int64  \n",
            " 57  spam                        4601 non-null   int64  \n",
            "dtypes: float64(55), int64(3)\n",
            "memory usage: 2.0 MB\n"
          ]
        }
      ]
    },
    {
      "cell_type": "markdown",
      "source": [
        "Missing/Duplicate Values"
      ],
      "metadata": {
        "id": "If5be1kSzS96"
      }
    },
    {
      "cell_type": "code",
      "metadata": {
        "colab": {
          "base_uri": "https://localhost:8080/"
        },
        "id": "Zuj4NtjA6jcv",
        "outputId": "3a73ec0b-5aa6-4935-d4f2-09f4b0f04f8c"
      },
      "source": [
        "#Checking for null entries in each column:\n",
        "Spam.isnull().sum()\n"
      ],
      "execution_count": null,
      "outputs": [
        {
          "output_type": "execute_result",
          "data": {
            "text/plain": [
              "word_freq_make                0\n",
              "word_freq_address             0\n",
              "word_freq_all                 0\n",
              "word_freq_3d                  0\n",
              "word_freq_our                 0\n",
              "word_freq_over                0\n",
              "word_freq_remove              0\n",
              "word_freq_internet            0\n",
              "word_freq_order               0\n",
              "word_freq_mail                0\n",
              "word_freq_receive             0\n",
              "word_freq_will                0\n",
              "word_freq_people              0\n",
              "word_freq_report              0\n",
              "word_freq_addresses           0\n",
              "word_freq_free                0\n",
              "word_freq_business            0\n",
              "word_freq_email               0\n",
              "word_freq_you                 0\n",
              "word_freq_credit              0\n",
              "word_freq_your                0\n",
              "word_freq_font                0\n",
              "word_freq_000                 0\n",
              "word_freq_money               0\n",
              "word_freq_hp                  0\n",
              "word_freq_hpl                 0\n",
              "word_freq_george              0\n",
              "word_freq_650                 0\n",
              "word_freq_lab                 0\n",
              "word_freq_labs                0\n",
              "word_freq_telnet              0\n",
              "word_freq_857                 0\n",
              "word_freq_data                0\n",
              "word_freq_415                 0\n",
              "word_freq_85                  0\n",
              "word_freq_technology          0\n",
              "word_freq_1999                0\n",
              "word_freq_parts               0\n",
              "word_freq_pm                  0\n",
              "word_freq_direct              0\n",
              "word_freq_cs                  0\n",
              "word_freq_meeting             0\n",
              "word_freq_original            0\n",
              "word_freq_project             0\n",
              "word_freq_re                  0\n",
              "word_freq_edu                 0\n",
              "word_freq_table               0\n",
              "word_freq_conference          0\n",
              "char_freq_;                   0\n",
              "char_freq_(                   0\n",
              "char_freq_[                   0\n",
              "char_freq_!                   0\n",
              "char_freq_$                   0\n",
              "char_freq_#                   0\n",
              "capital_run_length_average    0\n",
              "capital_run_length_longest    0\n",
              "capital_run_length_total      0\n",
              "spam                          0\n",
              "dtype: int64"
            ]
          },
          "metadata": {},
          "execution_count": 6
        }
      ]
    },
    {
      "cell_type": "code",
      "source": [
        "#Checking for duplicates:\n",
        "Spam.duplicated().sum()     #391 duplicates identified\n",
        "\n",
        "#Dropping duplicates:\n",
        "Spam.drop_duplicates(inplace=True)\n",
        "Spam.duplicated().sum()\n"
      ],
      "metadata": {
        "colab": {
          "base_uri": "https://localhost:8080/"
        },
        "id": "Tc5yeKzpz8Bn",
        "outputId": "107884d2-fc35-4041-9cf4-4e8d1d1f93c2"
      },
      "execution_count": null,
      "outputs": [
        {
          "output_type": "execute_result",
          "data": {
            "text/plain": [
              "0"
            ]
          },
          "metadata": {},
          "execution_count": 7
        }
      ]
    },
    {
      "cell_type": "markdown",
      "metadata": {
        "id": "PUx4vSj-QjEB"
      },
      "source": [
        "# **Data Exploration**"
      ]
    },
    {
      "cell_type": "markdown",
      "metadata": {
        "id": "dDQxWCJxR9vV"
      },
      "source": [
        "1. **Univariate Analysis**"
      ]
    },
    {
      "cell_type": "markdown",
      "metadata": {
        "id": "jk2CtohOR5Ik"
      },
      "source": [
        "This analysis describes the data in terms of:"
      ]
    },
    {
      "cell_type": "markdown",
      "metadata": {
        "id": "A-7_3m6mbEIo"
      },
      "source": [
        " - Spam/Non-Spam distribution"
      ]
    },
    {
      "cell_type": "code",
      "metadata": {
        "colab": {
          "base_uri": "https://localhost:8080/",
          "height": 321
        },
        "id": "FTlK0GgNN0lG",
        "outputId": "cae0dc7b-c73b-4725-9d0c-e81796b5ae7c"
      },
      "source": [
        "#Viewing the data in terms of spams and non-spams:\n",
        "spam = Spam['spam'].value_counts()\n",
        "spam\n",
        "# 0: 2,531(Non-spam)      1:  1,679(Spam)\n",
        "\n",
        "#Visualising the information on a pie chart:\n",
        "labels= ['Non-Spam','Spam']\n",
        "colors=['papayawhip', 'peachpuff']\n",
        "fontsize = 16\n",
        "plt.figure(figsize= (9, 5))\n",
        "plt.title(\"Spam Vs Non-Spam\", fontsize = fontsize)\n",
        "plt.pie(spam, labels=labels, colors=colors, startangle=180, shadow=True,explode=(0, 0.1), autopct='%1.2f%%')\n",
        "plt.axis('equal')\n",
        "plt.show()\n"
      ],
      "execution_count": null,
      "outputs": [
        {
          "output_type": "display_data",
          "data": {
            "image/png": "[encoded data removed]",
            "text/plain": [
              "<Figure size 648x360 with 1 Axes>"
            ]
          },
          "metadata": {}
        }
      ]
    },
    {
      "cell_type": "markdown",
      "source": [
        "40% of the E-mails are classified as Spam"
      ],
      "metadata": {
        "id": "wubLTBjdoo3o"
      }
    },
    {
      "cell_type": "markdown",
      "source": [
        " - Descriptive Summary"
      ],
      "metadata": {
        "id": "BvRcc5XwrBAI"
      }
    },
    {
      "cell_type": "code",
      "source": [
        "#To view the descriptive summary:\n",
        "Spam.describe()"
      ],
      "metadata": {
        "colab": {
          "base_uri": "https://localhost:8080/",
          "height": 320
        },
        "id": "MsldBSM9rF5O",
        "outputId": "1f48e656-8520-4a50-adc8-1ab37dd6d412"
      },
      "execution_count": null,
      "outputs": [
        {
          "output_type": "execute_result",
          "data": {
            "text/html": [
              "<div>\n",
              "<style scoped>\n",
              "    .dataframe tbody tr th:only-of-type {\n",
              "        vertical-align: middle;\n",
              "    }\n",
              "\n",
              "    .dataframe tbody tr th {\n",
              "        vertical-align: top;\n",
              "    }\n",
              "\n",
              "    .dataframe thead th {\n",
              "        text-align: right;\n",
              "    }\n",
              "</style>\n",
              "<table border=\"1\" class=\"dataframe\">\n",
              "  <thead>\n",
              "    <tr style=\"text-align: right;\">\n",
              "      <th></th>\n",
              "      <th>word_freq_make</th>\n",
              "      <th>word_freq_address</th>\n",
              "      <th>word_freq_all</th>\n",
              "      <th>word_freq_3d</th>\n",
              "      <th>word_freq_our</th>\n",
              "      <th>word_freq_over</th>\n",
              "      <th>word_freq_remove</th>\n",
              "      <th>word_freq_internet</th>\n",
              "      <th>word_freq_order</th>\n",
              "      <th>word_freq_mail</th>\n",
              "      <th>word_freq_receive</th>\n",
              "      <th>word_freq_will</th>\n",
              "      <th>word_freq_people</th>\n",
              "      <th>word_freq_report</th>\n",
              "      <th>word_freq_addresses</th>\n",
              "      <th>word_freq_free</th>\n",
              "      <th>word_freq_business</th>\n",
              "      <th>word_freq_email</th>\n",
              "      <th>word_freq_you</th>\n",
              "      <th>word_freq_credit</th>\n",
              "      <th>word_freq_your</th>\n",
              "      <th>word_freq_font</th>\n",
              "      <th>word_freq_000</th>\n",
              "      <th>word_freq_money</th>\n",
              "      <th>word_freq_hp</th>\n",
              "      <th>word_freq_hpl</th>\n",
              "      <th>word_freq_george</th>\n",
              "      <th>word_freq_650</th>\n",
              "      <th>word_freq_lab</th>\n",
              "      <th>word_freq_labs</th>\n",
              "      <th>word_freq_telnet</th>\n",
              "      <th>word_freq_857</th>\n",
              "      <th>word_freq_data</th>\n",
              "      <th>word_freq_415</th>\n",
              "      <th>word_freq_85</th>\n",
              "      <th>word_freq_technology</th>\n",
              "      <th>word_freq_1999</th>\n",
              "      <th>word_freq_parts</th>\n",
              "      <th>word_freq_pm</th>\n",
              "      <th>word_freq_direct</th>\n",
              "      <th>word_freq_cs</th>\n",
              "      <th>word_freq_meeting</th>\n",
              "      <th>word_freq_original</th>\n",
              "      <th>word_freq_project</th>\n",
              "      <th>word_freq_re</th>\n",
              "      <th>word_freq_edu</th>\n",
              "      <th>word_freq_table</th>\n",
              "      <th>word_freq_conference</th>\n",
              "      <th>char_freq_;</th>\n",
              "      <th>char_freq_(</th>\n",
              "      <th>char_freq_[</th>\n",
              "      <th>char_freq_!</th>\n",
              "      <th>char_freq_$</th>\n",
              "      <th>char_freq_#</th>\n",
              "      <th>capital_run_length_average</th>\n",
              "      <th>capital_run_length_longest</th>\n",
              "      <th>capital_run_length_total</th>\n",
              "      <th>spam</th>\n",
              "    </tr>\n",
              "  </thead>\n",
              "  <tbody>\n",
              "    <tr>\n",
              "      <th>count</th>\n",
              "      <td>4210.000000</td>\n",
              "      <td>4210.000000</td>\n",
              "      <td>4210.000000</td>\n",
              "      <td>4210.000000</td>\n",
              "      <td>4210.000000</td>\n",
              "      <td>4210.000000</td>\n",
              "      <td>4210.000000</td>\n",
              "      <td>4210.000000</td>\n",
              "      <td>4210.000000</td>\n",
              "      <td>4210.000000</td>\n",
              "      <td>4210.000000</td>\n",
              "      <td>4210.000000</td>\n",
              "      <td>4210.000000</td>\n",
              "      <td>4210.000000</td>\n",
              "      <td>4210.000000</td>\n",
              "      <td>4210.000000</td>\n",
              "      <td>4210.000000</td>\n",
              "      <td>4210.000000</td>\n",
              "      <td>4210.000000</td>\n",
              "      <td>4210.000000</td>\n",
              "      <td>4210.000000</td>\n",
              "      <td>4210.000000</td>\n",
              "      <td>4210.000000</td>\n",
              "      <td>4210.000000</td>\n",
              "      <td>4210.000000</td>\n",
              "      <td>4210.000000</td>\n",
              "      <td>4210.000000</td>\n",
              "      <td>4210.000000</td>\n",
              "      <td>4210.000000</td>\n",
              "      <td>4210.000000</td>\n",
              "      <td>4210.000000</td>\n",
              "      <td>4210.000000</td>\n",
              "      <td>4210.000000</td>\n",
              "      <td>4210.000000</td>\n",
              "      <td>4210.000000</td>\n",
              "      <td>4210.000000</td>\n",
              "      <td>4210.000000</td>\n",
              "      <td>4210.000000</td>\n",
              "      <td>4210.000000</td>\n",
              "      <td>4210.000000</td>\n",
              "      <td>4210.000000</td>\n",
              "      <td>4210.000000</td>\n",
              "      <td>4210.000000</td>\n",
              "      <td>4210.000000</td>\n",
              "      <td>4210.000000</td>\n",
              "      <td>4210.000000</td>\n",
              "      <td>4210.000000</td>\n",
              "      <td>4210.000000</td>\n",
              "      <td>4210.000000</td>\n",
              "      <td>4210.000000</td>\n",
              "      <td>4210.000000</td>\n",
              "      <td>4210.000000</td>\n",
              "      <td>4210.000000</td>\n",
              "      <td>4210.000000</td>\n",
              "      <td>4210.000000</td>\n",
              "      <td>4210.000000</td>\n",
              "      <td>4210.000000</td>\n",
              "      <td>4210.000000</td>\n",
              "    </tr>\n",
              "    <tr>\n",
              "      <th>mean</th>\n",
              "      <td>0.104366</td>\n",
              "      <td>0.112656</td>\n",
              "      <td>0.291473</td>\n",
              "      <td>0.063078</td>\n",
              "      <td>0.325321</td>\n",
              "      <td>0.096656</td>\n",
              "      <td>0.117475</td>\n",
              "      <td>0.108000</td>\n",
              "      <td>0.091860</td>\n",
              "      <td>0.248420</td>\n",
              "      <td>0.056686</td>\n",
              "      <td>0.565204</td>\n",
              "      <td>0.097656</td>\n",
              "      <td>0.061211</td>\n",
              "      <td>0.044803</td>\n",
              "      <td>0.253829</td>\n",
              "      <td>0.149154</td>\n",
              "      <td>0.188755</td>\n",
              "      <td>1.718368</td>\n",
              "      <td>0.084962</td>\n",
              "      <td>0.810040</td>\n",
              "      <td>0.131587</td>\n",
              "      <td>0.100622</td>\n",
              "      <td>0.090969</td>\n",
              "      <td>0.573995</td>\n",
              "      <td>0.279330</td>\n",
              "      <td>0.369838</td>\n",
              "      <td>0.128575</td>\n",
              "      <td>0.098382</td>\n",
              "      <td>0.103779</td>\n",
              "      <td>0.063544</td>\n",
              "      <td>0.044917</td>\n",
              "      <td>0.102333</td>\n",
              "      <td>0.045777</td>\n",
              "      <td>0.107881</td>\n",
              "      <td>0.099368</td>\n",
              "      <td>0.143482</td>\n",
              "      <td>0.014190</td>\n",
              "      <td>0.084057</td>\n",
              "      <td>0.061278</td>\n",
              "      <td>0.041432</td>\n",
              "      <td>0.141542</td>\n",
              "      <td>0.048772</td>\n",
              "      <td>0.085266</td>\n",
              "      <td>0.320124</td>\n",
              "      <td>0.189375</td>\n",
              "      <td>0.005786</td>\n",
              "      <td>0.034746</td>\n",
              "      <td>0.040403</td>\n",
              "      <td>0.144048</td>\n",
              "      <td>0.017376</td>\n",
              "      <td>0.281136</td>\n",
              "      <td>0.076057</td>\n",
              "      <td>0.045798</td>\n",
              "      <td>5.383896</td>\n",
              "      <td>52.139905</td>\n",
              "      <td>291.181948</td>\n",
              "      <td>0.398812</td>\n",
              "    </tr>\n",
              "    <tr>\n",
              "      <th>std</th>\n",
              "      <td>0.300005</td>\n",
              "      <td>0.454260</td>\n",
              "      <td>0.515719</td>\n",
              "      <td>1.352487</td>\n",
              "      <td>0.687805</td>\n",
              "      <td>0.276030</td>\n",
              "      <td>0.397284</td>\n",
              "      <td>0.410282</td>\n",
              "      <td>0.282144</td>\n",
              "      <td>0.656638</td>\n",
              "      <td>0.184167</td>\n",
              "      <td>0.882513</td>\n",
              "      <td>0.309309</td>\n",
              "      <td>0.346066</td>\n",
              "      <td>0.242186</td>\n",
              "      <td>0.797534</td>\n",
              "      <td>0.457669</td>\n",
              "      <td>0.541133</td>\n",
              "      <td>1.768760</td>\n",
              "      <td>0.505583</td>\n",
              "      <td>1.149352</td>\n",
              "      <td>1.071258</td>\n",
              "      <td>0.351336</td>\n",
              "      <td>0.431723</td>\n",
              "      <td>1.676539</td>\n",
              "      <td>0.905553</td>\n",
              "      <td>1.775330</td>\n",
              "      <td>0.535429</td>\n",
              "      <td>0.576796</td>\n",
              "      <td>0.439568</td>\n",
              "      <td>0.387267</td>\n",
              "      <td>0.300748</td>\n",
              "      <td>0.569146</td>\n",
              "      <td>0.301812</td>\n",
              "      <td>0.530263</td>\n",
              "      <td>0.386470</td>\n",
              "      <td>0.424508</td>\n",
              "      <td>0.230512</td>\n",
              "      <td>0.447991</td>\n",
              "      <td>0.319520</td>\n",
              "      <td>0.318177</td>\n",
              "      <td>0.793803</td>\n",
              "      <td>0.231871</td>\n",
              "      <td>0.646096</td>\n",
              "      <td>1.045914</td>\n",
              "      <td>0.928308</td>\n",
              "      <td>0.079170</td>\n",
              "      <td>0.298521</td>\n",
              "      <td>0.252533</td>\n",
              "      <td>0.274256</td>\n",
              "      <td>0.105731</td>\n",
              "      <td>0.843321</td>\n",
              "      <td>0.239708</td>\n",
              "      <td>0.435925</td>\n",
              "      <td>33.147358</td>\n",
              "      <td>199.582168</td>\n",
              "      <td>618.654838</td>\n",
              "      <td>0.489712</td>\n",
              "    </tr>\n",
              "    <tr>\n",
              "      <th>min</th>\n",
              "      <td>0.000000</td>\n",
              "      <td>0.000000</td>\n",
              "      <td>0.000000</td>\n",
              "      <td>0.000000</td>\n",
              "      <td>0.000000</td>\n",
              "      <td>0.000000</td>\n",
              "      <td>0.000000</td>\n",
              "      <td>0.000000</td>\n",
              "      <td>0.000000</td>\n",
              "      <td>0.000000</td>\n",
              "      <td>0.000000</td>\n",
              "      <td>0.000000</td>\n",
              "      <td>0.000000</td>\n",
              "      <td>0.000000</td>\n",
              "      <td>0.000000</td>\n",
              "      <td>0.000000</td>\n",
              "      <td>0.000000</td>\n",
              "      <td>0.000000</td>\n",
              "      <td>0.000000</td>\n",
              "      <td>0.000000</td>\n",
              "      <td>0.000000</td>\n",
              "      <td>0.000000</td>\n",
              "      <td>0.000000</td>\n",
              "      <td>0.000000</td>\n",
              "      <td>0.000000</td>\n",
              "      <td>0.000000</td>\n",
              "      <td>0.000000</td>\n",
              "      <td>0.000000</td>\n",
              "      <td>0.000000</td>\n",
              "      <td>0.000000</td>\n",
              "      <td>0.000000</td>\n",
              "      <td>0.000000</td>\n",
              "      <td>0.000000</td>\n",
              "      <td>0.000000</td>\n",
              "      <td>0.000000</td>\n",
              "      <td>0.000000</td>\n",
              "      <td>0.000000</td>\n",
              "      <td>0.000000</td>\n",
              "      <td>0.000000</td>\n",
              "      <td>0.000000</td>\n",
              "      <td>0.000000</td>\n",
              "      <td>0.000000</td>\n",
              "      <td>0.000000</td>\n",
              "      <td>0.000000</td>\n",
              "      <td>0.000000</td>\n",
              "      <td>0.000000</td>\n",
              "      <td>0.000000</td>\n",
              "      <td>0.000000</td>\n",
              "      <td>0.000000</td>\n",
              "      <td>0.000000</td>\n",
              "      <td>0.000000</td>\n",
              "      <td>0.000000</td>\n",
              "      <td>0.000000</td>\n",
              "      <td>0.000000</td>\n",
              "      <td>1.000000</td>\n",
              "      <td>1.000000</td>\n",
              "      <td>1.000000</td>\n",
              "      <td>0.000000</td>\n",
              "    </tr>\n",
              "    <tr>\n",
              "      <th>25%</th>\n",
              "      <td>0.000000</td>\n",
              "      <td>0.000000</td>\n",
              "      <td>0.000000</td>\n",
              "      <td>0.000000</td>\n",
              "      <td>0.000000</td>\n",
              "      <td>0.000000</td>\n",
              "      <td>0.000000</td>\n",
              "      <td>0.000000</td>\n",
              "      <td>0.000000</td>\n",
              "      <td>0.000000</td>\n",
              "      <td>0.000000</td>\n",
              "      <td>0.000000</td>\n",
              "      <td>0.000000</td>\n",
              "      <td>0.000000</td>\n",
              "      <td>0.000000</td>\n",
              "      <td>0.000000</td>\n",
              "      <td>0.000000</td>\n",
              "      <td>0.000000</td>\n",
              "      <td>0.000000</td>\n",
              "      <td>0.000000</td>\n",
              "      <td>0.000000</td>\n",
              "      <td>0.000000</td>\n",
              "      <td>0.000000</td>\n",
              "      <td>0.000000</td>\n",
              "      <td>0.000000</td>\n",
              "      <td>0.000000</td>\n",
              "      <td>0.000000</td>\n",
              "      <td>0.000000</td>\n",
              "      <td>0.000000</td>\n",
              "      <td>0.000000</td>\n",
              "      <td>0.000000</td>\n",
              "      <td>0.000000</td>\n",
              "      <td>0.000000</td>\n",
              "      <td>0.000000</td>\n",
              "      <td>0.000000</td>\n",
              "      <td>0.000000</td>\n",
              "      <td>0.000000</td>\n",
              "      <td>0.000000</td>\n",
              "      <td>0.000000</td>\n",
              "      <td>0.000000</td>\n",
              "      <td>0.000000</td>\n",
              "      <td>0.000000</td>\n",
              "      <td>0.000000</td>\n",
              "      <td>0.000000</td>\n",
              "      <td>0.000000</td>\n",
              "      <td>0.000000</td>\n",
              "      <td>0.000000</td>\n",
              "      <td>0.000000</td>\n",
              "      <td>0.000000</td>\n",
              "      <td>0.000000</td>\n",
              "      <td>0.000000</td>\n",
              "      <td>0.000000</td>\n",
              "      <td>0.000000</td>\n",
              "      <td>0.000000</td>\n",
              "      <td>1.627500</td>\n",
              "      <td>7.000000</td>\n",
              "      <td>40.000000</td>\n",
              "      <td>0.000000</td>\n",
              "    </tr>\n",
              "    <tr>\n",
              "      <th>50%</th>\n",
              "      <td>0.000000</td>\n",
              "      <td>0.000000</td>\n",
              "      <td>0.000000</td>\n",
              "      <td>0.000000</td>\n",
              "      <td>0.000000</td>\n",
              "      <td>0.000000</td>\n",
              "      <td>0.000000</td>\n",
              "      <td>0.000000</td>\n",
              "      <td>0.000000</td>\n",
              "      <td>0.000000</td>\n",
              "      <td>0.000000</td>\n",
              "      <td>0.190000</td>\n",
              "      <td>0.000000</td>\n",
              "      <td>0.000000</td>\n",
              "      <td>0.000000</td>\n",
              "      <td>0.000000</td>\n",
              "      <td>0.000000</td>\n",
              "      <td>0.000000</td>\n",
              "      <td>1.360000</td>\n",
              "      <td>0.000000</td>\n",
              "      <td>0.290000</td>\n",
              "      <td>0.000000</td>\n",
              "      <td>0.000000</td>\n",
              "      <td>0.000000</td>\n",
              "      <td>0.000000</td>\n",
              "      <td>0.000000</td>\n",
              "      <td>0.000000</td>\n",
              "      <td>0.000000</td>\n",
              "      <td>0.000000</td>\n",
              "      <td>0.000000</td>\n",
              "      <td>0.000000</td>\n",
              "      <td>0.000000</td>\n",
              "      <td>0.000000</td>\n",
              "      <td>0.000000</td>\n",
              "      <td>0.000000</td>\n",
              "      <td>0.000000</td>\n",
              "      <td>0.000000</td>\n",
              "      <td>0.000000</td>\n",
              "      <td>0.000000</td>\n",
              "      <td>0.000000</td>\n",
              "      <td>0.000000</td>\n",
              "      <td>0.000000</td>\n",
              "      <td>0.000000</td>\n",
              "      <td>0.000000</td>\n",
              "      <td>0.000000</td>\n",
              "      <td>0.000000</td>\n",
              "      <td>0.000000</td>\n",
              "      <td>0.000000</td>\n",
              "      <td>0.000000</td>\n",
              "      <td>0.073000</td>\n",
              "      <td>0.000000</td>\n",
              "      <td>0.016000</td>\n",
              "      <td>0.000000</td>\n",
              "      <td>0.000000</td>\n",
              "      <td>2.297000</td>\n",
              "      <td>15.000000</td>\n",
              "      <td>101.500000</td>\n",
              "      <td>0.000000</td>\n",
              "    </tr>\n",
              "    <tr>\n",
              "      <th>75%</th>\n",
              "      <td>0.000000</td>\n",
              "      <td>0.000000</td>\n",
              "      <td>0.440000</td>\n",
              "      <td>0.000000</td>\n",
              "      <td>0.410000</td>\n",
              "      <td>0.000000</td>\n",
              "      <td>0.000000</td>\n",
              "      <td>0.000000</td>\n",
              "      <td>0.000000</td>\n",
              "      <td>0.190000</td>\n",
              "      <td>0.000000</td>\n",
              "      <td>0.830000</td>\n",
              "      <td>0.000000</td>\n",
              "      <td>0.000000</td>\n",
              "      <td>0.000000</td>\n",
              "      <td>0.127500</td>\n",
              "      <td>0.000000</td>\n",
              "      <td>0.000000</td>\n",
              "      <td>2.720000</td>\n",
              "      <td>0.000000</td>\n",
              "      <td>1.280000</td>\n",
              "      <td>0.000000</td>\n",
              "      <td>0.000000</td>\n",
              "      <td>0.000000</td>\n",
              "      <td>0.097500</td>\n",
              "      <td>0.000000</td>\n",
              "      <td>0.000000</td>\n",
              "      <td>0.000000</td>\n",
              "      <td>0.000000</td>\n",
              "      <td>0.000000</td>\n",
              "      <td>0.000000</td>\n",
              "      <td>0.000000</td>\n",
              "      <td>0.000000</td>\n",
              "      <td>0.000000</td>\n",
              "      <td>0.000000</td>\n",
              "      <td>0.000000</td>\n",
              "      <td>0.000000</td>\n",
              "      <td>0.000000</td>\n",
              "      <td>0.000000</td>\n",
              "      <td>0.000000</td>\n",
              "      <td>0.000000</td>\n",
              "      <td>0.000000</td>\n",
              "      <td>0.000000</td>\n",
              "      <td>0.000000</td>\n",
              "      <td>0.170000</td>\n",
              "      <td>0.000000</td>\n",
              "      <td>0.000000</td>\n",
              "      <td>0.000000</td>\n",
              "      <td>0.000000</td>\n",
              "      <td>0.194000</td>\n",
              "      <td>0.000000</td>\n",
              "      <td>0.331000</td>\n",
              "      <td>0.053000</td>\n",
              "      <td>0.000000</td>\n",
              "      <td>3.706750</td>\n",
              "      <td>44.000000</td>\n",
              "      <td>273.750000</td>\n",
              "      <td>1.000000</td>\n",
              "    </tr>\n",
              "    <tr>\n",
              "      <th>max</th>\n",
              "      <td>4.540000</td>\n",
              "      <td>14.280000</td>\n",
              "      <td>5.100000</td>\n",
              "      <td>42.810000</td>\n",
              "      <td>10.000000</td>\n",
              "      <td>5.880000</td>\n",
              "      <td>7.270000</td>\n",
              "      <td>11.110000</td>\n",
              "      <td>5.260000</td>\n",
              "      <td>18.180000</td>\n",
              "      <td>2.610000</td>\n",
              "      <td>9.670000</td>\n",
              "      <td>5.550000</td>\n",
              "      <td>10.000000</td>\n",
              "      <td>4.410000</td>\n",
              "      <td>20.000000</td>\n",
              "      <td>7.140000</td>\n",
              "      <td>9.090000</td>\n",
              "      <td>18.750000</td>\n",
              "      <td>18.180000</td>\n",
              "      <td>11.110000</td>\n",
              "      <td>17.100000</td>\n",
              "      <td>5.450000</td>\n",
              "      <td>12.500000</td>\n",
              "      <td>20.830000</td>\n",
              "      <td>16.660000</td>\n",
              "      <td>33.330000</td>\n",
              "      <td>9.090000</td>\n",
              "      <td>14.280000</td>\n",
              "      <td>5.880000</td>\n",
              "      <td>12.500000</td>\n",
              "      <td>4.760000</td>\n",
              "      <td>18.180000</td>\n",
              "      <td>4.760000</td>\n",
              "      <td>20.000000</td>\n",
              "      <td>7.690000</td>\n",
              "      <td>6.890000</td>\n",
              "      <td>8.330000</td>\n",
              "      <td>11.110000</td>\n",
              "      <td>4.760000</td>\n",
              "      <td>7.140000</td>\n",
              "      <td>14.280000</td>\n",
              "      <td>3.570000</td>\n",
              "      <td>20.000000</td>\n",
              "      <td>21.420000</td>\n",
              "      <td>22.050000</td>\n",
              "      <td>2.170000</td>\n",
              "      <td>10.000000</td>\n",
              "      <td>4.385000</td>\n",
              "      <td>9.752000</td>\n",
              "      <td>4.081000</td>\n",
              "      <td>32.478000</td>\n",
              "      <td>6.003000</td>\n",
              "      <td>19.829000</td>\n",
              "      <td>1102.500000</td>\n",
              "      <td>9989.000000</td>\n",
              "      <td>15841.000000</td>\n",
              "      <td>1.000000</td>\n",
              "    </tr>\n",
              "  </tbody>\n",
              "</table>\n",
              "</div>"
            ],
            "text/plain": [
              "       word_freq_make  word_freq_address  ...  capital_run_length_total         spam\n",
              "count     4210.000000        4210.000000  ...               4210.000000  4210.000000\n",
              "mean         0.104366           0.112656  ...                291.181948     0.398812\n",
              "std          0.300005           0.454260  ...                618.654838     0.489712\n",
              "min          0.000000           0.000000  ...                  1.000000     0.000000\n",
              "25%          0.000000           0.000000  ...                 40.000000     0.000000\n",
              "50%          0.000000           0.000000  ...                101.500000     0.000000\n",
              "75%          0.000000           0.000000  ...                273.750000     1.000000\n",
              "max          4.540000          14.280000  ...              15841.000000     1.000000\n",
              "\n",
              "[8 rows x 58 columns]"
            ]
          },
          "metadata": {},
          "execution_count": 32
        }
      ]
    },
    {
      "cell_type": "markdown",
      "source": [
        "**Observations:**\n",
        "- From the descriptive summary, columns capturing information on the Capital run length longest and total have higher means of 52 and 291 respectiviely as compared with the Word and Character frequencies which range between 0.01 to 1.72. For this reason, Feature scaling during model training is necessary to avoid creating a bias.\n",
        "- 60% of the e-mails in the dataset are non-spam. With the class ratio of 60:40, no oversampling or undersampling technique is adopted since its considered a slight imbalance and cannot cause significant performance degradation. An ideal data sample ratio is 50:50 given 2 classes.\n"
      ],
      "metadata": {
        "id": "xf2qIl_ariLm"
      }
    },
    {
      "cell_type": "markdown",
      "metadata": {
        "id": "0yhJkntzjB1Z"
      },
      "source": [
        "# **Modelling**"
      ]
    },
    {
      "cell_type": "code",
      "metadata": {
        "colab": {
          "base_uri": "https://localhost:8080/",
          "height": 194
        },
        "id": "qyAQc0ZPm9pq",
        "outputId": "6e7c5cb2-6963-4ff3-89a5-af95c671ad8d"
      },
      "source": [
        "#1. Creating the modelling dataframe:\n",
        "Model = Spam.copy()\n",
        "Model.head(4)\n"
      ],
      "execution_count": null,
      "outputs": [
        {
          "output_type": "execute_result",
          "data": {
            "text/html": [
              "<div>\n",
              "<style scoped>\n",
              "    .dataframe tbody tr th:only-of-type {\n",
              "        vertical-align: middle;\n",
              "    }\n",
              "\n",
              "    .dataframe tbody tr th {\n",
              "        vertical-align: top;\n",
              "    }\n",
              "\n",
              "    .dataframe thead th {\n",
              "        text-align: right;\n",
              "    }\n",
              "</style>\n",
              "<table border=\"1\" class=\"dataframe\">\n",
              "  <thead>\n",
              "    <tr style=\"text-align: right;\">\n",
              "      <th></th>\n",
              "      <th>word_freq_make</th>\n",
              "      <th>word_freq_address</th>\n",
              "      <th>word_freq_all</th>\n",
              "      <th>word_freq_3d</th>\n",
              "      <th>word_freq_our</th>\n",
              "      <th>word_freq_over</th>\n",
              "      <th>word_freq_remove</th>\n",
              "      <th>word_freq_internet</th>\n",
              "      <th>word_freq_order</th>\n",
              "      <th>word_freq_mail</th>\n",
              "      <th>word_freq_receive</th>\n",
              "      <th>word_freq_will</th>\n",
              "      <th>word_freq_people</th>\n",
              "      <th>word_freq_report</th>\n",
              "      <th>word_freq_addresses</th>\n",
              "      <th>word_freq_free</th>\n",
              "      <th>word_freq_business</th>\n",
              "      <th>word_freq_email</th>\n",
              "      <th>word_freq_you</th>\n",
              "      <th>word_freq_credit</th>\n",
              "      <th>word_freq_your</th>\n",
              "      <th>word_freq_font</th>\n",
              "      <th>word_freq_000</th>\n",
              "      <th>word_freq_money</th>\n",
              "      <th>word_freq_hp</th>\n",
              "      <th>word_freq_hpl</th>\n",
              "      <th>word_freq_george</th>\n",
              "      <th>word_freq_650</th>\n",
              "      <th>word_freq_lab</th>\n",
              "      <th>word_freq_labs</th>\n",
              "      <th>word_freq_telnet</th>\n",
              "      <th>word_freq_857</th>\n",
              "      <th>word_freq_data</th>\n",
              "      <th>word_freq_415</th>\n",
              "      <th>word_freq_85</th>\n",
              "      <th>word_freq_technology</th>\n",
              "      <th>word_freq_1999</th>\n",
              "      <th>word_freq_parts</th>\n",
              "      <th>word_freq_pm</th>\n",
              "      <th>word_freq_direct</th>\n",
              "      <th>word_freq_cs</th>\n",
              "      <th>word_freq_meeting</th>\n",
              "      <th>word_freq_original</th>\n",
              "      <th>word_freq_project</th>\n",
              "      <th>word_freq_re</th>\n",
              "      <th>word_freq_edu</th>\n",
              "      <th>word_freq_table</th>\n",
              "      <th>word_freq_conference</th>\n",
              "      <th>char_freq_;</th>\n",
              "      <th>char_freq_(</th>\n",
              "      <th>char_freq_[</th>\n",
              "      <th>char_freq_!</th>\n",
              "      <th>char_freq_$</th>\n",
              "      <th>char_freq_#</th>\n",
              "      <th>capital_run_length_average</th>\n",
              "      <th>capital_run_length_longest</th>\n",
              "      <th>capital_run_length_total</th>\n",
              "      <th>spam</th>\n",
              "    </tr>\n",
              "  </thead>\n",
              "  <tbody>\n",
              "    <tr>\n",
              "      <th>0</th>\n",
              "      <td>0.00</td>\n",
              "      <td>0.64</td>\n",
              "      <td>0.64</td>\n",
              "      <td>0.0</td>\n",
              "      <td>0.32</td>\n",
              "      <td>0.00</td>\n",
              "      <td>0.00</td>\n",
              "      <td>0.00</td>\n",
              "      <td>0.00</td>\n",
              "      <td>0.00</td>\n",
              "      <td>0.00</td>\n",
              "      <td>0.64</td>\n",
              "      <td>0.00</td>\n",
              "      <td>0.00</td>\n",
              "      <td>0.00</td>\n",
              "      <td>0.32</td>\n",
              "      <td>0.00</td>\n",
              "      <td>1.29</td>\n",
              "      <td>1.93</td>\n",
              "      <td>0.00</td>\n",
              "      <td>0.96</td>\n",
              "      <td>0.0</td>\n",
              "      <td>0.00</td>\n",
              "      <td>0.00</td>\n",
              "      <td>0.0</td>\n",
              "      <td>0.0</td>\n",
              "      <td>0.0</td>\n",
              "      <td>0.0</td>\n",
              "      <td>0.0</td>\n",
              "      <td>0.0</td>\n",
              "      <td>0.0</td>\n",
              "      <td>0.0</td>\n",
              "      <td>0.0</td>\n",
              "      <td>0.0</td>\n",
              "      <td>0.0</td>\n",
              "      <td>0.0</td>\n",
              "      <td>0.00</td>\n",
              "      <td>0.0</td>\n",
              "      <td>0.0</td>\n",
              "      <td>0.00</td>\n",
              "      <td>0.0</td>\n",
              "      <td>0.0</td>\n",
              "      <td>0.00</td>\n",
              "      <td>0.0</td>\n",
              "      <td>0.00</td>\n",
              "      <td>0.00</td>\n",
              "      <td>0.0</td>\n",
              "      <td>0.0</td>\n",
              "      <td>0.00</td>\n",
              "      <td>0.000</td>\n",
              "      <td>0.0</td>\n",
              "      <td>0.778</td>\n",
              "      <td>0.000</td>\n",
              "      <td>0.000</td>\n",
              "      <td>3.756</td>\n",
              "      <td>61</td>\n",
              "      <td>278</td>\n",
              "      <td>1</td>\n",
              "    </tr>\n",
              "    <tr>\n",
              "      <th>1</th>\n",
              "      <td>0.21</td>\n",
              "      <td>0.28</td>\n",
              "      <td>0.50</td>\n",
              "      <td>0.0</td>\n",
              "      <td>0.14</td>\n",
              "      <td>0.28</td>\n",
              "      <td>0.21</td>\n",
              "      <td>0.07</td>\n",
              "      <td>0.00</td>\n",
              "      <td>0.94</td>\n",
              "      <td>0.21</td>\n",
              "      <td>0.79</td>\n",
              "      <td>0.65</td>\n",
              "      <td>0.21</td>\n",
              "      <td>0.14</td>\n",
              "      <td>0.14</td>\n",
              "      <td>0.07</td>\n",
              "      <td>0.28</td>\n",
              "      <td>3.47</td>\n",
              "      <td>0.00</td>\n",
              "      <td>1.59</td>\n",
              "      <td>0.0</td>\n",
              "      <td>0.43</td>\n",
              "      <td>0.43</td>\n",
              "      <td>0.0</td>\n",
              "      <td>0.0</td>\n",
              "      <td>0.0</td>\n",
              "      <td>0.0</td>\n",
              "      <td>0.0</td>\n",
              "      <td>0.0</td>\n",
              "      <td>0.0</td>\n",
              "      <td>0.0</td>\n",
              "      <td>0.0</td>\n",
              "      <td>0.0</td>\n",
              "      <td>0.0</td>\n",
              "      <td>0.0</td>\n",
              "      <td>0.07</td>\n",
              "      <td>0.0</td>\n",
              "      <td>0.0</td>\n",
              "      <td>0.00</td>\n",
              "      <td>0.0</td>\n",
              "      <td>0.0</td>\n",
              "      <td>0.00</td>\n",
              "      <td>0.0</td>\n",
              "      <td>0.00</td>\n",
              "      <td>0.00</td>\n",
              "      <td>0.0</td>\n",
              "      <td>0.0</td>\n",
              "      <td>0.00</td>\n",
              "      <td>0.132</td>\n",
              "      <td>0.0</td>\n",
              "      <td>0.372</td>\n",
              "      <td>0.180</td>\n",
              "      <td>0.048</td>\n",
              "      <td>5.114</td>\n",
              "      <td>101</td>\n",
              "      <td>1028</td>\n",
              "      <td>1</td>\n",
              "    </tr>\n",
              "    <tr>\n",
              "      <th>2</th>\n",
              "      <td>0.06</td>\n",
              "      <td>0.00</td>\n",
              "      <td>0.71</td>\n",
              "      <td>0.0</td>\n",
              "      <td>1.23</td>\n",
              "      <td>0.19</td>\n",
              "      <td>0.19</td>\n",
              "      <td>0.12</td>\n",
              "      <td>0.64</td>\n",
              "      <td>0.25</td>\n",
              "      <td>0.38</td>\n",
              "      <td>0.45</td>\n",
              "      <td>0.12</td>\n",
              "      <td>0.00</td>\n",
              "      <td>1.75</td>\n",
              "      <td>0.06</td>\n",
              "      <td>0.06</td>\n",
              "      <td>1.03</td>\n",
              "      <td>1.36</td>\n",
              "      <td>0.32</td>\n",
              "      <td>0.51</td>\n",
              "      <td>0.0</td>\n",
              "      <td>1.16</td>\n",
              "      <td>0.06</td>\n",
              "      <td>0.0</td>\n",
              "      <td>0.0</td>\n",
              "      <td>0.0</td>\n",
              "      <td>0.0</td>\n",
              "      <td>0.0</td>\n",
              "      <td>0.0</td>\n",
              "      <td>0.0</td>\n",
              "      <td>0.0</td>\n",
              "      <td>0.0</td>\n",
              "      <td>0.0</td>\n",
              "      <td>0.0</td>\n",
              "      <td>0.0</td>\n",
              "      <td>0.00</td>\n",
              "      <td>0.0</td>\n",
              "      <td>0.0</td>\n",
              "      <td>0.06</td>\n",
              "      <td>0.0</td>\n",
              "      <td>0.0</td>\n",
              "      <td>0.12</td>\n",
              "      <td>0.0</td>\n",
              "      <td>0.06</td>\n",
              "      <td>0.06</td>\n",
              "      <td>0.0</td>\n",
              "      <td>0.0</td>\n",
              "      <td>0.01</td>\n",
              "      <td>0.143</td>\n",
              "      <td>0.0</td>\n",
              "      <td>0.276</td>\n",
              "      <td>0.184</td>\n",
              "      <td>0.010</td>\n",
              "      <td>9.821</td>\n",
              "      <td>485</td>\n",
              "      <td>2259</td>\n",
              "      <td>1</td>\n",
              "    </tr>\n",
              "    <tr>\n",
              "      <th>3</th>\n",
              "      <td>0.00</td>\n",
              "      <td>0.00</td>\n",
              "      <td>0.00</td>\n",
              "      <td>0.0</td>\n",
              "      <td>0.63</td>\n",
              "      <td>0.00</td>\n",
              "      <td>0.31</td>\n",
              "      <td>0.63</td>\n",
              "      <td>0.31</td>\n",
              "      <td>0.63</td>\n",
              "      <td>0.31</td>\n",
              "      <td>0.31</td>\n",
              "      <td>0.31</td>\n",
              "      <td>0.00</td>\n",
              "      <td>0.00</td>\n",
              "      <td>0.31</td>\n",
              "      <td>0.00</td>\n",
              "      <td>0.00</td>\n",
              "      <td>3.18</td>\n",
              "      <td>0.00</td>\n",
              "      <td>0.31</td>\n",
              "      <td>0.0</td>\n",
              "      <td>0.00</td>\n",
              "      <td>0.00</td>\n",
              "      <td>0.0</td>\n",
              "      <td>0.0</td>\n",
              "      <td>0.0</td>\n",
              "      <td>0.0</td>\n",
              "      <td>0.0</td>\n",
              "      <td>0.0</td>\n",
              "      <td>0.0</td>\n",
              "      <td>0.0</td>\n",
              "      <td>0.0</td>\n",
              "      <td>0.0</td>\n",
              "      <td>0.0</td>\n",
              "      <td>0.0</td>\n",
              "      <td>0.00</td>\n",
              "      <td>0.0</td>\n",
              "      <td>0.0</td>\n",
              "      <td>0.00</td>\n",
              "      <td>0.0</td>\n",
              "      <td>0.0</td>\n",
              "      <td>0.00</td>\n",
              "      <td>0.0</td>\n",
              "      <td>0.00</td>\n",
              "      <td>0.00</td>\n",
              "      <td>0.0</td>\n",
              "      <td>0.0</td>\n",
              "      <td>0.00</td>\n",
              "      <td>0.137</td>\n",
              "      <td>0.0</td>\n",
              "      <td>0.137</td>\n",
              "      <td>0.000</td>\n",
              "      <td>0.000</td>\n",
              "      <td>3.537</td>\n",
              "      <td>40</td>\n",
              "      <td>191</td>\n",
              "      <td>1</td>\n",
              "    </tr>\n",
              "  </tbody>\n",
              "</table>\n",
              "</div>"
            ],
            "text/plain": [
              "   word_freq_make  word_freq_address  ...  capital_run_length_total  spam\n",
              "0            0.00               0.64  ...                       278     1\n",
              "1            0.21               0.28  ...                      1028     1\n",
              "2            0.06               0.00  ...                      2259     1\n",
              "3            0.00               0.00  ...                       191     1\n",
              "\n",
              "[4 rows x 58 columns]"
            ]
          },
          "metadata": {},
          "execution_count": 9
        }
      ]
    },
    {
      "cell_type": "markdown",
      "source": [
        "**Partitioning: 80-20**"
      ],
      "metadata": {
        "id": "EAE33IsIHakX"
      }
    },
    {
      "cell_type": "markdown",
      "metadata": {
        "id": "y_l103lVCwqB"
      },
      "source": [
        "For comparison purposes, the Logistic Regression model shall be used as the baseline model"
      ]
    },
    {
      "cell_type": "markdown",
      "source": [
        "**Logistic Regression**"
      ],
      "metadata": {
        "id": "0iWuBvorHuUe"
      }
    },
    {
      "cell_type": "code",
      "metadata": {
        "colab": {
          "base_uri": "https://localhost:8080/"
        },
        "id": "4DscYwoB1Fvc",
        "outputId": "2ba1b1bf-bedf-40c8-b2d6-905c3aed3b5d"
      },
      "source": [
        "#Creating the Variables:\n",
        "X = Model.drop('spam', axis=1)\n",
        "y = Model['spam']\n",
        "\n",
        "#Splitting the data into train and test:\n",
        "X_train, X_test, y_train, y_test = train_test_split(X, y, test_size=0.2, random_state= 0)\n",
        "\n",
        "#Printing the Shapes of the split data:\n",
        "print(f'X_train : {X_train.shape}')\n",
        "print(f'y_train : {y_train.shape}')\n",
        "print(f'X_test : {X_test.shape}')\n",
        "print(f'y_test : {y_test.shape}')\n"
      ],
      "execution_count": null,
      "outputs": [
        {
          "output_type": "stream",
          "name": "stdout",
          "text": [
            "X_train : (3368, 57)\n",
            "y_train : (3368,)\n",
            "X_test : (842, 57)\n",
            "y_test : (842,)\n"
          ]
        }
      ]
    },
    {
      "cell_type": "markdown",
      "metadata": {
        "id": "6zHfMCoYHwJA"
      },
      "source": [
        "Building a logistic regression model"
      ]
    },
    {
      "cell_type": "code",
      "metadata": {
        "id": "sCnmiL5z11lg"
      },
      "source": [
        "#Instantiating an object Log:\n",
        "Log = LogisticRegression()\n",
        "\n",
        "#Fitting the model:\n",
        "Log.fit(X_train,y_train )\n",
        "\n",
        "#Applying the trained model to make a prediction:\n",
        "y_pred = Log.predict(X_test)\n"
      ],
      "execution_count": null,
      "outputs": []
    },
    {
      "cell_type": "markdown",
      "metadata": {
        "id": "c5dChB96YYHr"
      },
      "source": [
        "Performance Evaluation"
      ]
    },
    {
      "cell_type": "code",
      "metadata": {
        "colab": {
          "base_uri": "https://localhost:8080/"
        },
        "id": "BZTaTr4l1-te",
        "outputId": "2a2b104b-d6d9-4ace-8c27-0ad1434deba7"
      },
      "source": [
        "#Checking the accuracy of the test and train models:\n",
        "print(f'Train Accuracy: {Log.score(X_train, y_train):.2f}')\n",
        "print(f'Test Accuracy: {Log.score(X_test, y_test):.2f}')\n"
      ],
      "execution_count": null,
      "outputs": [
        {
          "output_type": "stream",
          "name": "stdout",
          "text": [
            "Train Accuracy: 0.92\n",
            "Test Accuracy: 0.92\n"
          ]
        }
      ]
    },
    {
      "cell_type": "markdown",
      "metadata": {
        "id": "a4vXPBFPbBq4"
      },
      "source": [
        "The Training and Test set accuracy are very much comparable.\n",
        "\n",
        "Since the model is doing better on both the training and test set, there's no case of Overfitting. The Score also shows that just about 8% of the emails have been misclassified"
      ]
    },
    {
      "cell_type": "code",
      "metadata": {
        "colab": {
          "base_uri": "https://localhost:8080/"
        },
        "id": "3NSBbef-xWKU",
        "outputId": "0d764f91-1d20-438d-c46c-0cb0eaff9e53"
      },
      "source": [
        "#Checking the classification report:\n",
        "print(classification_report(y_test, y_pred))\n",
        "\n",
        "#Getting the Recall and Precision Scores:\n",
        "print('Precision Score: ', precision_score(y_test, y_pred).round(2))\n",
        "print('Recall Score: ', precision_score(y_test, y_pred).round(2))\n",
        "print('F1 Score: ', f1_score(y_test, y_pred).round(2))\n"
      ],
      "execution_count": null,
      "outputs": [
        {
          "output_type": "stream",
          "name": "stdout",
          "text": [
            "              precision    recall  f1-score   support\n",
            "\n",
            "           0       0.93      0.93      0.93       495\n",
            "           1       0.90      0.90      0.90       347\n",
            "\n",
            "    accuracy                           0.92       842\n",
            "   macro avg       0.91      0.91      0.91       842\n",
            "weighted avg       0.92      0.92      0.92       842\n",
            "\n",
            "Precision Score:  0.9\n",
            "Recall Score:  0.9\n",
            "F1 Score:  0.9\n"
          ]
        }
      ]
    },
    {
      "cell_type": "code",
      "source": [
        "#Using confusion matrix:\n",
        "print(confusion_matrix(y_test, y_pred))"
      ],
      "metadata": {
        "colab": {
          "base_uri": "https://localhost:8080/"
        },
        "id": "YOMvGTN850Pb",
        "outputId": "c30032e0-f72f-46b0-940a-2c39098b6fa4"
      },
      "execution_count": null,
      "outputs": [
        {
          "output_type": "stream",
          "name": "stdout",
          "text": [
            "[[460  35]\n",
            " [ 36 311]]\n"
          ]
        }
      ]
    },
    {
      "cell_type": "markdown",
      "source": [
        "35 and 36 are misclassifications in the 2 classes"
      ],
      "metadata": {
        "id": "93JtgpqHtwvd"
      }
    },
    {
      "cell_type": "markdown",
      "source": [
        "**Naive Bayes Classifier**"
      ],
      "metadata": {
        "id": "-ChYsJfr-2am"
      }
    },
    {
      "cell_type": "markdown",
      "source": [
        "Naive Bayes classifiers are a family of simple probabilistic classifiers based on applying Bayes’ theorem with strong independence assumptions between the features.\n",
        "\n",
        "The 3 different types of of Bayes classifiers are: Gaussian, Multinomial and Bernoulli.\n",
        "\n",
        "Gaussian is used on features that are continuous and their distribution is assumed to be Normal. Multinomial is mostly used for discrete counts or considers the frequency count/occurrences of the features {words in this case}. Bernoulli on the other hand cares about the presence or absence of a particular feature/word. It is adequate for features that are binary-valued.\n",
        "\n",
        "For this particluar data, since we are considering word/character frequencies, The Multinomial Bayes is adopted."
      ],
      "metadata": {
        "id": "fAv0rC6M9OZD"
      }
    },
    {
      "cell_type": "code",
      "source": [
        "#Model Selection:\n",
        "Nom = MultinomialNB()\n",
        "\n",
        "#Fitting the model:\n",
        "Nom.fit(X_train,y_train )\n",
        "\n",
        "#Applying the trained model to make a prediction:\n",
        "y_pred = Nom.predict(X_test)"
      ],
      "metadata": {
        "id": "Sdvk0DK9_UVp"
      },
      "execution_count": null,
      "outputs": []
    },
    {
      "cell_type": "code",
      "source": [
        "#Checking the accuracy of the model:\n",
        "print(f'Train Accuracy: {Nom.score(X_train, y_train):.2f}')\n",
        "print(f'Test Accuracy: {Nom.score(X_test, y_test):.2f}')"
      ],
      "metadata": {
        "colab": {
          "base_uri": "https://localhost:8080/"
        },
        "id": "v3Pc2CQs_faH",
        "outputId": "74fc36e5-e1d3-4cef-8e41-5682594f07f3"
      },
      "execution_count": null,
      "outputs": [
        {
          "output_type": "stream",
          "name": "stdout",
          "text": [
            "Train Accuracy: 0.79\n",
            "Test Accuracy: 0.77\n"
          ]
        }
      ]
    },
    {
      "cell_type": "markdown",
      "source": [
        "The baseline model is performing better than the Naive bayes with an accuracy of 92%"
      ],
      "metadata": {
        "id": "kz3aRP3k8Tnv"
      }
    },
    {
      "cell_type": "code",
      "source": [
        "#Checking the classification report:\n",
        "print(classification_report(y_test, y_pred))\n",
        "\n",
        "#Getting the Recall and Precision Scores:\n",
        "print('Precision Score: ', precision_score(y_test, y_pred).round(2))\n",
        "print('Recall Score: ', precision_score(y_test, y_pred).round(2))\n",
        "print('F1 Score: ', f1_score(y_test, y_pred).round(2))\n"
      ],
      "metadata": {
        "colab": {
          "base_uri": "https://localhost:8080/"
        },
        "id": "l2lo2Egv8NO3",
        "outputId": "be884899-ceab-4733-9893-8d43c35e1cac"
      },
      "execution_count": null,
      "outputs": [
        {
          "output_type": "stream",
          "name": "stdout",
          "text": [
            "              precision    recall  f1-score   support\n",
            "\n",
            "           0       0.78      0.84      0.81       495\n",
            "           1       0.74      0.67      0.71       347\n",
            "\n",
            "    accuracy                           0.77       842\n",
            "   macro avg       0.76      0.75      0.76       842\n",
            "weighted avg       0.77      0.77      0.77       842\n",
            "\n",
            "Precision Score:  0.74\n",
            "Recall Score:  0.74\n",
            "F1 Score:  0.71\n"
          ]
        }
      ]
    },
    {
      "cell_type": "code",
      "source": [
        "#Using confusion matrix:\n",
        "print(confusion_matrix(y_test, y_pred))\n"
      ],
      "metadata": {
        "colab": {
          "base_uri": "https://localhost:8080/"
        },
        "id": "jy1cbs0g_pUP",
        "outputId": "41faa0c6-d93d-4680-fff5-10eedda66909"
      },
      "execution_count": null,
      "outputs": [
        {
          "output_type": "stream",
          "name": "stdout",
          "text": [
            "[[415  80]\n",
            " [114 233]]\n"
          ]
        }
      ]
    },
    {
      "cell_type": "markdown",
      "source": [
        "The number of misclassifications across the classes is quite high, hence the model is performing poorly when it comes to identifying an email as spam"
      ],
      "metadata": {
        "id": "3GJbiRcNvbHn"
      }
    },
    {
      "cell_type": "markdown",
      "metadata": {
        "id": "5qBpl8ny3Uk2"
      },
      "source": [
        "**Hyperparameter Optimization**"
      ]
    },
    {
      "cell_type": "markdown",
      "source": [
        "To see if any improvement is observed on the accuracy when Normalization is performed:"
      ],
      "metadata": {
        "id": "lXGoDR9E_Sqo"
      }
    },
    {
      "cell_type": "markdown",
      "source": [
        "Performing Normalization"
      ],
      "metadata": {
        "id": "VHUwwhrnATtf"
      }
    },
    {
      "cell_type": "code",
      "source": [
        "#Feature Scaling:\n",
        "scaler = MinMaxScaler()\n",
        "X_train = scaler.fit_transform(X_train)\n",
        "X_test = scaler.fit_transform(X_test)\n",
        "\n",
        "#Model Selection:\n",
        "Mn = MultinomialNB()\n",
        "\n",
        "#Fitting the model:\n",
        "Mn.fit(X_train,y_train )\n",
        "\n",
        "#Applying the trained model to make a prediction:\n",
        "Y_pred = Mn.predict(X_test)"
      ],
      "metadata": {
        "id": "Lky8ucLRAZVv"
      },
      "execution_count": null,
      "outputs": []
    },
    {
      "cell_type": "code",
      "metadata": {
        "colab": {
          "base_uri": "https://localhost:8080/"
        },
        "id": "gaN4myYTu8Od",
        "outputId": "e4fa5050-5f65-4252-a3ea-0e97f62cf1f7"
      },
      "source": [
        "#Checking the Accuracy:\n",
        "print(f'Train Accuracy: {Mn.score(X_train, y_train):.2f}')\n",
        "Fore = print(f'Test Accuracy: {Mn.score(X_test, y_test):.2f}')\n"
      ],
      "execution_count": null,
      "outputs": [
        {
          "output_type": "stream",
          "name": "stdout",
          "text": [
            "Train Accuracy: 0.89\n",
            "Test Accuracy: 0.90\n"
          ]
        }
      ]
    },
    {
      "cell_type": "markdown",
      "source": [
        "After optimization, the accuracy improves from a 77% to 90%"
      ],
      "metadata": {
        "id": "XGJlIcRsvu6P"
      }
    },
    {
      "cell_type": "code",
      "source": [
        "#Checking the classification report:\n",
        "print(classification_report(y_test, Y_pred))\n",
        "\n",
        "#Getting the Recall and Precision Scores:\n",
        "print('Precision Score: ', precision_score(y_test, Y_pred).round(2))\n",
        "print('Recall Score: ', precision_score(y_test, Y_pred).round(2))\n",
        "print('F1 Score: ', f1_score(y_test, Y_pred).round(2))"
      ],
      "metadata": {
        "colab": {
          "base_uri": "https://localhost:8080/"
        },
        "id": "vM1NKW6f_4Ys",
        "outputId": "ba73941c-8efa-4b3a-fd7f-59144bd9b8bd"
      },
      "execution_count": null,
      "outputs": [
        {
          "output_type": "stream",
          "name": "stdout",
          "text": [
            "              precision    recall  f1-score   support\n",
            "\n",
            "           0       0.88      0.95      0.92       495\n",
            "           1       0.93      0.82      0.87       347\n",
            "\n",
            "    accuracy                           0.90       842\n",
            "   macro avg       0.90      0.89      0.89       842\n",
            "weighted avg       0.90      0.90      0.90       842\n",
            "\n",
            "Precision Score:  0.93\n",
            "Recall Score:  0.93\n",
            "F1 Score:  0.87\n"
          ]
        }
      ]
    },
    {
      "cell_type": "code",
      "metadata": {
        "colab": {
          "base_uri": "https://localhost:8080/"
        },
        "id": "5MM_RDArk2uP",
        "outputId": "ea9b82e4-46ea-435b-d51c-0740b06ad9b2"
      },
      "source": [
        "#Using confusion matrix:\n",
        "print(confusion_matrix(y_test, Y_pred))\n"
      ],
      "execution_count": null,
      "outputs": [
        {
          "output_type": "stream",
          "name": "stdout",
          "text": [
            "[[472  23]\n",
            " [ 63 284]]\n"
          ]
        }
      ]
    },
    {
      "cell_type": "markdown",
      "source": [
        "**Observations:**\n",
        "\n",
        "- The classifier made a total of 842 predictions.\n",
        "- Out of the 842 cases, the classifier predicted yes/Spammed 307 times and no/Non-spammed 535 times. In reality, there were 495 Non-spam emails  and 347 Spam emails.\n",
        "- There were 284 true negatives( cases where the actual and predicted values are no) and 472 true positives( cases where actual and predicted values are yes).\n",
        "- There were 23 false positives and 63 false negatives. These are the total misclassifications.\n",
        "- The true positive rate/recall score is 0.93. What this means is that, when the email is Spam, 90% of the times does the model predict correct.\n",
        "- When the model predicts Spammed, from the precision score, 93% of the times is correct.\n"
      ],
      "metadata": {
        "id": "M73BTH0Wt7ce"
      }
    },
    {
      "cell_type": "markdown",
      "metadata": {
        "id": "GPq77M_MGMAe"
      },
      "source": [
        "**Partitioning: 70 - 30**"
      ]
    },
    {
      "cell_type": "markdown",
      "source": [
        "**Baseline Model**"
      ],
      "metadata": {
        "id": "d02S0Pa5yuKq"
      }
    },
    {
      "cell_type": "code",
      "metadata": {
        "colab": {
          "base_uri": "https://localhost:8080/"
        },
        "id": "W-To8h6DGLi4",
        "outputId": "74448e66-e26f-4353-dc84-d1ed03a9e9ff"
      },
      "source": [
        "#Creating the Variables:\n",
        "X = Model.drop('spam', axis=1)\n",
        "y = Model['spam']\n",
        "\n",
        "#Splitting the data into train and test:\n",
        "X_train, X_test, y_train, y_test = train_test_split(X, y, test_size=0.3, random_state= 0)\n",
        "\n",
        "#Printing the Shapes of the split data:\n",
        "print(f'X_train : {X_train.shape}')\n",
        "print(f'y_train : {y_train.shape}')\n",
        "print(f'X_test : {X_test.shape}')\n",
        "print(f'y_test : {y_test.shape}')"
      ],
      "execution_count": null,
      "outputs": [
        {
          "output_type": "stream",
          "name": "stdout",
          "text": [
            "X_train : (2947, 57)\n",
            "y_train : (2947,)\n",
            "X_test : (1263, 57)\n",
            "y_test : (1263,)\n"
          ]
        }
      ]
    },
    {
      "cell_type": "code",
      "metadata": {
        "id": "pK-z6dDIGW--"
      },
      "source": [
        "#Model Selection without any hyperparameters:\n",
        "Log2 = LogisticRegression()\n",
        "\n",
        "#Fitting the model:\n",
        "Log2.fit(X_train,y_train )\n",
        "\n",
        "#Applying the trained model to make a prediction:\n",
        "y_pred = Log2.predict(X_test)\n"
      ],
      "execution_count": null,
      "outputs": []
    },
    {
      "cell_type": "markdown",
      "metadata": {
        "id": "XM70RzZQx2Ty"
      },
      "source": [
        "Performance Evaluation"
      ]
    },
    {
      "cell_type": "code",
      "metadata": {
        "colab": {
          "base_uri": "https://localhost:8080/"
        },
        "id": "4Yd5sZ0bGaUn",
        "outputId": "b30f0cd0-a30c-4405-f79b-c93bce3e7c92"
      },
      "source": [
        "#Checking the accuracy of the test and train models:\n",
        "print(f'Train Accuracy: {Log2.score(X_train, y_train):.2f}')\n",
        "print(f'Test Accuracy: {Log2.score(X_test, y_test):.2f}')"
      ],
      "execution_count": null,
      "outputs": [
        {
          "output_type": "stream",
          "name": "stdout",
          "text": [
            "Train Accuracy: 0.92\n",
            "Test Accuracy: 0.92\n"
          ]
        }
      ]
    },
    {
      "cell_type": "code",
      "metadata": {
        "colab": {
          "base_uri": "https://localhost:8080/"
        },
        "id": "Md6miMBbGdT2",
        "outputId": "89c0b1c1-e435-4837-c4f3-891047870b44"
      },
      "source": [
        "#Checking the classification report:\n",
        "print(classification_report(y_test, y_pred))\n",
        "\n",
        "#Getting the Recall and Precision Scores:\n",
        "print('Precision Score: ', precision_score(y_test, y_pred).round(2))\n",
        "print('Recall Score: ', precision_score(y_test, y_pred).round(2))\n",
        "print('F1 Score: ', f1_score(y_test, y_pred).round(2))"
      ],
      "execution_count": null,
      "outputs": [
        {
          "output_type": "stream",
          "name": "stdout",
          "text": [
            "              precision    recall  f1-score   support\n",
            "\n",
            "           0       0.94      0.92      0.93       737\n",
            "           1       0.89      0.91      0.90       526\n",
            "\n",
            "    accuracy                           0.92      1263\n",
            "   macro avg       0.91      0.91      0.91      1263\n",
            "weighted avg       0.92      0.92      0.92      1263\n",
            "\n",
            "Precision Score:  0.89\n",
            "Recall Score:  0.89\n",
            "F1 Score:  0.9\n"
          ]
        }
      ]
    },
    {
      "cell_type": "markdown",
      "source": [
        "The accuracy score on a different test size remains same at 92%"
      ],
      "metadata": {
        "id": "S8we7kKjzJSg"
      }
    },
    {
      "cell_type": "markdown",
      "source": [
        "**Naive Bayes Classifier**"
      ],
      "metadata": {
        "id": "heElyeg6EK7d"
      }
    },
    {
      "cell_type": "code",
      "source": [
        "#Model Selection:\n",
        "Nom2 = MultinomialNB()\n",
        "\n",
        "#Fitting the model:\n",
        "Nom2.fit(X_train,y_train )\n",
        "\n",
        "#Applying the trained model to make a prediction:\n",
        "y_pred = Nom2.predict(X_test)"
      ],
      "metadata": {
        "id": "BjugaKVxELtM"
      },
      "execution_count": null,
      "outputs": []
    },
    {
      "cell_type": "code",
      "source": [
        "#Checking the accuracy of the test and train models:\n",
        "print(f'Train Accuracy: {Nom2.score(X_train, y_train):.2f}')\n",
        "print(f'Test Accuracy: {Nom2.score(X_test, y_test):.2f}')"
      ],
      "metadata": {
        "colab": {
          "base_uri": "https://localhost:8080/"
        },
        "id": "SYo9Lf9SEZks",
        "outputId": "1bfe6b62-58af-4aeb-df51-bdee1db5ee96"
      },
      "execution_count": null,
      "outputs": [
        {
          "output_type": "stream",
          "name": "stdout",
          "text": [
            "Train Accuracy: 0.79\n",
            "Test Accuracy: 0.78\n"
          ]
        }
      ]
    },
    {
      "cell_type": "code",
      "source": [
        "#Checking the classification report:\n",
        "print(classification_report(y_test, y_pred))\n",
        "\n",
        "#Getting the Recall and Precision Scores:\n",
        "print('Precision Score: ', precision_score(y_test, y_pred).round(2))\n",
        "print('Recall Score: ', precision_score(y_test, y_pred).round(2))\n",
        "print('F1 Score: ', f1_score(y_test, y_pred).round(2))\n"
      ],
      "metadata": {
        "colab": {
          "base_uri": "https://localhost:8080/"
        },
        "id": "97B6p9EPC1zQ",
        "outputId": "57c633ab-6cc4-4929-bfe9-8156f88a324d"
      },
      "execution_count": null,
      "outputs": [
        {
          "output_type": "stream",
          "name": "stdout",
          "text": [
            "              precision    recall  f1-score   support\n",
            "\n",
            "           0       0.79      0.85      0.82       737\n",
            "           1       0.76      0.69      0.73       526\n",
            "\n",
            "    accuracy                           0.78      1263\n",
            "   macro avg       0.78      0.77      0.77      1263\n",
            "weighted avg       0.78      0.78      0.78      1263\n",
            "\n",
            "Precision Score:  0.76\n",
            "Recall Score:  0.76\n",
            "F1 Score:  0.73\n"
          ]
        }
      ]
    },
    {
      "cell_type": "code",
      "source": [
        "#Using confusion matrix:\n",
        "print(confusion_matrix(y_test, y_pred))\n"
      ],
      "metadata": {
        "colab": {
          "base_uri": "https://localhost:8080/"
        },
        "id": "LVY1sdrcEWpx",
        "outputId": "c5f1978e-6997-4823-e530-cffd96b3ed11"
      },
      "execution_count": null,
      "outputs": [
        {
          "output_type": "stream",
          "name": "stdout",
          "text": [
            "[[624 113]\n",
            " [162 364]]\n"
          ]
        }
      ]
    },
    {
      "cell_type": "markdown",
      "source": [
        "The baseline model is still performing better than the Bayes model before optimization with an accuracy of 92%"
      ],
      "metadata": {
        "id": "-eq9ljLNz4bl"
      }
    },
    {
      "cell_type": "markdown",
      "metadata": {
        "id": "RvUPTn6gx9Y1"
      },
      "source": [
        "**Hyperparameter Optimization**"
      ]
    },
    {
      "cell_type": "code",
      "source": [
        "#Feature Scaling:\n",
        "scaler = MinMaxScaler()\n",
        "X_train = scaler.fit_transform(X_train)\n",
        "X_test = scaler.fit_transform(X_test)\n",
        "\n",
        "#Model Selection:\n",
        "Mn2 = MultinomialNB()\n",
        "\n",
        "#Fitting the model:\n",
        "Mn2.fit(X_train,y_train )\n",
        "\n",
        "#Applying the trained model to make a prediction:\n",
        "Y_pred = Mn2.predict(X_test)"
      ],
      "metadata": {
        "id": "0xkQ8nWmE26s"
      },
      "execution_count": null,
      "outputs": []
    },
    {
      "cell_type": "code",
      "source": [
        "#Checking the accuracy of the test and train models:\n",
        "print(f'Train Accuracy: {Mn2.score(X_train, y_train):.2f}')\n",
        "print(f'Test Accuracy: {Mn2.score(X_test, y_test):.2f}')"
      ],
      "metadata": {
        "colab": {
          "base_uri": "https://localhost:8080/"
        },
        "id": "bXd0c-0VE7OZ",
        "outputId": "2d2e947a-9a88-4d09-e6a2-201197d86720"
      },
      "execution_count": null,
      "outputs": [
        {
          "output_type": "stream",
          "name": "stdout",
          "text": [
            "Train Accuracy: 0.88\n",
            "Test Accuracy: 0.90\n"
          ]
        }
      ]
    },
    {
      "cell_type": "code",
      "source": [
        "#Checking the classification report:\n",
        "print(classification_report(y_test, Y_pred))\n",
        "\n",
        "#Getting the Recall and Precision Scores:\n",
        "print('Precision Score: ', precision_score(y_test, Y_pred).round(2))\n",
        "print('Recall Score: ', precision_score(y_test, Y_pred).round(2))\n",
        "print('F1 Score: ', f1_score(y_test, Y_pred).round(2))"
      ],
      "metadata": {
        "colab": {
          "base_uri": "https://localhost:8080/"
        },
        "id": "38NdHmneDC2S",
        "outputId": "6c9d5107-4f2f-4632-cd24-49dc31106881"
      },
      "execution_count": null,
      "outputs": [
        {
          "output_type": "stream",
          "name": "stdout",
          "text": [
            "              precision    recall  f1-score   support\n",
            "\n",
            "           0       0.88      0.96      0.92       737\n",
            "           1       0.93      0.82      0.87       526\n",
            "\n",
            "    accuracy                           0.90      1263\n",
            "   macro avg       0.91      0.89      0.90      1263\n",
            "weighted avg       0.90      0.90      0.90      1263\n",
            "\n",
            "Precision Score:  0.93\n",
            "Recall Score:  0.93\n",
            "F1 Score:  0.87\n"
          ]
        }
      ]
    },
    {
      "cell_type": "code",
      "source": [
        "#Using confusion matrix:\n",
        "print(confusion_matrix(y_test, Y_pred))\n"
      ],
      "metadata": {
        "colab": {
          "base_uri": "https://localhost:8080/"
        },
        "id": "SrcICFXgFARw",
        "outputId": "797b1767-43de-42e5-b26c-71c79f6ade66"
      },
      "execution_count": null,
      "outputs": [
        {
          "output_type": "stream",
          "name": "stdout",
          "text": [
            "[[705  32]\n",
            " [ 94 432]]\n"
          ]
        }
      ]
    },
    {
      "cell_type": "markdown",
      "source": [
        "**Observations:**\n",
        "\n",
        "- The classifier made a total of 1,263 predictions.\n",
        "- Out of the 1,263 cases, the classifier predicted Spammed 464 times and Non-spammed 799 times. In reality, there were 737 Non-spammed emails  and 526 Spammed emails. The predictor is likely to always predict a given email as Non-spam. \n",
        "- There were 432 true negatives and 705 true positives.\n",
        "- There were 32 false positives and 94 false negatives. These are the total misclassifications.\n",
        "- The true positive rate is 0.93.\n"
      ],
      "metadata": {
        "id": "xeS17Er30b0S"
      }
    },
    {
      "cell_type": "markdown",
      "source": [
        "**Partitioning: 60 - 40**"
      ],
      "metadata": {
        "id": "K1OiH0A8FZL0"
      }
    },
    {
      "cell_type": "markdown",
      "source": [
        "**Baseline Model**"
      ],
      "metadata": {
        "id": "1dRG7Z-F2g05"
      }
    },
    {
      "cell_type": "code",
      "source": [
        "#Creating the Variables:\n",
        "X = Model.drop('spam', axis=1)\n",
        "y = Model['spam']\n",
        "\n",
        "#Splitting the data into train and test:\n",
        "X_train, X_test, y_train, y_test = train_test_split(X, y, test_size=0.4, random_state= 0)\n",
        "\n",
        "#Printing the Shapes of the split data:\n",
        "print(f'X_train : {X_train.shape}')\n",
        "print(f'y_train : {y_train.shape}')\n",
        "print(f'X_test : {X_test.shape}')\n",
        "print(f'y_test : {y_test.shape}')"
      ],
      "metadata": {
        "colab": {
          "base_uri": "https://localhost:8080/"
        },
        "id": "9PREcIrdFfFn",
        "outputId": "ba017266-46c3-4c36-cc71-35353d55c3f4"
      },
      "execution_count": null,
      "outputs": [
        {
          "output_type": "stream",
          "name": "stdout",
          "text": [
            "X_train : (2526, 57)\n",
            "y_train : (2526,)\n",
            "X_test : (1684, 57)\n",
            "y_test : (1684,)\n"
          ]
        }
      ]
    },
    {
      "cell_type": "code",
      "source": [
        "#Model Selection:\n",
        "Log3 = LogisticRegression()\n",
        "\n",
        "#Fitting the model:\n",
        "Log3.fit(X_train,y_train )\n",
        "\n",
        "#Applying the trained model to make a prediction:\n",
        "y_pred = Log3.predict(X_test)\n"
      ],
      "metadata": {
        "id": "OrKgwhmUFlQt"
      },
      "execution_count": null,
      "outputs": []
    },
    {
      "cell_type": "markdown",
      "metadata": {
        "id": "aheAU6i_3UaE"
      },
      "source": [
        "Model Performance"
      ]
    },
    {
      "cell_type": "code",
      "metadata": {
        "colab": {
          "base_uri": "https://localhost:8080/"
        },
        "id": "JmPMyq_SG8ZY",
        "outputId": "dc16b831-d44a-4752-c26c-3afb5c3038bc"
      },
      "source": [
        "#Checking the accuracy of the test and train models:\n",
        "print(f'Train Accuracy: {Log3.score(X_train, y_train):.2f}')\n",
        "print(f'Test Accuracy: {Log3.score(X_test, y_test):.2f}')"
      ],
      "execution_count": null,
      "outputs": [
        {
          "output_type": "stream",
          "name": "stdout",
          "text": [
            "Train Accuracy: 0.93\n",
            "Test Accuracy: 0.92\n"
          ]
        }
      ]
    },
    {
      "cell_type": "code",
      "source": [
        "#Checking the classification report:\n",
        "print(classification_report(y_test, y_pred))\n",
        "\n",
        "#Getting the Recall and Precision Scores:\n",
        "print('Precision Score: ', precision_score(y_test, y_pred).round(2))\n",
        "print('Recall Score: ', precision_score(y_test, y_pred).round(2))\n",
        "print('F1 Score: ', f1_score(y_test, y_pred).round(2))"
      ],
      "metadata": {
        "colab": {
          "base_uri": "https://localhost:8080/"
        },
        "id": "-Tkq_qs3DOoi",
        "outputId": "683f7c72-49fc-4e39-a3db-d208594a97db"
      },
      "execution_count": null,
      "outputs": [
        {
          "output_type": "stream",
          "name": "stdout",
          "text": [
            "              precision    recall  f1-score   support\n",
            "\n",
            "           0       0.93      0.93      0.93       994\n",
            "           1       0.89      0.90      0.90       690\n",
            "\n",
            "    accuracy                           0.92      1684\n",
            "   macro avg       0.91      0.91      0.91      1684\n",
            "weighted avg       0.92      0.92      0.92      1684\n",
            "\n",
            "Precision Score:  0.89\n",
            "Recall Score:  0.89\n",
            "F1 Score:  0.9\n"
          ]
        }
      ]
    },
    {
      "cell_type": "code",
      "metadata": {
        "colab": {
          "base_uri": "https://localhost:8080/"
        },
        "id": "mvPY0oY33XNK",
        "outputId": "1205d035-9b1f-4682-eda7-882ed6702c1b"
      },
      "source": [
        "#Using confusion matrix:\n",
        "print(confusion_matrix(y_test, y_pred))\n"
      ],
      "execution_count": null,
      "outputs": [
        {
          "output_type": "stream",
          "name": "stdout",
          "text": [
            "[[920  74]\n",
            " [ 67 623]]\n"
          ]
        }
      ]
    },
    {
      "cell_type": "markdown",
      "source": [
        "**Naive Bayes Classifier**"
      ],
      "metadata": {
        "id": "9nI5nVRaGKNN"
      }
    },
    {
      "cell_type": "code",
      "source": [
        "#Model Selection:\n",
        "Nom3 = MultinomialNB()\n",
        "\n",
        "#Fitting the model:\n",
        "Nom3.fit(X_train,y_train )\n",
        "\n",
        "#Applying the trained model to make a prediction:\n",
        "y_pred = Nom3.predict(X_test)"
      ],
      "metadata": {
        "id": "rGtRx5UBGJqg"
      },
      "execution_count": null,
      "outputs": []
    },
    {
      "cell_type": "code",
      "source": [
        "#Checking the accuracy of the test and train models:\n",
        "print(f'Train Accuracy: {Nom3.score(X_train, y_train):.2f}')\n",
        "print(f'Test Accuracy: {Nom3.score(X_test, y_test):.2f}')"
      ],
      "metadata": {
        "colab": {
          "base_uri": "https://localhost:8080/"
        },
        "id": "aE5eN7opGYgV",
        "outputId": "172dcf13-d74d-41be-d4be-02d85ddf64c2"
      },
      "execution_count": null,
      "outputs": [
        {
          "output_type": "stream",
          "name": "stdout",
          "text": [
            "Train Accuracy: 0.79\n",
            "Test Accuracy: 0.79\n"
          ]
        }
      ]
    },
    {
      "cell_type": "code",
      "source": [
        "#Checking the classification report:\n",
        "print(classification_report(y_test, y_pred))\n",
        "\n",
        "#Getting the Recall and Precision Scores:\n",
        "print('Precision Score: ', precision_score(y_test, y_pred).round(2))\n",
        "print('Recall Score: ', precision_score(y_test, y_pred).round(2))\n",
        "print('F1 Score: ', f1_score(y_test, y_pred).round(2))"
      ],
      "metadata": {
        "colab": {
          "base_uri": "https://localhost:8080/"
        },
        "id": "lApTLzCdDQXN",
        "outputId": "c4304cf8-084f-4ecb-d1c0-20d09f7e423a"
      },
      "execution_count": null,
      "outputs": [
        {
          "output_type": "stream",
          "name": "stdout",
          "text": [
            "              precision    recall  f1-score   support\n",
            "\n",
            "           0       0.81      0.84      0.83       994\n",
            "           1       0.76      0.72      0.74       690\n",
            "\n",
            "    accuracy                           0.79      1684\n",
            "   macro avg       0.79      0.78      0.78      1684\n",
            "weighted avg       0.79      0.79      0.79      1684\n",
            "\n",
            "Precision Score:  0.76\n",
            "Recall Score:  0.76\n",
            "F1 Score:  0.74\n"
          ]
        }
      ]
    },
    {
      "cell_type": "code",
      "source": [
        "#Using confusion matrix:\n",
        "print(confusion_matrix(y_test, y_pred))\n"
      ],
      "metadata": {
        "colab": {
          "base_uri": "https://localhost:8080/"
        },
        "id": "SUIARiRIGcz5",
        "outputId": "fa03b294-f658-4dc7-9987-7c33b84945f4"
      },
      "execution_count": null,
      "outputs": [
        {
          "output_type": "stream",
          "name": "stdout",
          "text": [
            "[[838 156]\n",
            " [192 498]]\n"
          ]
        }
      ]
    },
    {
      "cell_type": "markdown",
      "source": [
        "**Hyperparameter Optimization**"
      ],
      "metadata": {
        "id": "wzqSl0zWGhfF"
      }
    },
    {
      "cell_type": "code",
      "source": [
        "#Feature Scaling:\n",
        "scaler = MinMaxScaler()\n",
        "X_train = scaler.fit_transform(X_train)\n",
        "X_test = scaler.fit_transform(X_test)\n",
        "\n",
        "#Model Selection:\n",
        "Mn3 = MultinomialNB()\n",
        "\n",
        "#Fitting the model:\n",
        "Mn3.fit(X_train,y_train )\n",
        "\n",
        "#Applying the trained model to make a prediction:\n",
        "Y_pred = Mn3.predict(X_test)"
      ],
      "metadata": {
        "id": "57wqgXLvGS5w"
      },
      "execution_count": null,
      "outputs": []
    },
    {
      "cell_type": "code",
      "source": [
        "#Checking the accuracy of the test and train models:\n",
        "print(f'Train Accuracy: {Mn3.score(X_train, y_train):.2f}')\n",
        "print(f'Test Accuracy: {Mn3.score(X_test, y_test):.2f}')"
      ],
      "metadata": {
        "colab": {
          "base_uri": "https://localhost:8080/"
        },
        "id": "NrUcwVWRGkKV",
        "outputId": "5fcf1d72-4df1-4d22-bae6-01d0e3e4ca9d"
      },
      "execution_count": null,
      "outputs": [
        {
          "output_type": "stream",
          "name": "stdout",
          "text": [
            "Train Accuracy: 0.89\n",
            "Test Accuracy: 0.90\n"
          ]
        }
      ]
    },
    {
      "cell_type": "code",
      "source": [
        "#Checking the classification report:\n",
        "print(classification_report(y_test, Y_pred))\n",
        "\n",
        "#Getting the Recall and Precision Scores:\n",
        "print('Precision Score: ', precision_score(y_test, y_pred).round(2))\n",
        "print('Recall Score: ', precision_score(y_test, y_pred).round(2))\n",
        "print('F1 Score: ', f1_score(y_test, y_pred).round(2))"
      ],
      "metadata": {
        "colab": {
          "base_uri": "https://localhost:8080/"
        },
        "id": "3NGMH4tQDSXS",
        "outputId": "bb79c1a8-1923-4855-a6e1-505859738965"
      },
      "execution_count": null,
      "outputs": [
        {
          "output_type": "stream",
          "name": "stdout",
          "text": [
            "              precision    recall  f1-score   support\n",
            "\n",
            "           0       0.88      0.96      0.92       994\n",
            "           1       0.93      0.81      0.87       690\n",
            "\n",
            "    accuracy                           0.90      1684\n",
            "   macro avg       0.91      0.89      0.89      1684\n",
            "weighted avg       0.90      0.90      0.90      1684\n",
            "\n",
            "Precision Score:  0.76\n",
            "Recall Score:  0.76\n",
            "F1 Score:  0.74\n"
          ]
        }
      ]
    },
    {
      "cell_type": "code",
      "source": [
        "#Using confusion matrix:\n",
        "print(confusion_matrix(y_test, Y_pred))\n"
      ],
      "metadata": {
        "colab": {
          "base_uri": "https://localhost:8080/"
        },
        "id": "NNhy512DGnOR",
        "outputId": "c54bf1b5-661a-4f03-d565-cd1b54718972"
      },
      "execution_count": null,
      "outputs": [
        {
          "output_type": "stream",
          "name": "stdout",
          "text": [
            "[[953  41]\n",
            " [128 562]]\n"
          ]
        }
      ]
    },
    {
      "cell_type": "markdown",
      "source": [
        "**Observations:**\n",
        "\n",
        "- The classifier made a total of 1,684 predictions.\n",
        "- Out of the 1,684 cases, the classifier predicted Spammed 603 times and Non-spammed 1,081 times. In reality, there were 994 Non-spammed emails  and 690 Spammed emails. \n",
        "- There were 562 true negatives and 953 true positives.These are the correct classifications.\n",
        "- There were 41 false positives and 128 false negatives. These are the total misclassifications.\n",
        "- The true positive rate is 0.76.\n"
      ],
      "metadata": {
        "id": "AHJfi1tT4aUn"
      }
    },
    {
      "cell_type": "markdown",
      "source": [
        "# **Performance Analysis**"
      ],
      "metadata": {
        "id": "MIFe8-f75xXZ"
      }
    },
    {
      "cell_type": "markdown",
      "source": [
        "**Assessing Accuracy**"
      ],
      "metadata": {
        "id": "EWIO5BUT52kb"
      }
    },
    {
      "cell_type": "markdown",
      "source": [
        "- From the Multinomial Naive Bayes model, the accuracy score across the different test sizes remained the same.\n",
        "- The Naive model performed better after feature scaling. Before normalization, the accuracy ranged between 77-79%, after, the performance improved to 90%\n",
        "- In the first 2 partitioning: 80-20 and 70-30, the true positve rate was at 0.93. In the last one of 60-40, the rate was 0.76. As the training data reduced, so did the scores. Generalizing the change, with more training data, the model is able to learn the underlying distribution of the real data better. The first 2 partitionings in this case are preferred due to better scores"
      ],
      "metadata": {
        "id": "NLH1CThd56nh"
      }
    },
    {
      "cell_type": "markdown",
      "source": [
        "**Conclusions and Recommendations**"
      ],
      "metadata": {
        "id": "jklxJUjI96hQ"
      }
    },
    {
      "cell_type": "markdown",
      "source": [
        "- Naive Bayes delivered same results despite the size variation. Adding training data does not make the model any better. This makes it an easy algorithm to train as it can thrive with training on a very small and limited dataset.\n",
        "- There is no risk of overfitting in this model since its not sensitive to noisy features that are irrelevant.\n",
        "- To Improve the classifier:\n",
        " - Feature scaling is highly recommended.\n",
        " - Since the classifier assumes each feature makes an independent and equal contribution to the outcome, its good to test for any dependency. Checking for any irrelevant features during data cleaning can also be tested to see if the scores improve further.\n"
      ],
      "metadata": {
        "id": "8lk4whVE-D1Y"
      }
    }
  ]
}
